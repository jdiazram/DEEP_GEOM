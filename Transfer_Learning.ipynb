{
  "nbformat": 4,
  "nbformat_minor": 0,
  "metadata": {
    "language_info": {
      "codemirror_mode": {
        "name": "ipython",
        "version": 3
      },
      "file_extension": ".py",
      "mimetype": "text/x-python",
      "name": "python",
      "nbconvert_exporter": "python",
      "pygments_lexer": "ipython3",
      "version": "3.8.5-final"
    },
    "orig_nbformat": 2,
    "kernelspec": {
      "name": "python3",
      "display_name": "Python 3",
      "language": "python"
    },
    "colab": {
      "name": "Transfer_Learning.ipynb",
      "provenance": [],
      "collapsed_sections": [],
      "machine_shape": "hm",
      "toc_visible": true,
      "include_colab_link": true
    },
    "accelerator": "GPU"
  },
  "cells": [
    {
      "cell_type": "markdown",
      "metadata": {
        "id": "view-in-github",
        "colab_type": "text"
      },
      "source": [
        "<a href=\"https://colab.research.google.com/github/jdiazram/DEEP_GEOM/blob/master/Transfer_Learning.ipynb\" target=\"_parent\"><img src=\"https://colab.research.google.com/assets/colab-badge.svg\" alt=\"Open In Colab\"/></a>"
      ]
    },
    {
      "cell_type": "markdown",
      "metadata": {
        "id": "-LE42J3GWkf4"
      },
      "source": [
        "# Importar librerías"
      ]
    },
    {
      "cell_type": "code",
      "metadata": {
        "colab": {
          "base_uri": "https://localhost:8080/"
        },
        "id": "XKmmaLVDKHGL",
        "outputId": "2e6c5c05-9543-42b7-9bef-a53828a85572"
      },
      "source": [
        "import numpy as np #\n",
        "import glob\n",
        "import os\n",
        "import matplotlib.pyplot as plt\n",
        "import tensorflow as tf # Import TensorFlow \n",
        "print(tf.version.VERSION) # Check TensorFlow version\n",
        "import keras\n",
        "from keras.preprocessing.image import ImageDataGenerator, load_img, img_to_array, array_to_img\n",
        "\n",
        "%matplotlib inline \n",
        "#hará que las salidas de gráficos aparezcan y se almacenen en el cuaderno\n",
        "\n",
        "from IPython.display import clear_output #limpiar"
      ],
      "execution_count": null,
      "outputs": [
        {
          "output_type": "stream",
          "name": "stdout",
          "text": [
            "2.7.0\n"
          ]
        }
      ]
    },
    {
      "cell_type": "markdown",
      "metadata": {
        "id": "lHyJ2PA_aiZR"
      },
      "source": [
        "# Cargar base de datos"
      ]
    },
    {
      "cell_type": "code",
      "metadata": {
        "colab": {
          "base_uri": "https://localhost:8080/"
        },
        "id": "ixfMdmwfUx1N",
        "outputId": "c5539d72-2fc4-499f-88e4-78547a8884cb"
      },
      "source": [
        "# Carga de base de datos\n",
        "!wget https://www.dropbox.com/s/duigf1xgl38tb8o/DG_V2.zip\n",
        "!unzip DG_V2.zip\n",
        "!rm DG_V2.zip\n",
        "\n",
        "clear_output()\n",
        "print('Base de datos cargada')"
      ],
      "execution_count": null,
      "outputs": [
        {
          "output_type": "stream",
          "name": "stdout",
          "text": [
            "Base de datos cargada\n"
          ]
        }
      ]
    },
    {
      "cell_type": "markdown",
      "metadata": {
        "id": "rt1lGqfQasTT"
      },
      "source": [
        "# Preprocesamiento"
      ]
    },
    {
      "cell_type": "code",
      "metadata": {
        "colab": {
          "base_uri": "https://localhost:8080/"
        },
        "id": "15uoE-BCKHGN",
        "outputId": "4119da63-f6a9-41db-ac0f-a7557cbeb619"
      },
      "source": [
        "#carga de datos en variables\n",
        "IMG_DIM = (150, 150)\n",
        "\n",
        "train_files = glob.glob('training_data/*')\n",
        "train_imgs = [img_to_array(load_img(img, target_size=IMG_DIM)) for img in train_files]\n",
        "train_imgs = np.array(train_imgs)\n",
        "train_labels = [fn.split('/')[1].split('.')[0].strip() for fn in train_files]\n",
        "#print(train_labels)\n",
        "\n",
        "validation_files = glob.glob('validation_data/*')\n",
        "validation_imgs = [img_to_array(load_img(img, target_size=IMG_DIM)) for img in validation_files]\n",
        "validation_imgs = np.array(validation_imgs)\n",
        "validation_labels = [fn.split('/')[1].split('.')[0].strip() for fn in validation_files]\n",
        "#print(validation_labels)\n",
        "print('Train dataset shape:', train_imgs.shape) \n",
        "print('Validation dataset shape:', validation_imgs.shape)\n",
        "mf_validation = validation_imgs.shape[0]"
      ],
      "execution_count": null,
      "outputs": [
        {
          "output_type": "stream",
          "name": "stdout",
          "text": [
            "Train dataset shape: (7000, 150, 150, 3)\n",
            "Validation dataset shape: (875, 150, 150, 3)\n"
          ]
        }
      ]
    },
    {
      "cell_type": "code",
      "metadata": {
        "colab": {
          "base_uri": "https://localhost:8080/",
          "height": 185
        },
        "id": "jz53HO4UKHGO",
        "outputId": "636f5ef9-9897-4d5e-b0d9-367d30ef837e"
      },
      "source": [
        "#normalizacion\n",
        "train_imgs_scaled = train_imgs.astype('float32')\n",
        "validation_imgs_scaled  = validation_imgs.astype('float32')\n",
        "train_imgs_scaled /= 255\n",
        "validation_imgs_scaled /= 255\n",
        "\n",
        "print(train_imgs[2556].shape)\n",
        "array_to_img(train_imgs[2556])"
      ],
      "execution_count": null,
      "outputs": [
        {
          "output_type": "stream",
          "name": "stdout",
          "text": [
            "(150, 150, 3)\n"
          ]
        },
        {
          "output_type": "execute_result",
          "data": {
            "image/png": "[encoded data removed]",
            "text/plain": [
              "<PIL.Image.Image image mode=RGB size=150x150 at 0x7F9E66887C10>"
            ]
          },
          "metadata": {},
          "execution_count": 4
        }
      ]
    },
    {
      "cell_type": "code",
      "metadata": {
        "colab": {
          "base_uri": "https://localhost:8080/"
        },
        "id": "o1t39OUQKHGO",
        "outputId": "7869a303-a032-4289-fd5a-d184b2c3f480"
      },
      "source": [
        "#Codificación los LABEL mediante One Hot Encoding\n",
        "batch_size = 30\n",
        "num_classes = 7\n",
        "epochs = 30\n",
        "input_shape = (150, 150, 3)\n",
        "\n",
        "# encode text category labels\n",
        "from sklearn.preprocessing import LabelEncoder\n",
        "from tensorflow.keras.utils import to_categorical\n",
        "\n",
        "le = LabelEncoder()\n",
        "le.fit(train_labels)\n",
        "train_labels_enc = le.transform(train_labels)\n",
        "train_labels_enc = to_categorical(train_labels_enc, num_classes)\n",
        "validation_labels_enc = le.transform(validation_labels)\n",
        "validation_labels_enc = to_categorical(validation_labels_enc, num_classes)\n",
        "\n",
        "print(train_labels[455:465]) \n",
        "print(train_labels_enc[455:465]) #ejemplo de rango"
      ],
      "execution_count": null,
      "outputs": [
        {
          "output_type": "stream",
          "name": "stdout",
          "text": [
            "['trapecio', 'cuadrado', 'cuadrado', 'elipse', 'elipse', 'rombo', 'elipse', 'cuadrado', 'rombo', 'rectangulo']\n",
            "[[0. 0. 0. 0. 0. 1. 0.]\n",
            " [0. 1. 0. 0. 0. 0. 0.]\n",
            " [0. 1. 0. 0. 0. 0. 0.]\n",
            " [0. 0. 1. 0. 0. 0. 0.]\n",
            " [0. 0. 1. 0. 0. 0. 0.]\n",
            " [0. 0. 0. 0. 1. 0. 0.]\n",
            " [0. 0. 1. 0. 0. 0. 0.]\n",
            " [0. 1. 0. 0. 0. 0. 0.]\n",
            " [0. 0. 0. 0. 1. 0. 0.]\n",
            " [0. 0. 0. 1. 0. 0. 0.]]\n"
          ]
        }
      ]
    },
    {
      "cell_type": "code",
      "metadata": {
        "colab": {
          "base_uri": "https://localhost:8080/"
        },
        "id": "s5JxDaUKKHGP",
        "outputId": "bb92ee4e-04a7-46f1-c345-d7cef731b1b0"
      },
      "source": [
        "#data augmentation\n",
        "train_datagen = ImageDataGenerator(rescale=1./255, zoom_range=0.3, rotation_range=40,\n",
        "                                   width_shift_range=0.2, height_shift_range=0.2, shear_range=0.2, \n",
        "                                   horizontal_flip=True, fill_mode='nearest')\n",
        "\n",
        "val_datagen = ImageDataGenerator(rescale=1./255)\n",
        "\n",
        "train_generator = train_datagen.flow(train_imgs, train_labels_enc, batch_size=30, shuffle=True)\n",
        "val_generator = val_datagen.flow(validation_imgs, validation_labels_enc, batch_size=30, shuffle=True)\n",
        "#input_shape = (150, 150, 3)\n",
        "print(train_generator.n)\n",
        "print(val_generator.n)"
      ],
      "execution_count": null,
      "outputs": [
        {
          "output_type": "stream",
          "name": "stdout",
          "text": [
            "7000\n",
            "875\n"
          ]
        }
      ]
    },
    {
      "cell_type": "markdown",
      "metadata": {
        "id": "Yrb14D5eeAe1"
      },
      "source": [
        "# Modelo Pre-entrenado"
      ]
    },
    {
      "cell_type": "code",
      "metadata": {
        "id": "HEvNWiR5nE1E",
        "colab": {
          "base_uri": "https://localhost:8080/"
        },
        "outputId": "f0ae851a-acbd-41bb-a287-2100c8ea3147"
      },
      "source": [
        "from keras.layers import Conv2D, MaxPooling2D, Flatten, Dense, Dropout\n",
        "# todos los modelos preentrenados posibles de usar\n",
        "#pretrained_model = tf.keras.applications.DenseNet201(weights='imagenet', include_top=False ,input_shape=[*IMG_DIM, 3])\n",
        "#pretrained_model = tf.keras.applications.DenseNet169(weights='imagenet', include_top=False ,input_shape=[*IMG_DIM, 3])\n",
        "#pretrained_model = tf.keras.applications.DenseNet121(weights='imagenet', include_top=False ,input_shape=[*IMG_DIM, 3])\n",
        "#pretrained_model = tf.keras.applications.VGG16(weights='imagenet', include_top=False ,input_shape=[*IMG_DIM, 3])\n",
        "#pretrained_model = tf.keras.applications.VGG19(weights='imagenet', include_top=False ,input_shape=[*IMG_DIM, 3])\n",
        "#pretrained_model = tf.keras.applications.ResNet50(weights='imagenet', include_top=False, input_shape=[*IMG_DIM, 3]) \n",
        "#pretrained_model = tf.keras.applications.ResNet50V2(weights='imagenet', include_top=False, input_shape=[*IMG_DIM, 3])\n",
        "#pretrained_model = tf.keras.applications.ResNet101V2(weights='imagenet', include_top=False, input_shape=[*IMG_DIM, 3])\n",
        "#pretrained_model = tf.keras.applications.ResNet152V2(weights='imagenet', include_top=False, input_shape=[*IMG_DIM, 3])\n",
        "pretrained_model = tf.keras.applications.InceptionResNetV2(weights='imagenet', include_top=False, input_shape=[*IMG_DIM, 3])\n",
        "#pretrained_model = tf.keras.applications.InceptionV3(weights='imagenet', include_top=False, input_shape=[*IMG_DIM, 3])\n",
        "#pretrained_model = tf.keras.applications.Xception(weights='imagenet', input_shape=[*IMG_DIM, 3], include_top=False) \n",
        "#pretrained_model = tf.keras.applications.MobileNetV2(input_shape=[*IMG_DIM, 3], include_top=False) \n",
        "#uno de los mejores resultados de accuracy junto con DenseNet121\n",
        "#pretrained_model = tf.keras.applications.MobileNet(weights='imagenet', include_top=False, input_shape=[*IMG_DIM, 3])\n",
        "pretrained_model.trainable = False"
      ],
      "execution_count": null,
      "outputs": [
        {
          "output_type": "stream",
          "name": "stdout",
          "text": [
            "Downloading data from https://storage.googleapis.com/tensorflow/keras-applications/inception_resnet_v2/inception_resnet_v2_weights_tf_dim_ordering_tf_kernels_notop.h5\n",
            "219062272/219055592 [==============================] - 1s 0us/step\n",
            "219070464/219055592 [==============================] - 1s 0us/step\n"
          ]
        }
      ]
    },
    {
      "cell_type": "code",
      "metadata": {
        "id": "5WBCU1OseHoY"
      },
      "source": [
        "#configuraciones posibles de los modelos, solo usar 1\n",
        "config_0 = [ #solo modelo transfer learning con M5\n",
        "    pretrained_model,\n",
        "    Flatten(),\n",
        "    Dense(7, activation='softmax')\n",
        "]\n",
        "\n",
        "config_1 = [ #modelo M6 base\n",
        "    pretrained_model,\n",
        "    Flatten(),\n",
        "    Dense(128, activation='relu'),\n",
        "    Dense(7, activation='softmax')\n",
        "]\n",
        "\n",
        "config_2 = [ #modelo M7 base\n",
        "    pretrained_model,\n",
        "    Flatten(),\n",
        "    Dense(128, activation='relu'),\n",
        "    Dense(256, activation='relu'),\n",
        "    Dense(7, activation='softmax')\n",
        "]\n",
        "\n",
        "config_3 = [ #modelo M8 base\n",
        "    pretrained_model,\n",
        "    Flatten(),\n",
        "    Dense(128, activation='relu'),\n",
        "    Dense(256, activation='relu'),\n",
        "    Dense(512, activation='relu'),\n",
        "    Dense(7, activation='softmax')\n",
        "]\n",
        "\n",
        "config_4 = [ #modelo M9 base\n",
        "    pretrained_model,\n",
        "    Flatten(),\n",
        "    Dense(128, activation='relu'),\n",
        "    Dense(256, activation='relu'),\n",
        "    Dense(512, activation='relu'),\n",
        "    Dense(512, activation='relu'),\n",
        "    Dense(7, activation='softmax')\n",
        "]"
      ],
      "execution_count": null,
      "outputs": []
    },
    {
      "cell_type": "code",
      "metadata": {
        "colab": {
          "base_uri": "https://localhost:8080/"
        },
        "id": "NWm6nTLjKHGQ",
        "outputId": "248bf4b8-4861-448d-cfd6-02895a9ae54a"
      },
      "source": [
        "#modelo\n",
        "with tf.device('/device:GPU:0'):\n",
        "  model = tf.keras.Sequential(config_2)\n",
        "\n",
        "  model.compile(\n",
        "      optimizer='adam',\n",
        "      loss = 'categorical_crossentropy',\n",
        "      metrics=['accuracy']\n",
        "  )\n",
        "\n",
        "model.summary()"
      ],
      "execution_count": null,
      "outputs": [
        {
          "output_type": "stream",
          "name": "stdout",
          "text": [
            "Model: \"sequential\"\n",
            "_________________________________________________________________\n",
            " Layer (type)                Output Shape              Param #   \n",
            "=================================================================\n",
            " inception_resnet_v2 (Functi  (None, 3, 3, 1536)       54336736  \n",
            " onal)                                                           \n",
            "                                                                 \n",
            " flatten_2 (Flatten)         (None, 13824)             0         \n",
            "                                                                 \n",
            " dense_3 (Dense)             (None, 128)               1769600   \n",
            "                                                                 \n",
            " dense_4 (Dense)             (None, 256)               33024     \n",
            "                                                                 \n",
            " dense_5 (Dense)             (None, 7)                 1799      \n",
            "                                                                 \n",
            "=================================================================\n",
            "Total params: 56,141,159\n",
            "Trainable params: 1,804,423\n",
            "Non-trainable params: 54,336,736\n",
            "_________________________________________________________________\n"
          ]
        }
      ]
    },
    {
      "cell_type": "code",
      "metadata": {
        "id": "Q8BpQBQxKHGK"
      },
      "source": [
        "#para calcular el tiempo de entrenamiento\n",
        "import time\n",
        "start = time.time() #partiendo"
      ],
      "execution_count": null,
      "outputs": []
    },
    {
      "cell_type": "markdown",
      "metadata": {
        "id": "Gi9HBHggf6bD"
      },
      "source": [
        "# Entrenamiento"
      ]
    },
    {
      "cell_type": "markdown",
      "metadata": {
        "id": "sga06mSsf_lX"
      },
      "source": [
        "Los steps_per_epoch y epochs para los experimentos variaron de la siguiente forma:\n",
        "*   steps_per_epoch = 30 | epochs = 30\n",
        "*   steps_per_epoch = 30 | epochs = 100\n",
        "*   steps_per_epoch = 86 | epochs = 100\n",
        "*   steps_per_epoch = 233 | epochs = 100\n",
        "\n",
        "Y según la configuracion anterior, se usó Dropout o no\n",
        "\n"
      ]
    },
    {
      "cell_type": "code",
      "metadata": {
        "colab": {
          "base_uri": "https://localhost:8080/"
        },
        "id": "CbCL5nZ5KHGQ",
        "outputId": "9f0be82a-689c-4e20-e100-f1729ec5a674"
      },
      "source": [
        "with tf.device('/device:GPU:0'):\n",
        "  steps_per_epoch = train_generator.n//train_generator.batch_size\n",
        "  epochs = 100\n",
        "\n",
        "  STEP_SIZE_VAL=val_generator.n//val_generator.batch_size\n",
        "\n",
        "  history = model.fit(train_generator, steps_per_epoch=steps_per_epoch, epochs=epochs, validation_data=val_generator, validation_steps=STEP_SIZE_VAL)"
      ],
      "execution_count": null,
      "outputs": [
        {
          "output_type": "stream",
          "name": "stdout",
          "text": [
            "Epoch 1/100\n",
            "233/233 [==============================] - 64s 190ms/step - loss: 1.0683 - accuracy: 0.6224 - val_loss: 0.7170 - val_accuracy: 0.7414\n",
            "Epoch 2/100\n",
            "233/233 [==============================] - 41s 174ms/step - loss: 0.7635 - accuracy: 0.7158 - val_loss: 0.6478 - val_accuracy: 0.7598\n",
            "Epoch 3/100\n",
            "233/233 [==============================] - 41s 174ms/step - loss: 0.6627 - accuracy: 0.7505 - val_loss: 0.5654 - val_accuracy: 0.7759\n",
            "Epoch 4/100\n",
            "233/233 [==============================] - 41s 174ms/step - loss: 0.6533 - accuracy: 0.7525 - val_loss: 0.6138 - val_accuracy: 0.7529\n",
            "Epoch 5/100\n",
            "233/233 [==============================] - 40s 172ms/step - loss: 0.6138 - accuracy: 0.7641 - val_loss: 0.5254 - val_accuracy: 0.8069\n",
            "Epoch 6/100\n",
            "233/233 [==============================] - 40s 172ms/step - loss: 0.5868 - accuracy: 0.7803 - val_loss: 0.5283 - val_accuracy: 0.8023\n",
            "Epoch 7/100\n",
            "233/233 [==============================] - 40s 172ms/step - loss: 0.5899 - accuracy: 0.7811 - val_loss: 0.5891 - val_accuracy: 0.7851\n",
            "Epoch 8/100\n",
            "233/233 [==============================] - 40s 172ms/step - loss: 0.5577 - accuracy: 0.7920 - val_loss: 0.5090 - val_accuracy: 0.8218\n",
            "Epoch 9/100\n",
            "233/233 [==============================] - 41s 174ms/step - loss: 0.5509 - accuracy: 0.7901 - val_loss: 0.5627 - val_accuracy: 0.7966\n",
            "Epoch 10/100\n",
            "233/233 [==============================] - 41s 174ms/step - loss: 0.5365 - accuracy: 0.7970 - val_loss: 0.5238 - val_accuracy: 0.7977\n",
            "Epoch 11/100\n",
            "233/233 [==============================] - 41s 174ms/step - loss: 0.5442 - accuracy: 0.7993 - val_loss: 0.4758 - val_accuracy: 0.8218\n",
            "Epoch 12/100\n",
            "233/233 [==============================] - 40s 173ms/step - loss: 0.5272 - accuracy: 0.8014 - val_loss: 0.4976 - val_accuracy: 0.8218\n",
            "Epoch 13/100\n",
            "233/233 [==============================] - 40s 173ms/step - loss: 0.5289 - accuracy: 0.8030 - val_loss: 0.5358 - val_accuracy: 0.7793\n",
            "Epoch 14/100\n",
            "233/233 [==============================] - 41s 176ms/step - loss: 0.4976 - accuracy: 0.8092 - val_loss: 0.5246 - val_accuracy: 0.8046\n",
            "Epoch 15/100\n",
            "233/233 [==============================] - 41s 175ms/step - loss: 0.5034 - accuracy: 0.8143 - val_loss: 0.5085 - val_accuracy: 0.8046\n",
            "Epoch 16/100\n",
            "233/233 [==============================] - 41s 174ms/step - loss: 0.4949 - accuracy: 0.8112 - val_loss: 0.4955 - val_accuracy: 0.8241\n",
            "Epoch 17/100\n",
            "233/233 [==============================] - 41s 175ms/step - loss: 0.4882 - accuracy: 0.8168 - val_loss: 0.5618 - val_accuracy: 0.7793\n",
            "Epoch 18/100\n",
            "233/233 [==============================] - 41s 175ms/step - loss: 0.4878 - accuracy: 0.8175 - val_loss: 0.4764 - val_accuracy: 0.8299\n",
            "Epoch 19/100\n",
            "233/233 [==============================] - 40s 173ms/step - loss: 0.4544 - accuracy: 0.8271 - val_loss: 0.5144 - val_accuracy: 0.7977\n",
            "Epoch 20/100\n",
            "233/233 [==============================] - 41s 174ms/step - loss: 0.4634 - accuracy: 0.8230 - val_loss: 0.5007 - val_accuracy: 0.8172\n",
            "Epoch 21/100\n",
            "233/233 [==============================] - 41s 174ms/step - loss: 0.4544 - accuracy: 0.8277 - val_loss: 0.5057 - val_accuracy: 0.8138\n",
            "Epoch 22/100\n",
            "233/233 [==============================] - 41s 174ms/step - loss: 0.4563 - accuracy: 0.8280 - val_loss: 0.4604 - val_accuracy: 0.8253\n",
            "Epoch 23/100\n",
            "233/233 [==============================] - 41s 175ms/step - loss: 0.4539 - accuracy: 0.8265 - val_loss: 0.4578 - val_accuracy: 0.8276\n",
            "Epoch 24/100\n",
            "233/233 [==============================] - 41s 174ms/step - loss: 0.4474 - accuracy: 0.8376 - val_loss: 0.4752 - val_accuracy: 0.8322\n",
            "Epoch 25/100\n",
            "233/233 [==============================] - 41s 174ms/step - loss: 0.4227 - accuracy: 0.8456 - val_loss: 0.4636 - val_accuracy: 0.8310\n",
            "Epoch 26/100\n",
            "233/233 [==============================] - 40s 173ms/step - loss: 0.4274 - accuracy: 0.8458 - val_loss: 0.4893 - val_accuracy: 0.8356\n",
            "Epoch 27/100\n",
            "233/233 [==============================] - 40s 173ms/step - loss: 0.4233 - accuracy: 0.8405 - val_loss: 0.4647 - val_accuracy: 0.8253\n",
            "Epoch 28/100\n",
            "233/233 [==============================] - 41s 175ms/step - loss: 0.4368 - accuracy: 0.8340 - val_loss: 0.4700 - val_accuracy: 0.8276\n",
            "Epoch 29/100\n",
            "233/233 [==============================] - 41s 177ms/step - loss: 0.4024 - accuracy: 0.8524 - val_loss: 0.4975 - val_accuracy: 0.8069\n",
            "Epoch 30/100\n",
            "233/233 [==============================] - 41s 175ms/step - loss: 0.4305 - accuracy: 0.8399 - val_loss: 0.5071 - val_accuracy: 0.8034\n",
            "Epoch 31/100\n",
            "233/233 [==============================] - 41s 174ms/step - loss: 0.4167 - accuracy: 0.8475 - val_loss: 0.4564 - val_accuracy: 0.8299\n",
            "Epoch 32/100\n",
            "233/233 [==============================] - 41s 175ms/step - loss: 0.4113 - accuracy: 0.8482 - val_loss: 0.4374 - val_accuracy: 0.8264\n",
            "Epoch 33/100\n",
            "233/233 [==============================] - 41s 175ms/step - loss: 0.4125 - accuracy: 0.8522 - val_loss: 0.4648 - val_accuracy: 0.8149\n",
            "Epoch 34/100\n",
            "233/233 [==============================] - 41s 174ms/step - loss: 0.4164 - accuracy: 0.8478 - val_loss: 0.4794 - val_accuracy: 0.8195\n",
            "Epoch 35/100\n",
            "233/233 [==============================] - 41s 175ms/step - loss: 0.3921 - accuracy: 0.8525 - val_loss: 0.4356 - val_accuracy: 0.8437\n",
            "Epoch 36/100\n",
            "233/233 [==============================] - 41s 176ms/step - loss: 0.3881 - accuracy: 0.8567 - val_loss: 0.4631 - val_accuracy: 0.8230\n",
            "Epoch 37/100\n",
            "233/233 [==============================] - 41s 174ms/step - loss: 0.3941 - accuracy: 0.8551 - val_loss: 0.4878 - val_accuracy: 0.8218\n",
            "Epoch 38/100\n",
            "233/233 [==============================] - 41s 175ms/step - loss: 0.3985 - accuracy: 0.8446 - val_loss: 0.4738 - val_accuracy: 0.8287\n",
            "Epoch 39/100\n",
            "233/233 [==============================] - 41s 176ms/step - loss: 0.4026 - accuracy: 0.8485 - val_loss: 0.4394 - val_accuracy: 0.8276\n",
            "Epoch 40/100\n",
            "233/233 [==============================] - 41s 176ms/step - loss: 0.3864 - accuracy: 0.8574 - val_loss: 0.4946 - val_accuracy: 0.8230\n",
            "Epoch 41/100\n",
            "233/233 [==============================] - 41s 175ms/step - loss: 0.3848 - accuracy: 0.8580 - val_loss: 0.4545 - val_accuracy: 0.8322\n",
            "Epoch 42/100\n",
            "233/233 [==============================] - 41s 176ms/step - loss: 0.3872 - accuracy: 0.8564 - val_loss: 0.4946 - val_accuracy: 0.8230\n",
            "Epoch 43/100\n",
            "233/233 [==============================] - 41s 176ms/step - loss: 0.3928 - accuracy: 0.8519 - val_loss: 0.5386 - val_accuracy: 0.8034\n",
            "Epoch 44/100\n",
            "233/233 [==============================] - 41s 176ms/step - loss: 0.3705 - accuracy: 0.8621 - val_loss: 0.4838 - val_accuracy: 0.8276\n",
            "Epoch 45/100\n",
            "233/233 [==============================] - 41s 175ms/step - loss: 0.3768 - accuracy: 0.8633 - val_loss: 0.4979 - val_accuracy: 0.8138\n",
            "Epoch 46/100\n",
            "233/233 [==============================] - 41s 175ms/step - loss: 0.3618 - accuracy: 0.8686 - val_loss: 0.5152 - val_accuracy: 0.8126\n",
            "Epoch 47/100\n",
            "233/233 [==============================] - 41s 176ms/step - loss: 0.3683 - accuracy: 0.8617 - val_loss: 0.4790 - val_accuracy: 0.8230\n",
            "Epoch 48/100\n",
            "233/233 [==============================] - 41s 175ms/step - loss: 0.3668 - accuracy: 0.8626 - val_loss: 0.4361 - val_accuracy: 0.8437\n",
            "Epoch 49/100\n",
            "233/233 [==============================] - 41s 176ms/step - loss: 0.3721 - accuracy: 0.8637 - val_loss: 0.5254 - val_accuracy: 0.8057\n",
            "Epoch 50/100\n",
            "233/233 [==============================] - 41s 175ms/step - loss: 0.3828 - accuracy: 0.8560 - val_loss: 0.4408 - val_accuracy: 0.8379\n",
            "Epoch 51/100\n",
            "233/233 [==============================] - 41s 176ms/step - loss: 0.3576 - accuracy: 0.8706 - val_loss: 0.4686 - val_accuracy: 0.8368\n",
            "Epoch 52/100\n",
            "233/233 [==============================] - 41s 177ms/step - loss: 0.3712 - accuracy: 0.8620 - val_loss: 0.4404 - val_accuracy: 0.8368\n",
            "Epoch 53/100\n",
            "233/233 [==============================] - 41s 176ms/step - loss: 0.3675 - accuracy: 0.8615 - val_loss: 0.4737 - val_accuracy: 0.8425\n",
            "Epoch 54/100\n",
            "233/233 [==============================] - 41s 174ms/step - loss: 0.3734 - accuracy: 0.8617 - val_loss: 0.4876 - val_accuracy: 0.8230\n",
            "Epoch 55/100\n",
            "233/233 [==============================] - 41s 175ms/step - loss: 0.3558 - accuracy: 0.8660 - val_loss: 0.4758 - val_accuracy: 0.8161\n",
            "Epoch 56/100\n",
            "233/233 [==============================] - 41s 176ms/step - loss: 0.3609 - accuracy: 0.8659 - val_loss: 0.4582 - val_accuracy: 0.8253\n",
            "Epoch 57/100\n",
            "233/233 [==============================] - 41s 178ms/step - loss: 0.3497 - accuracy: 0.8680 - val_loss: 0.5391 - val_accuracy: 0.8149\n",
            "Epoch 58/100\n",
            "233/233 [==============================] - 41s 177ms/step - loss: 0.3620 - accuracy: 0.8676 - val_loss: 0.4742 - val_accuracy: 0.8276\n",
            "Epoch 59/100\n",
            "233/233 [==============================] - 41s 175ms/step - loss: 0.3569 - accuracy: 0.8670 - val_loss: 0.4638 - val_accuracy: 0.8368\n",
            "Epoch 60/100\n",
            "233/233 [==============================] - 41s 177ms/step - loss: 0.3557 - accuracy: 0.8684 - val_loss: 0.4997 - val_accuracy: 0.8287\n",
            "Epoch 61/100\n",
            "233/233 [==============================] - 41s 176ms/step - loss: 0.3503 - accuracy: 0.8681 - val_loss: 0.4750 - val_accuracy: 0.8287\n",
            "Epoch 62/100\n",
            "233/233 [==============================] - 41s 176ms/step - loss: 0.3468 - accuracy: 0.8689 - val_loss: 0.5746 - val_accuracy: 0.8057\n",
            "Epoch 63/100\n",
            "233/233 [==============================] - 41s 176ms/step - loss: 0.3418 - accuracy: 0.8704 - val_loss: 0.4946 - val_accuracy: 0.8218\n",
            "Epoch 64/100\n",
            "233/233 [==============================] - 41s 176ms/step - loss: 0.3518 - accuracy: 0.8714 - val_loss: 0.5183 - val_accuracy: 0.8230\n",
            "Epoch 65/100\n",
            "233/233 [==============================] - 41s 176ms/step - loss: 0.3357 - accuracy: 0.8759 - val_loss: 0.4791 - val_accuracy: 0.8391\n",
            "Epoch 66/100\n",
            "233/233 [==============================] - 41s 176ms/step - loss: 0.3453 - accuracy: 0.8726 - val_loss: 0.4842 - val_accuracy: 0.8276\n",
            "Epoch 67/100\n",
            "233/233 [==============================] - 41s 175ms/step - loss: 0.3401 - accuracy: 0.8736 - val_loss: 0.4630 - val_accuracy: 0.8333\n",
            "Epoch 68/100\n",
            "233/233 [==============================] - 41s 175ms/step - loss: 0.3424 - accuracy: 0.8786 - val_loss: 0.4844 - val_accuracy: 0.8218\n",
            "Epoch 69/100\n",
            "233/233 [==============================] - 41s 175ms/step - loss: 0.3474 - accuracy: 0.8700 - val_loss: 0.4554 - val_accuracy: 0.8460\n",
            "Epoch 70/100\n",
            "233/233 [==============================] - 41s 175ms/step - loss: 0.3373 - accuracy: 0.8755 - val_loss: 0.4835 - val_accuracy: 0.8195\n",
            "Epoch 71/100\n",
            "233/233 [==============================] - 41s 175ms/step - loss: 0.3339 - accuracy: 0.8780 - val_loss: 0.4459 - val_accuracy: 0.8425\n",
            "Epoch 72/100\n",
            "233/233 [==============================] - 41s 175ms/step - loss: 0.3368 - accuracy: 0.8792 - val_loss: 0.4661 - val_accuracy: 0.8402\n",
            "Epoch 73/100\n",
            "233/233 [==============================] - 41s 175ms/step - loss: 0.3369 - accuracy: 0.8808 - val_loss: 0.4677 - val_accuracy: 0.8299\n",
            "Epoch 74/100\n",
            "233/233 [==============================] - 41s 176ms/step - loss: 0.3336 - accuracy: 0.8746 - val_loss: 0.4978 - val_accuracy: 0.8172\n",
            "Epoch 75/100\n",
            "233/233 [==============================] - 41s 177ms/step - loss: 0.3239 - accuracy: 0.8798 - val_loss: 0.5085 - val_accuracy: 0.8218\n",
            "Epoch 76/100\n",
            "233/233 [==============================] - 41s 177ms/step - loss: 0.3284 - accuracy: 0.8803 - val_loss: 0.5065 - val_accuracy: 0.8253\n",
            "Epoch 77/100\n",
            "233/233 [==============================] - 41s 177ms/step - loss: 0.3237 - accuracy: 0.8791 - val_loss: 0.4795 - val_accuracy: 0.8402\n",
            "Epoch 78/100\n",
            "233/233 [==============================] - 41s 178ms/step - loss: 0.3262 - accuracy: 0.8803 - val_loss: 0.4557 - val_accuracy: 0.8379\n",
            "Epoch 79/100\n",
            "233/233 [==============================] - 41s 177ms/step - loss: 0.3318 - accuracy: 0.8789 - val_loss: 0.5297 - val_accuracy: 0.8230\n",
            "Epoch 80/100\n",
            "233/233 [==============================] - 41s 176ms/step - loss: 0.3207 - accuracy: 0.8802 - val_loss: 0.4694 - val_accuracy: 0.8299\n",
            "Epoch 81/100\n",
            "233/233 [==============================] - 41s 176ms/step - loss: 0.3191 - accuracy: 0.8818 - val_loss: 0.4911 - val_accuracy: 0.8402\n",
            "Epoch 82/100\n",
            "233/233 [==============================] - 41s 176ms/step - loss: 0.3281 - accuracy: 0.8818 - val_loss: 0.4529 - val_accuracy: 0.8414\n",
            "Epoch 83/100\n",
            "233/233 [==============================] - 41s 177ms/step - loss: 0.3114 - accuracy: 0.8819 - val_loss: 0.4757 - val_accuracy: 0.8368\n",
            "Epoch 84/100\n",
            "233/233 [==============================] - 41s 177ms/step - loss: 0.3136 - accuracy: 0.8821 - val_loss: 0.4457 - val_accuracy: 0.8368\n",
            "Epoch 85/100\n",
            "233/233 [==============================] - 41s 177ms/step - loss: 0.3081 - accuracy: 0.8839 - val_loss: 0.4491 - val_accuracy: 0.8517\n",
            "Epoch 86/100\n",
            "233/233 [==============================] - 41s 177ms/step - loss: 0.3283 - accuracy: 0.8821 - val_loss: 0.4611 - val_accuracy: 0.8425\n",
            "Epoch 87/100\n",
            "233/233 [==============================] - 41s 177ms/step - loss: 0.3104 - accuracy: 0.8865 - val_loss: 0.5176 - val_accuracy: 0.8287\n",
            "Epoch 88/100\n",
            "233/233 [==============================] - 41s 178ms/step - loss: 0.3191 - accuracy: 0.8816 - val_loss: 0.4433 - val_accuracy: 0.8414\n",
            "Epoch 89/100\n",
            "233/233 [==============================] - 41s 178ms/step - loss: 0.3168 - accuracy: 0.8846 - val_loss: 0.4557 - val_accuracy: 0.8414\n",
            "Epoch 90/100\n",
            "233/233 [==============================] - 42s 178ms/step - loss: 0.3153 - accuracy: 0.8828 - val_loss: 0.4428 - val_accuracy: 0.8517\n",
            "Epoch 91/100\n",
            "233/233 [==============================] - 41s 178ms/step - loss: 0.3117 - accuracy: 0.8852 - val_loss: 0.5157 - val_accuracy: 0.8241\n",
            "Epoch 92/100\n",
            "233/233 [==============================] - 41s 177ms/step - loss: 0.3128 - accuracy: 0.8862 - val_loss: 0.4372 - val_accuracy: 0.8414\n",
            "Epoch 93/100\n",
            "233/233 [==============================] - 41s 178ms/step - loss: 0.3240 - accuracy: 0.8842 - val_loss: 0.4567 - val_accuracy: 0.8368\n",
            "Epoch 94/100\n",
            "233/233 [==============================] - 41s 178ms/step - loss: 0.3055 - accuracy: 0.8891 - val_loss: 0.4337 - val_accuracy: 0.8529\n",
            "Epoch 95/100\n",
            "233/233 [==============================] - 41s 177ms/step - loss: 0.3028 - accuracy: 0.8865 - val_loss: 0.5212 - val_accuracy: 0.8253\n",
            "Epoch 96/100\n",
            "233/233 [==============================] - 41s 178ms/step - loss: 0.3001 - accuracy: 0.8892 - val_loss: 0.5790 - val_accuracy: 0.8287\n",
            "Epoch 97/100\n",
            "233/233 [==============================] - 42s 179ms/step - loss: 0.3066 - accuracy: 0.8862 - val_loss: 0.4452 - val_accuracy: 0.8540\n",
            "Epoch 98/100\n",
            "233/233 [==============================] - 41s 178ms/step - loss: 0.3080 - accuracy: 0.8877 - val_loss: 0.4615 - val_accuracy: 0.8425\n",
            "Epoch 99/100\n",
            "233/233 [==============================] - 41s 177ms/step - loss: 0.3112 - accuracy: 0.8867 - val_loss: 0.4741 - val_accuracy: 0.8253\n",
            "Epoch 100/100\n",
            "233/233 [==============================] - 41s 177ms/step - loss: 0.3116 - accuracy: 0.8855 - val_loss: 0.4463 - val_accuracy: 0.8563\n"
          ]
        }
      ]
    },
    {
      "cell_type": "code",
      "metadata": {
        "colab": {
          "base_uri": "https://localhost:8080/"
        },
        "id": "1UlHBOvzKHGT",
        "outputId": "b877f99f-7bc5-4cd0-ac51-77d1388b4503"
      },
      "source": [
        "done = time.time()\n",
        "elapsed = done - start #terminando\n",
        "print(\"Tiempo total de ejecución training/validation\", elapsed)"
      ],
      "execution_count": null,
      "outputs": [
        {
          "output_type": "stream",
          "name": "stdout",
          "text": [
            "Tiempo total de ejecución training/validation 4121.316334962845\n"
          ]
        }
      ]
    },
    {
      "cell_type": "markdown",
      "metadata": {
        "id": "riBexwbbha7B"
      },
      "source": [
        "# Gráfico de entrenamiento"
      ]
    },
    {
      "cell_type": "code",
      "metadata": {
        "colab": {
          "base_uri": "https://localhost:8080/",
          "height": 308
        },
        "id": "NUYIwi3QKHGT",
        "outputId": "9bc7593b-76ad-4ef0-8bff-6c7e8e706287"
      },
      "source": [
        "f, (ax1, ax2) = plt.subplots(1, 2, figsize=(12, 4))\n",
        "t = f.suptitle('Modelo InceptionResNetV2 Conf2 Sin DropOut Data-Augmentation 233-100 ', fontsize=12)\n",
        "f.subplots_adjust(top=0.85, wspace=0.3)\n",
        "\n",
        "epoch_list = list(range(1,101))\n",
        "ax1.plot(epoch_list, history.history['accuracy'], label='Train Accuracy')\n",
        "ax1.plot(epoch_list, history.history['val_accuracy'], label='Validation Accuracy')\n",
        "ax1.set_xticks(np.arange(1, 101, 5))\n",
        "ax1.set_ylabel('Accuracy Value')\n",
        "ax1.set_xlabel('Epoch')\n",
        "ax1.set_title('Accuracy')\n",
        "l1 = ax1.legend(loc=\"best\")\n",
        "\n",
        "ax2.plot(epoch_list, history.history['loss'], label='Train Loss')\n",
        "ax2.plot(epoch_list, history.history['val_loss'], label='Validation Loss')\n",
        "ax2.set_xticks(np.arange(0, 101, 5))\n",
        "ax2.set_ylabel('Loss Value')\n",
        "ax2.set_xlabel('Epoch')\n",
        "ax2.set_title('Loss')\n",
        "l2 = ax2.legend(loc=\"best\")"
      ],
      "execution_count": null,
      "outputs": [
        {
          "output_type": "display_data",
          "data": {
            "image/png": "[encoded data removed]",
            "text/plain": [
              "<Figure size 864x288 with 2 Axes>"
            ]
          },
          "metadata": {
            "needs_background": "light"
          }
        }
      ]
    },
    {
      "cell_type": "code",
      "metadata": {
        "id": "Wo6N90qHKHGT"
      },
      "source": [
        "#se guarda modelo luego del entrenamiento\n",
        "model.save('modeloInceptionResNetV2-Conf2-233-100.h5') #"
      ],
      "execution_count": null,
      "outputs": []
    },
    {
      "cell_type": "markdown",
      "metadata": {
        "id": "nhFDDlUahtXL"
      },
      "source": [
        "# Carga del modelo entrenado\n"
      ]
    },
    {
      "cell_type": "code",
      "metadata": {
        "id": "xis9T5hjKHGT",
        "colab": {
          "base_uri": "https://localhost:8080/"
        },
        "outputId": "2f106e6f-6ce7-4c33-84c5-4fedf867120e"
      },
      "source": [
        "from keras.models import load_model\n",
        "\n",
        "# cargar el modelo\n",
        "modelo_InceptionResNetV2 = load_model('modeloInceptionResNetV2-Conf2-233-100.h5')\n",
        "\n",
        "clear_output()\n",
        "print('Modelo cargado')"
      ],
      "execution_count": null,
      "outputs": [
        {
          "output_type": "stream",
          "name": "stdout",
          "text": [
            "Modelo cargado\n"
          ]
        }
      ]
    },
    {
      "cell_type": "markdown",
      "metadata": {
        "id": "CT8qPPKvkNjt"
      },
      "source": [
        "# Preprocesamiento de datos de Test"
      ]
    },
    {
      "cell_type": "code",
      "metadata": {
        "colab": {
          "base_uri": "https://localhost:8080/"
        },
        "id": "lZGQ__ASKHGU",
        "outputId": "5a0601fc-c68b-49e1-8578-cd4f3bc94729"
      },
      "source": [
        "IMG_DIM = (150, 150)\n",
        "\n",
        "test_files = glob.glob('test_data/*')\n",
        "test_imgs = [img_to_array(load_img(img, target_size=IMG_DIM)) for img in test_files]\n",
        "test_imgs = np.array(test_imgs)\n",
        "test_labels = [fn.split('/')[1].split('.')[0].strip() for fn in test_files]\n",
        "\n",
        "test_imgs_scaled = test_imgs.astype('float32')\n",
        "test_imgs_scaled /= 255\n",
        "\n",
        "print('Test dataset shape:', test_imgs.shape)\n",
        "print(test_labels[100:105])"
      ],
      "execution_count": null,
      "outputs": [
        {
          "output_type": "stream",
          "name": "stdout",
          "text": [
            "Test dataset shape: (875, 150, 150, 3)\n",
            "['elipse', 'cuadrado', 'rombo', 'rombo', 'elipse']\n"
          ]
        }
      ]
    },
    {
      "cell_type": "code",
      "metadata": {
        "colab": {
          "base_uri": "https://localhost:8080/"
        },
        "id": "3439ZrEeKHGU",
        "outputId": "a7908c3f-b7df-44a3-8d99-3a791b0d86d2"
      },
      "source": [
        "test_labels_enc = le.transform(test_labels)\n",
        "test_labels_enc = to_categorical(test_labels_enc, num_classes)\n",
        "\n",
        "test_eval = modelo_InceptionResNetV2.evaluate(test_imgs_scaled, test_labels_enc, verbose=1)\n",
        " \n",
        "print('Test loss:', test_eval[0])\n",
        "print('Test accuracy:', test_eval[1])"
      ],
      "execution_count": null,
      "outputs": [
        {
          "output_type": "stream",
          "name": "stdout",
          "text": [
            "28/28 [==============================] - 6s 74ms/step - loss: 0.4113 - accuracy: 0.8709\n",
            "Test loss: 0.4112904667854309\n",
            "Test accuracy: 0.8708571195602417\n"
          ]
        }
      ]
    },
    {
      "cell_type": "code",
      "metadata": {
        "id": "ozykGKxFKHGU",
        "colab": {
          "base_uri": "https://localhost:8080/"
        },
        "outputId": "3d90df6a-3111-4c75-eeb8-a337c45ac342"
      },
      "source": [
        "from sklearn import metrics\n",
        "import numpy as np\n",
        "\n",
        "# de numero a etiquetas, según prediccion del modelo\n",
        "predictions = np.argmax(modelo_InceptionResNetV2.predict(test_imgs_scaled), axis=-1)\n",
        "\n",
        "test_labels_pred = []\n",
        "\n",
        "for i in range(875):\n",
        "    if predictions[i] == 0:\n",
        "        test_labels_pred.append('circulo')\n",
        "    elif predictions[i] == 1:\n",
        "        test_labels_pred.append('cuadrado')\n",
        "    elif predictions[i] == 2:\n",
        "        test_labels_pred.append('elipse')\n",
        "    elif predictions[i] == 3:\n",
        "        test_labels_pred.append('rectangulo')\n",
        "    elif predictions[i] == 4:\n",
        "        test_labels_pred.append('rombo')\n",
        "    elif predictions[i] == 5:\n",
        "        test_labels_pred.append('trapecio')\n",
        "    else:\n",
        "        test_labels_pred.append('triangulo')\n",
        "\n",
        "print(test_labels_pred)"
      ],
      "execution_count": null,
      "outputs": [
        {
          "output_type": "stream",
          "name": "stdout",
          "text": [
            "['triangulo', 'rectangulo', 'cuadrado', 'circulo', 'triangulo', 'circulo', 'rombo', 'cuadrado', 'rombo', 'circulo', 'triangulo', 'trapecio', 'circulo', 'elipse', 'elipse', 'trapecio', 'cuadrado', 'trapecio', 'elipse', 'rectangulo', 'cuadrado', 'rombo', 'elipse', 'rectangulo', 'elipse', 'triangulo', 'circulo', 'cuadrado', 'elipse', 'trapecio', 'cuadrado', 'circulo', 'elipse', 'trapecio', 'circulo', 'trapecio', 'trapecio', 'rombo', 'circulo', 'elipse', 'rectangulo', 'elipse', 'triangulo', 'rombo', 'circulo', 'rombo', 'rombo', 'trapecio', 'rectangulo', 'rombo', 'circulo', 'rectangulo', 'elipse', 'elipse', 'elipse', 'triangulo', 'trapecio', 'circulo', 'circulo', 'circulo', 'cuadrado', 'rectangulo', 'circulo', 'trapecio', 'cuadrado', 'rombo', 'trapecio', 'rombo', 'rombo', 'cuadrado', 'rombo', 'elipse', 'elipse', 'rectangulo', 'triangulo', 'trapecio', 'rombo', 'triangulo', 'triangulo', 'rectangulo', 'elipse', 'triangulo', 'elipse', 'circulo', 'elipse', 'rectangulo', 'trapecio', 'triangulo', 'circulo', 'rombo', 'rectangulo', 'elipse', 'cuadrado', 'circulo', 'elipse', 'triangulo', 'trapecio', 'circulo', 'cuadrado', 'rombo', 'elipse', 'rectangulo', 'rombo', 'rombo', 'elipse', 'triangulo', 'rombo', 'cuadrado', 'rectangulo', 'cuadrado', 'rectangulo', 'rectangulo', 'trapecio', 'rectangulo', 'rectangulo', 'elipse', 'circulo', 'elipse', 'triangulo', 'trapecio', 'elipse', 'circulo', 'triangulo', 'elipse', 'circulo', 'rectangulo', 'triangulo', 'rombo', 'trapecio', 'elipse', 'cuadrado', 'rombo', 'elipse', 'rombo', 'triangulo', 'triangulo', 'elipse', 'triangulo', 'triangulo', 'triangulo', 'elipse', 'cuadrado', 'circulo', 'circulo', 'rectangulo', 'rombo', 'triangulo', 'rombo', 'elipse', 'rombo', 'cuadrado', 'cuadrado', 'circulo', 'elipse', 'triangulo', 'elipse', 'cuadrado', 'circulo', 'elipse', 'rombo', 'trapecio', 'triangulo', 'cuadrado', 'triangulo', 'cuadrado', 'circulo', 'cuadrado', 'rectangulo', 'cuadrado', 'circulo', 'trapecio', 'rombo', 'triangulo', 'trapecio', 'circulo', 'circulo', 'circulo', 'rectangulo', 'rombo', 'triangulo', 'rectangulo', 'rombo', 'rectangulo', 'rectangulo', 'cuadrado', 'cuadrado', 'triangulo', 'triangulo', 'circulo', 'elipse', 'rectangulo', 'elipse', 'rombo', 'trapecio', 'rectangulo', 'trapecio', 'elipse', 'elipse', 'trapecio', 'cuadrado', 'trapecio', 'triangulo', 'rombo', 'circulo', 'cuadrado', 'trapecio', 'trapecio', 'cuadrado', 'rombo', 'circulo', 'trapecio', 'trapecio', 'trapecio', 'rombo', 'rectangulo', 'elipse', 'circulo', 'circulo', 'circulo', 'rombo', 'cuadrado', 'rectangulo', 'rectangulo', 'circulo', 'trapecio', 'cuadrado', 'trapecio', 'triangulo', 'elipse', 'rombo', 'rombo', 'triangulo', 'rombo', 'cuadrado', 'rombo', 'rectangulo', 'cuadrado', 'cuadrado', 'elipse', 'elipse', 'rectangulo', 'elipse', 'trapecio', 'trapecio', 'circulo', 'rectangulo', 'rectangulo', 'rombo', 'triangulo', 'circulo', 'trapecio', 'triangulo', 'rombo', 'elipse', 'rombo', 'rombo', 'cuadrado', 'cuadrado', 'elipse', 'trapecio', 'triangulo', 'cuadrado', 'circulo', 'triangulo', 'rectangulo', 'cuadrado', 'circulo', 'rectangulo', 'rectangulo', 'trapecio', 'trapecio', 'cuadrado', 'circulo', 'cuadrado', 'cuadrado', 'rombo', 'cuadrado', 'trapecio', 'triangulo', 'elipse', 'rombo', 'triangulo', 'trapecio', 'trapecio', 'elipse', 'cuadrado', 'triangulo', 'rombo', 'rombo', 'rombo', 'rombo', 'elipse', 'triangulo', 'cuadrado', 'rombo', 'triangulo', 'trapecio', 'rectangulo', 'trapecio', 'rectangulo', 'circulo', 'circulo', 'triangulo', 'rombo', 'cuadrado', 'elipse', 'rectangulo', 'triangulo', 'elipse', 'cuadrado', 'circulo', 'circulo', 'cuadrado', 'elipse', 'rombo', 'circulo', 'trapecio', 'circulo', 'triangulo', 'trapecio', 'rombo', 'circulo', 'rombo', 'cuadrado', 'cuadrado', 'trapecio', 'rombo', 'circulo', 'triangulo', 'elipse', 'circulo', 'circulo', 'rombo', 'rombo', 'elipse', 'circulo', 'trapecio', 'cuadrado', 'cuadrado', 'rombo', 'triangulo', 'elipse', 'rectangulo', 'circulo', 'rectangulo', 'cuadrado', 'cuadrado', 'circulo', 'elipse', 'elipse', 'triangulo', 'rombo', 'trapecio', 'trapecio', 'rombo', 'circulo', 'trapecio', 'elipse', 'cuadrado', 'trapecio', 'triangulo', 'cuadrado', 'rombo', 'rectangulo', 'triangulo', 'elipse', 'circulo', 'elipse', 'elipse', 'circulo', 'circulo', 'rombo', 'rectangulo', 'triangulo', 'cuadrado', 'triangulo', 'triangulo', 'rectangulo', 'rombo', 'elipse', 'circulo', 'rectangulo', 'elipse', 'elipse', 'cuadrado', 'triangulo', 'rombo', 'circulo', 'cuadrado', 'circulo', 'triangulo', 'cuadrado', 'rombo', 'triangulo', 'rombo', 'circulo', 'circulo', 'triangulo', 'trapecio', 'triangulo', 'cuadrado', 'cuadrado', 'triangulo', 'circulo', 'circulo', 'cuadrado', 'triangulo', 'rectangulo', 'triangulo', 'trapecio', 'trapecio', 'rectangulo', 'triangulo', 'rombo', 'rombo', 'circulo', 'cuadrado', 'cuadrado', 'rombo', 'rombo', 'rombo', 'rectangulo', 'rombo', 'cuadrado', 'trapecio', 'rombo', 'trapecio', 'triangulo', 'trapecio', 'triangulo', 'rectangulo', 'circulo', 'cuadrado', 'cuadrado', 'trapecio', 'trapecio', 'rectangulo', 'circulo', 'elipse', 'triangulo', 'elipse', 'cuadrado', 'rectangulo', 'elipse', 'rombo', 'rectangulo', 'cuadrado', 'cuadrado', 'trapecio', 'trapecio', 'triangulo', 'triangulo', 'circulo', 'rombo', 'cuadrado', 'cuadrado', 'circulo', 'triangulo', 'triangulo', 'rectangulo', 'cuadrado', 'rectangulo', 'elipse', 'elipse', 'rectangulo', 'cuadrado', 'elipse', 'elipse', 'rombo', 'rombo', 'trapecio', 'triangulo', 'triangulo', 'elipse', 'elipse', 'triangulo', 'rombo', 'elipse', 'elipse', 'trapecio', 'rectangulo', 'cuadrado', 'rombo', 'circulo', 'circulo', 'cuadrado', 'circulo', 'triangulo', 'elipse', 'trapecio', 'rectangulo', 'elipse', 'triangulo', 'rectangulo', 'elipse', 'circulo', 'rombo', 'rectangulo', 'rombo', 'rombo', 'rectangulo', 'cuadrado', 'triangulo', 'cuadrado', 'trapecio', 'elipse', 'circulo', 'cuadrado', 'triangulo', 'cuadrado', 'triangulo', 'trapecio', 'rectangulo', 'trapecio', 'circulo', 'elipse', 'circulo', 'trapecio', 'rectangulo', 'trapecio', 'elipse', 'triangulo', 'circulo', 'rectangulo', 'circulo', 'rectangulo', 'trapecio', 'triangulo', 'rectangulo', 'trapecio', 'triangulo', 'circulo', 'cuadrado', 'trapecio', 'elipse', 'elipse', 'rombo', 'circulo', 'circulo', 'trapecio', 'circulo', 'triangulo', 'rectangulo', 'elipse', 'elipse', 'elipse', 'rombo', 'trapecio', 'rombo', 'circulo', 'rectangulo', 'elipse', 'trapecio', 'rombo', 'rectangulo', 'trapecio', 'trapecio', 'cuadrado', 'circulo', 'trapecio', 'triangulo', 'cuadrado', 'rombo', 'rectangulo', 'triangulo', 'cuadrado', 'triangulo', 'triangulo', 'rombo', 'cuadrado', 'cuadrado', 'elipse', 'rombo', 'rectangulo', 'circulo', 'circulo', 'circulo', 'trapecio', 'elipse', 'rectangulo', 'circulo', 'triangulo', 'triangulo', 'circulo', 'triangulo', 'rectangulo', 'rombo', 'trapecio', 'rombo', 'elipse', 'cuadrado', 'triangulo', 'cuadrado', 'trapecio', 'triangulo', 'rectangulo', 'rombo', 'trapecio', 'rectangulo', 'circulo', 'elipse', 'rombo', 'cuadrado', 'elipse', 'trapecio', 'rectangulo', 'circulo', 'rectangulo', 'elipse', 'rectangulo', 'rombo', 'rombo', 'trapecio', 'trapecio', 'trapecio', 'rectangulo', 'cuadrado', 'elipse', 'trapecio', 'circulo', 'elipse', 'circulo', 'cuadrado', 'rectangulo', 'triangulo', 'elipse', 'cuadrado', 'rombo', 'circulo', 'cuadrado', 'rectangulo', 'circulo', 'circulo', 'rectangulo', 'rectangulo', 'rombo', 'rectangulo', 'elipse', 'elipse', 'circulo', 'trapecio', 'rombo', 'trapecio', 'cuadrado', 'circulo', 'triangulo', 'elipse', 'trapecio', 'triangulo', 'rectangulo', 'triangulo', 'rectangulo', 'circulo', 'trapecio', 'circulo', 'triangulo', 'elipse', 'trapecio', 'elipse', 'cuadrado', 'triangulo', 'rectangulo', 'rombo', 'rombo', 'trapecio', 'circulo', 'trapecio', 'elipse', 'triangulo', 'circulo', 'triangulo', 'rombo', 'cuadrado', 'rombo', 'cuadrado', 'elipse', 'rombo', 'circulo', 'circulo', 'trapecio', 'rombo', 'rombo', 'rectangulo', 'trapecio', 'rectangulo', 'trapecio', 'cuadrado', 'rombo', 'rombo', 'circulo', 'rombo', 'elipse', 'trapecio', 'triangulo', 'circulo', 'circulo', 'elipse', 'rombo', 'cuadrado', 'circulo', 'trapecio', 'rombo', 'rombo', 'circulo', 'trapecio', 'circulo', 'rombo', 'cuadrado', 'cuadrado', 'rectangulo', 'trapecio', 'rombo', 'circulo', 'triangulo', 'trapecio', 'rombo', 'circulo', 'cuadrado', 'triangulo', 'triangulo', 'rombo', 'circulo', 'rombo', 'rombo', 'circulo', 'rectangulo', 'elipse', 'triangulo', 'rectangulo', 'rombo', 'elipse', 'trapecio', 'circulo', 'rectangulo', 'trapecio', 'rombo', 'circulo', 'trapecio', 'trapecio', 'elipse', 'triangulo', 'elipse', 'elipse', 'elipse', 'rombo', 'elipse', 'rombo', 'triangulo', 'elipse', 'triangulo', 'cuadrado', 'rombo', 'circulo', 'triangulo', 'rectangulo', 'cuadrado', 'circulo', 'cuadrado', 'rombo', 'cuadrado', 'rombo', 'rectangulo', 'trapecio', 'trapecio', 'trapecio', 'rectangulo', 'elipse', 'cuadrado', 'elipse', 'trapecio', 'trapecio', 'rectangulo', 'cuadrado', 'circulo', 'rombo', 'elipse', 'trapecio', 'elipse', 'triangulo', 'circulo', 'rombo', 'triangulo', 'rombo', 'triangulo', 'elipse', 'elipse', 'triangulo', 'rectangulo', 'trapecio', 'elipse', 'trapecio', 'circulo', 'rectangulo', 'triangulo', 'elipse', 'trapecio', 'rectangulo', 'rombo', 'circulo', 'triangulo', 'rectangulo', 'trapecio', 'rombo', 'trapecio', 'trapecio', 'triangulo', 'elipse', 'trapecio', 'trapecio', 'triangulo', 'triangulo', 'circulo', 'triangulo', 'triangulo', 'circulo', 'rombo', 'rectangulo', 'rombo', 'circulo', 'cuadrado', 'rectangulo', 'rombo', 'rombo', 'rombo', 'circulo', 'rombo', 'rectangulo', 'triangulo', 'circulo', 'elipse', 'cuadrado', 'circulo', 'circulo', 'triangulo', 'circulo', 'circulo', 'circulo', 'triangulo', 'rectangulo', 'triangulo', 'rectangulo', 'trapecio', 'rectangulo', 'rombo', 'cuadrado', 'cuadrado', 'circulo', 'elipse', 'elipse', 'rectangulo', 'trapecio', 'circulo', 'rombo', 'cuadrado', 'circulo', 'trapecio', 'elipse', 'triangulo', 'rombo', 'rombo', 'rombo', 'elipse', 'trapecio', 'trapecio', 'rombo', 'trapecio', 'triangulo', 'triangulo', 'triangulo', 'triangulo', 'cuadrado', 'rombo', 'elipse', 'rombo', 'cuadrado']\n"
          ]
        }
      ]
    },
    {
      "cell_type": "code",
      "metadata": {
        "colab": {
          "base_uri": "https://localhost:8080/"
        },
        "id": "Tzi5BjaCKHGV",
        "outputId": "897add4a-dc71-445a-c14e-ea4a0834ab3f"
      },
      "source": [
        "from sklearn import metrics\n",
        "\n",
        "# Matriz de confusión\n",
        "print(metrics.confusion_matrix(test_labels, test_labels_pred))\n",
        "\n",
        "# Precision and recall, F1-score y support\n",
        "print(metrics.classification_report(test_labels, test_labels_pred, digits=3))"
      ],
      "execution_count": null,
      "outputs": [
        {
          "output_type": "stream",
          "name": "stdout",
          "text": [
            "[[117   0   6   1   0   1   0]\n",
            " [  5  99   1   5  11   2   2]\n",
            " [ 12   0 109   1   0   1   2]\n",
            " [  1  12   2 100   3   5   2]\n",
            " [  0   1   1   0 116   1   6]\n",
            " [  1   0   3   0   6 111   4]\n",
            " [  1   1   4   0   5   4 110]]\n",
            "              precision    recall  f1-score   support\n",
            "\n",
            "     circulo      0.854     0.936     0.893       125\n",
            "    cuadrado      0.876     0.792     0.832       125\n",
            "      elipse      0.865     0.872     0.869       125\n",
            "  rectangulo      0.935     0.800     0.862       125\n",
            "       rombo      0.823     0.928     0.872       125\n",
            "    trapecio      0.888     0.888     0.888       125\n",
            "   triangulo      0.873     0.880     0.876       125\n",
            "\n",
            "    accuracy                          0.871       875\n",
            "   macro avg      0.873     0.871     0.870       875\n",
            "weighted avg      0.873     0.871     0.870       875\n",
            "\n"
          ]
        }
      ]
    }
  ]
}