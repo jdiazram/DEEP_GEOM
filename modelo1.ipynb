{
 "metadata": {
  "language_info": {
   "codemirror_mode": {
    "name": "ipython",
    "version": 3
   },
   "file_extension": ".py",
   "mimetype": "text/x-python",
   "name": "python",
   "nbconvert_exporter": "python",
   "pygments_lexer": "ipython3",
   "version": "3.7.7-final"
  },
  "orig_nbformat": 2,
  "kernelspec": {
   "name": "Python 3.7.7 64-bit ('Deep_geom')",
   "display_name": "Python 3.7.7 64-bit ('Deep_geom')",
   "metadata": {
    "interpreter": {
     "hash": "55aa8c0c9b6c5d4f6dc688e8e42f10e9126479bf350b4c70c14a61c383a4fba4"
    }
   }
  }
 },
 "nbformat": 4,
 "nbformat_minor": 2,
 "cells": [
  {
   "cell_type": "code",
   "execution_count": 1,
   "metadata": {
    "tags": []
   },
   "outputs": [
    {
     "output_type": "stream",
     "name": "stdout",
     "text": "2.4.0-dev20200924\n"
    }
   ],
   "source": [
    "import os\n",
    "import tensorflow as tf # Import TensorFlow \n",
    "print(tf.version.VERSION) # Check TensorFlow version"
   ]
  },
  {
   "cell_type": "code",
   "execution_count": null,
   "metadata": {},
   "outputs": [],
   "source": []
  }
 ]
}