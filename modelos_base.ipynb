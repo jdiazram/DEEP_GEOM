{
  "nbformat": 4,
  "nbformat_minor": 0,
  "metadata": {
    "language_info": {
      "codemirror_mode": {
        "name": "ipython",
        "version": 3
      },
      "file_extension": ".py",
      "mimetype": "text/x-python",
      "name": "python",
      "nbconvert_exporter": "python",
      "pygments_lexer": "ipython3",
      "version": "3.8.5-final"
    },
    "orig_nbformat": 2,
    "kernelspec": {
      "name": "python3",
      "display_name": "Python 3",
      "language": "python"
    },
    "colab": {
      "name": "modelos_base.ipynb",
      "provenance": [],
      "collapsed_sections": [],
      "toc_visible": true,
      "include_colab_link": true
    },
    "accelerator": "GPU"
  },
  "cells": [
    {
      "cell_type": "markdown",
      "metadata": {
        "id": "view-in-github",
        "colab_type": "text"
      },
      "source": [
        "<a href=\"https://colab.research.google.com/github/jdiazram/DEEP_GEOM/blob/master/modelos_base.ipynb\" target=\"_parent\"><img src=\"https://colab.research.google.com/assets/colab-badge.svg\" alt=\"Open In Colab\"/></a>"
      ]
    },
    {
      "cell_type": "markdown",
      "metadata": {
        "id": "-LE42J3GWkf4"
      },
      "source": [
        "# Importar librerías"
      ]
    },
    {
      "cell_type": "code",
      "metadata": {
        "colab": {
          "base_uri": "https://localhost:8080/"
        },
        "id": "XKmmaLVDKHGL",
        "outputId": "4166821c-fe8a-46c4-90c5-45f4d5f099f1"
      },
      "source": [
        "import numpy as np #\n",
        "import glob\n",
        "import os\n",
        "import matplotlib.pyplot as plt\n",
        "import tensorflow as tf # Import TensorFlow \n",
        "print(tf.version.VERSION) # Check TensorFlow version\n",
        "import keras\n",
        "from keras.preprocessing.image import ImageDataGenerator, load_img, img_to_array, array_to_img\n",
        "\n",
        "%matplotlib inline \n",
        "#hará que las salidas de gráficos aparezcan y se almacenen en el cuaderno\n",
        "\n",
        "from IPython.display import clear_output #limpiar"
      ],
      "execution_count": 1,
      "outputs": [
        {
          "output_type": "stream",
          "text": [
            "2.5.0\n"
          ],
          "name": "stdout"
        }
      ]
    },
    {
      "cell_type": "markdown",
      "metadata": {
        "id": "lHyJ2PA_aiZR"
      },
      "source": [
        "# Cargar base de datos"
      ]
    },
    {
      "cell_type": "code",
      "metadata": {
        "colab": {
          "base_uri": "https://localhost:8080/"
        },
        "id": "ixfMdmwfUx1N",
        "outputId": "d26d7dab-cf46-4351-8afa-dbdb219ab55e"
      },
      "source": [
        "# Carga de base de datos\n",
        "!wget https://www.dropbox.com/s/imyjti8exyuzczz/dg.zip\n",
        "!unzip dg.zip\n",
        "!rm dg.zip\n",
        "\n",
        "clear_output()\n",
        "print('Base de datos cargada')"
      ],
      "execution_count": 2,
      "outputs": [
        {
          "output_type": "stream",
          "text": [
            "Base de datos cargada\n"
          ],
          "name": "stdout"
        }
      ]
    },
    {
      "cell_type": "markdown",
      "metadata": {
        "id": "rt1lGqfQasTT"
      },
      "source": [
        "# Preprocesamiento"
      ]
    },
    {
      "cell_type": "code",
      "metadata": {
        "colab": {
          "base_uri": "https://localhost:8080/"
        },
        "id": "15uoE-BCKHGN",
        "outputId": "7ed25ffb-8620-4e1d-a29a-0b4240a347e9"
      },
      "source": [
        "#carga de datos en variables\n",
        "IMG_DIM = (150, 150)\n",
        "\n",
        "train_files = glob.glob('training_data/*')\n",
        "train_imgs = [img_to_array(load_img(img, target_size=IMG_DIM)) for img in train_files]\n",
        "train_imgs = np.array(train_imgs)\n",
        "train_labels = [fn.split('/')[1].split('.')[0].strip() for fn in train_files]\n",
        "#print(train_labels)\n",
        "\n",
        "validation_files = glob.glob('validation_data/*')\n",
        "validation_imgs = [img_to_array(load_img(img, target_size=IMG_DIM)) for img in validation_files]\n",
        "validation_imgs = np.array(validation_imgs)\n",
        "validation_labels = [fn.split('/')[1].split('.')[0].strip() for fn in validation_files]\n",
        "#print(validation_labels)\n",
        "print('Train dataset shape:', train_imgs.shape) \n",
        "print('Validation dataset shape:', validation_imgs.shape)\n",
        "mf_validation = validation_imgs.shape[0]"
      ],
      "execution_count": 3,
      "outputs": [
        {
          "output_type": "stream",
          "text": [
            "Train dataset shape: (2561, 150, 150, 3)\n",
            "Validation dataset shape: (320, 150, 150, 3)\n"
          ],
          "name": "stdout"
        }
      ]
    },
    {
      "cell_type": "code",
      "metadata": {
        "colab": {
          "base_uri": "https://localhost:8080/",
          "height": 186
        },
        "id": "jz53HO4UKHGO",
        "outputId": "d1043ca5-46c0-4a38-dda6-847b87809ec7"
      },
      "source": [
        "#normalizacion\n",
        "train_imgs_scaled = train_imgs.astype('float32')\n",
        "validation_imgs_scaled  = validation_imgs.astype('float32')\n",
        "train_imgs_scaled /= 255\n",
        "validation_imgs_scaled /= 255\n",
        "\n",
        "print(train_imgs[2556].shape)\n",
        "array_to_img(train_imgs[2556])"
      ],
      "execution_count": 4,
      "outputs": [
        {
          "output_type": "stream",
          "text": [
            "(150, 150, 3)\n"
          ],
          "name": "stdout"
        },
        {
          "output_type": "execute_result",
          "data": {
            "image/png": "[encoded data removed]",
            "text/plain": [
              "<PIL.Image.Image image mode=RGB size=150x150 at 0x7F3D05716150>"
            ]
          },
          "metadata": {
            "tags": []
          },
          "execution_count": 4
        }
      ]
    },
    {
      "cell_type": "code",
      "metadata": {
        "colab": {
          "base_uri": "https://localhost:8080/"
        },
        "id": "o1t39OUQKHGO",
        "outputId": "c0892a01-b438-46c3-a622-4a6646bfc8a9"
      },
      "source": [
        "#Codificación los LABEL mediante One Hot Encoding\n",
        "batch_size = 30\n",
        "num_classes = 7\n",
        "epochs = 30\n",
        "input_shape = (150, 150, 3)\n",
        "\n",
        "# encode text category labels\n",
        "from sklearn.preprocessing import LabelEncoder\n",
        "from tensorflow.keras.utils import to_categorical\n",
        "\n",
        "le = LabelEncoder()\n",
        "le.fit(train_labels)\n",
        "train_labels_enc = le.transform(train_labels)\n",
        "train_labels_enc = to_categorical(train_labels_enc, num_classes)\n",
        "validation_labels_enc = le.transform(validation_labels)\n",
        "validation_labels_enc = to_categorical(validation_labels_enc, num_classes)\n",
        "\n",
        "print(train_labels[455:465]) \n",
        "print(train_labels_enc[455:465]) #ejemplo de rango"
      ],
      "execution_count": 5,
      "outputs": [
        {
          "output_type": "stream",
          "text": [
            "['triangulo', 'circulo', 'trapecio', 'circulo', 'cuadrado', 'triangulo', 'circulo', 'cuadrado', 'rectangulo', 'elipse']\n",
            "[[0. 0. 0. 0. 0. 0. 1.]\n",
            " [1. 0. 0. 0. 0. 0. 0.]\n",
            " [0. 0. 0. 0. 0. 1. 0.]\n",
            " [1. 0. 0. 0. 0. 0. 0.]\n",
            " [0. 1. 0. 0. 0. 0. 0.]\n",
            " [0. 0. 0. 0. 0. 0. 1.]\n",
            " [1. 0. 0. 0. 0. 0. 0.]\n",
            " [0. 1. 0. 0. 0. 0. 0.]\n",
            " [0. 0. 0. 1. 0. 0. 0.]\n",
            " [0. 0. 1. 0. 0. 0. 0.]]\n"
          ],
          "name": "stdout"
        }
      ]
    },
    {
      "cell_type": "code",
      "metadata": {
        "colab": {
          "base_uri": "https://localhost:8080/"
        },
        "id": "s5JxDaUKKHGP",
        "outputId": "715d0437-b3f2-473e-cb1b-c7e25cf2ed20"
      },
      "source": [
        "#data augmentation\n",
        "train_datagen = ImageDataGenerator(rescale=1./255, zoom_range=0.3, rotation_range=40,\n",
        "                                   width_shift_range=0.2, height_shift_range=0.2, shear_range=0.2, \n",
        "                                   horizontal_flip=True, fill_mode='nearest')\n",
        "\n",
        "val_datagen = ImageDataGenerator(rescale=1./255)\n",
        "\n",
        "train_generator = train_datagen.flow(train_imgs, train_labels_enc, batch_size=30, shuffle=True)\n",
        "val_generator = val_datagen.flow(validation_imgs, validation_labels_enc, batch_size=30, shuffle=True)\n",
        "#input_shape = (150, 150, 3)\n",
        "print(train_generator.n)\n",
        "print(val_generator.n)"
      ],
      "execution_count": 6,
      "outputs": [
        {
          "output_type": "stream",
          "text": [
            "2561\n",
            "320\n"
          ],
          "name": "stdout"
        }
      ]
    },
    {
      "cell_type": "markdown",
      "metadata": {
        "id": "Yrb14D5eeAe1"
      },
      "source": [
        "# Modelo"
      ]
    },
    {
      "cell_type": "code",
      "metadata": {
        "id": "wO9kAdxOoCfU"
      },
      "source": [
        "#modelos, solo usar 1\n",
        "from keras.layers import Conv2D, MaxPooling2D, Flatten, Dense, Dropout\n",
        "from keras.models import Sequential\n",
        "from keras import optimizers\n",
        "\n",
        "modelo_1 = [    \n",
        "    Conv2D(16, (3,3), activation='relu',input_shape=(150,150,3)),\n",
        "    MaxPooling2D(2,2),\n",
        "    Flatten(),\n",
        "    Dense(7, activation='softmax')\n",
        "]\n",
        "\n",
        "modelo_2 = [\n",
        "    Conv2D(16, (3,3), activation='relu',input_shape=(150,150,3)),\n",
        "    MaxPooling2D(2,2),\n",
        "    Conv2D(32, (3,3), activation='relu'),\n",
        "    MaxPooling2D(2,2),\n",
        "    Flatten(),\n",
        "    Dense(7, activation='softmax')\n",
        "]\n",
        "\n",
        "modelo_3 = [\n",
        "    Conv2D(16, (3,3), activation='relu',input_shape=(150,150,3)),\n",
        "    MaxPooling2D(2,2),\n",
        "    Conv2D(32, (3,3), activation='relu'),\n",
        "    MaxPooling2D(2,2),\n",
        "    Conv2D(64, (5,5), activation='relu'),\n",
        "    MaxPooling2D(2,2),\n",
        "    Flatten(),\n",
        "    Dropout(0.3),\n",
        "    Dense(7, activation='softmax')\n",
        "]\n",
        "\n",
        "modelo_4 = [\n",
        "    Conv2D(16, (3,3), activation='relu',input_shape=(150,150,3)),\n",
        "    MaxPooling2D(2,2),\n",
        "    Conv2D(32, (3,3), activation='relu'),\n",
        "    MaxPooling2D(2,2),\n",
        "    Conv2D(64, (5,5), activation='relu'),\n",
        "    MaxPooling2D(2,2),\n",
        "    Conv2D(128, (5,5), activation='relu'),\n",
        "    MaxPooling2D(2,2),\n",
        "    Flatten(),\n",
        "    Dense(7, activation='softmax')\n",
        "]\n",
        "\n",
        "modelo_5 = [\n",
        "    Conv2D(16, (3,3), activation='relu',input_shape=(150,150,3)),\n",
        "    MaxPooling2D(2,2),\n",
        "    Conv2D(32, (3,3), activation='relu'),\n",
        "    MaxPooling2D(2,2),\n",
        "    Conv2D(64, (5,5), activation='relu'),\n",
        "    MaxPooling2D(2,2),\n",
        "    Conv2D(128, (5,5), activation='relu'),\n",
        "    MaxPooling2D(2,2),\n",
        "    Conv2D(128, (5,5), activation='relu'),\n",
        "    MaxPooling2D(2,2),\n",
        "    Flatten(),\n",
        "    Dense(7, activation='softmax')\n",
        "]\n",
        "\n",
        "modelo_6 = [    \n",
        "    Conv2D(16, (3,3), activation='relu',input_shape=(150,150,3)),\n",
        "    MaxPooling2D(2,2),\n",
        "    Conv2D(32, (3,3), activation='relu'),\n",
        "    MaxPooling2D(2,2),\n",
        "    Conv2D(64, (5,5), activation='relu'),\n",
        "    MaxPooling2D(2,2),\n",
        "    Conv2D(128, (5,5), activation='relu'),\n",
        "    MaxPooling2D(2,2),\n",
        "    Conv2D(128, (5,5), activation='relu'),\n",
        "    MaxPooling2D(2,2),\n",
        "    Flatten(),\n",
        "    Dense(128, activation='relu'),\n",
        "    Dense(7, activation='softmax')\n",
        "]\n",
        "\n",
        "modelo_7 = [\n",
        "    Conv2D(16, (3,3), activation='relu',input_shape=(150,150,3)),\n",
        "    MaxPooling2D(2,2),\n",
        "    Conv2D(32, (3,3), activation='relu'),\n",
        "    MaxPooling2D(2,2),\n",
        "    Conv2D(64, (5,5), activation='relu'),\n",
        "    MaxPooling2D(2,2),\n",
        "    Conv2D(128, (5,5), activation='relu'),\n",
        "    MaxPooling2D(2,2),\n",
        "    Conv2D(128, (5,5), activation='relu'),\n",
        "    MaxPooling2D(2,2),\n",
        "    Flatten(),\n",
        "    Dense(128, activation='relu'),\n",
        "    Dense(256, activation='relu'),\n",
        "    Dense(7, activation='softmax')\n",
        "]\n",
        "\n",
        "modelo_8 = [\n",
        "    Conv2D(16, (3,3), activation='relu',input_shape=(150,150,3)),\n",
        "    MaxPooling2D(2,2),\n",
        "    Conv2D(32, (3,3), activation='relu'),\n",
        "    MaxPooling2D(2,2),\n",
        "    Conv2D(64, (5,5), activation='relu'),\n",
        "    MaxPooling2D(2,2),\n",
        "    Conv2D(128, (5,5), activation='relu'),\n",
        "    MaxPooling2D(2,2),\n",
        "    Conv2D(128, (5,5), activation='relu'),\n",
        "    MaxPooling2D(2,2),\n",
        "    Flatten(),\n",
        "    Dense(128, activation='relu'),\n",
        "    Dense(256, activation='relu'),\n",
        "    Dense(512, activation='relu'),\n",
        "    Dense(7, activation='softmax')\n",
        "]\n",
        "\n",
        "modelo_9 = [\n",
        "    Conv2D(16, (3,3), activation='relu',input_shape=(150,150,3)),\n",
        "    MaxPooling2D(2,2),\n",
        "    Conv2D(32, (3,3), activation='relu'),\n",
        "    MaxPooling2D(2,2),\n",
        "    Conv2D(64, (5,5), activation='relu'),\n",
        "    MaxPooling2D(2,2),\n",
        "    Conv2D(128, (5,5), activation='relu'),\n",
        "    MaxPooling2D(2,2),\n",
        "    Conv2D(128, (5,5), activation='relu'),\n",
        "    MaxPooling2D(2,2),\n",
        "    Flatten(),\n",
        "    Dense(128, activation='relu'),\n",
        "    Dense(256, activation='relu'),\n",
        "    Dense(512, activation='relu'),\n",
        "    Dense(512, activation='relu'),\n",
        "    Dense(7, activation='softmax')\n",
        "]"
      ],
      "execution_count": 14,
      "outputs": []
    },
    {
      "cell_type": "code",
      "metadata": {
        "colab": {
          "base_uri": "https://localhost:8080/"
        },
        "id": "RXf6IC_fn8eX",
        "outputId": "5f658a5e-5f6d-4711-e087-9d945a69d981"
      },
      "source": [
        "model = Sequential(modelo_6)\n",
        "\n",
        "model.compile(loss='categorical_crossentropy',\n",
        "              optimizer='adam',\n",
        "              metrics=['accuracy'])\n",
        "\n",
        "model.summary()"
      ],
      "execution_count": 15,
      "outputs": [
        {
          "output_type": "stream",
          "text": [
            "Model: \"sequential_1\"\n",
            "_________________________________________________________________\n",
            "Layer (type)                 Output Shape              Param #   \n",
            "=================================================================\n",
            "conv2d_74 (Conv2D)           (None, 148, 148, 16)      448       \n",
            "_________________________________________________________________\n",
            "max_pooling2d_74 (MaxPooling (None, 74, 74, 16)        0         \n",
            "_________________________________________________________________\n",
            "conv2d_75 (Conv2D)           (None, 72, 72, 32)        4640      \n",
            "_________________________________________________________________\n",
            "max_pooling2d_75 (MaxPooling (None, 36, 36, 32)        0         \n",
            "_________________________________________________________________\n",
            "conv2d_76 (Conv2D)           (None, 32, 32, 64)        51264     \n",
            "_________________________________________________________________\n",
            "max_pooling2d_76 (MaxPooling (None, 16, 16, 64)        0         \n",
            "_________________________________________________________________\n",
            "conv2d_77 (Conv2D)           (None, 12, 12, 128)       204928    \n",
            "_________________________________________________________________\n",
            "max_pooling2d_77 (MaxPooling (None, 6, 6, 128)         0         \n",
            "_________________________________________________________________\n",
            "conv2d_78 (Conv2D)           (None, 2, 2, 128)         409728    \n",
            "_________________________________________________________________\n",
            "max_pooling2d_78 (MaxPooling (None, 1, 1, 128)         0         \n",
            "_________________________________________________________________\n",
            "flatten_23 (Flatten)         (None, 128)               0         \n",
            "_________________________________________________________________\n",
            "dense_30 (Dense)             (None, 128)               16512     \n",
            "_________________________________________________________________\n",
            "dense_31 (Dense)             (None, 7)                 903       \n",
            "=================================================================\n",
            "Total params: 688,423\n",
            "Trainable params: 688,423\n",
            "Non-trainable params: 0\n",
            "_________________________________________________________________\n"
          ],
          "name": "stdout"
        }
      ]
    },
    {
      "cell_type": "code",
      "metadata": {
        "id": "Q8BpQBQxKHGK"
      },
      "source": [
        "#para calcular el tiempo de entrenamiento\n",
        "import time\n",
        "start = time.time() #partiendo"
      ],
      "execution_count": 16,
      "outputs": []
    },
    {
      "cell_type": "markdown",
      "metadata": {
        "id": "Gi9HBHggf6bD"
      },
      "source": [
        "# Entrenamiento"
      ]
    },
    {
      "cell_type": "markdown",
      "metadata": {
        "id": "sga06mSsf_lX"
      },
      "source": [
        "Los steps_per_epoch y epochs para los experimentos variaron de la siguiente forma:\n",
        "*   steps_per_epoch = 30 | epochs = 30\n",
        "*   steps_per_epoch = 30 | epochs = 100\n",
        "*   steps_per_epoch = 86 | epochs = 100\n",
        "\n",
        "Y según la configuracion anterior, se usó Dropout o no\n",
        "\n"
      ]
    },
    {
      "cell_type": "code",
      "metadata": {
        "colab": {
          "base_uri": "https://localhost:8080/"
        },
        "id": "CbCL5nZ5KHGQ",
        "outputId": "e51d935f-d1ba-46ab-d340-b516eb9640b4"
      },
      "source": [
        "STEP_SIZE_VAL=val_generator.n//val_generator.batch_size\n",
        "\n",
        "history = model.fit(train_generator, steps_per_epoch=86, epochs=100, validation_data=val_generator, validation_steps=STEP_SIZE_VAL)"
      ],
      "execution_count": 17,
      "outputs": [
        {
          "output_type": "stream",
          "text": [
            "Epoch 1/100\n",
            "86/86 [==============================] - 41s 148ms/step - loss: 1.9487 - accuracy: 0.1868 - val_loss: 1.9198 - val_accuracy: 0.2033\n",
            "Epoch 2/100\n",
            "86/86 [==============================] - 13s 153ms/step - loss: 1.9266 - accuracy: 0.1968 - val_loss: 1.9124 - val_accuracy: 0.2033\n",
            "Epoch 3/100\n",
            "86/86 [==============================] - 13s 153ms/step - loss: 1.9267 - accuracy: 0.1967 - val_loss: 1.9364 - val_accuracy: 0.1867\n",
            "Epoch 4/100\n",
            "86/86 [==============================] - 12s 142ms/step - loss: 1.9143 - accuracy: 0.2039 - val_loss: 1.8896 - val_accuracy: 0.2033\n",
            "Epoch 5/100\n",
            "86/86 [==============================] - 12s 142ms/step - loss: 1.9006 - accuracy: 0.2107 - val_loss: 1.8825 - val_accuracy: 0.2200\n",
            "Epoch 6/100\n",
            "86/86 [==============================] - 12s 141ms/step - loss: 1.8955 - accuracy: 0.2156 - val_loss: 1.8823 - val_accuracy: 0.2200\n",
            "Epoch 7/100\n",
            "86/86 [==============================] - 13s 149ms/step - loss: 1.8913 - accuracy: 0.2345 - val_loss: 1.8874 - val_accuracy: 0.2100\n",
            "Epoch 8/100\n",
            "86/86 [==============================] - 13s 154ms/step - loss: 1.8798 - accuracy: 0.2316 - val_loss: 1.8799 - val_accuracy: 0.2133\n",
            "Epoch 9/100\n",
            "86/86 [==============================] - 12s 145ms/step - loss: 1.8868 - accuracy: 0.2251 - val_loss: 1.8880 - val_accuracy: 0.2133\n",
            "Epoch 10/100\n",
            "86/86 [==============================] - 13s 153ms/step - loss: 1.8888 - accuracy: 0.2162 - val_loss: 1.8889 - val_accuracy: 0.1867\n",
            "Epoch 11/100\n",
            "86/86 [==============================] - 13s 153ms/step - loss: 1.8828 - accuracy: 0.2201 - val_loss: 1.8922 - val_accuracy: 0.2133\n",
            "Epoch 12/100\n",
            "86/86 [==============================] - 12s 141ms/step - loss: 1.8696 - accuracy: 0.2307 - val_loss: 1.8925 - val_accuracy: 0.2133\n",
            "Epoch 13/100\n",
            "86/86 [==============================] - 12s 142ms/step - loss: 1.8742 - accuracy: 0.2274 - val_loss: 1.8741 - val_accuracy: 0.2167\n",
            "Epoch 14/100\n",
            "86/86 [==============================] - 12s 142ms/step - loss: 1.8554 - accuracy: 0.2206 - val_loss: 1.8804 - val_accuracy: 0.2333\n",
            "Epoch 15/100\n",
            "86/86 [==============================] - 13s 153ms/step - loss: 1.8469 - accuracy: 0.2397 - val_loss: 1.9059 - val_accuracy: 0.2000\n",
            "Epoch 16/100\n",
            "86/86 [==============================] - 13s 155ms/step - loss: 1.8681 - accuracy: 0.2335 - val_loss: 1.8747 - val_accuracy: 0.2233\n",
            "Epoch 17/100\n",
            "86/86 [==============================] - 13s 146ms/step - loss: 1.8614 - accuracy: 0.2290 - val_loss: 1.8546 - val_accuracy: 0.2333\n",
            "Epoch 18/100\n",
            "86/86 [==============================] - 13s 148ms/step - loss: 1.8348 - accuracy: 0.2426 - val_loss: 1.8461 - val_accuracy: 0.2167\n",
            "Epoch 19/100\n",
            "86/86 [==============================] - 13s 149ms/step - loss: 1.8519 - accuracy: 0.2345 - val_loss: 1.8441 - val_accuracy: 0.2767\n",
            "Epoch 20/100\n",
            "86/86 [==============================] - 14s 157ms/step - loss: 1.8156 - accuracy: 0.2634 - val_loss: 1.8325 - val_accuracy: 0.2500\n",
            "Epoch 21/100\n",
            "86/86 [==============================] - 13s 157ms/step - loss: 1.8331 - accuracy: 0.2544 - val_loss: 1.8387 - val_accuracy: 0.2800\n",
            "Epoch 22/100\n",
            "86/86 [==============================] - 12s 143ms/step - loss: 1.8225 - accuracy: 0.2709 - val_loss: 1.8315 - val_accuracy: 0.2567\n",
            "Epoch 23/100\n",
            "86/86 [==============================] - 12s 143ms/step - loss: 1.8082 - accuracy: 0.2646 - val_loss: 1.8054 - val_accuracy: 0.2900\n",
            "Epoch 24/100\n",
            "86/86 [==============================] - 12s 143ms/step - loss: 1.8086 - accuracy: 0.2567 - val_loss: 1.7963 - val_accuracy: 0.2867\n",
            "Epoch 25/100\n",
            "86/86 [==============================] - 13s 149ms/step - loss: 1.7839 - accuracy: 0.2688 - val_loss: 1.8241 - val_accuracy: 0.2733\n",
            "Epoch 26/100\n",
            "86/86 [==============================] - 13s 154ms/step - loss: 1.7914 - accuracy: 0.2795 - val_loss: 1.8148 - val_accuracy: 0.2833\n",
            "Epoch 27/100\n",
            "86/86 [==============================] - 12s 145ms/step - loss: 1.8026 - accuracy: 0.2609 - val_loss: 1.7774 - val_accuracy: 0.3100\n",
            "Epoch 28/100\n",
            "86/86 [==============================] - 12s 142ms/step - loss: 1.7662 - accuracy: 0.2984 - val_loss: 1.7871 - val_accuracy: 0.3000\n",
            "Epoch 29/100\n",
            "86/86 [==============================] - 12s 142ms/step - loss: 1.7691 - accuracy: 0.2915 - val_loss: 1.7399 - val_accuracy: 0.3467\n",
            "Epoch 30/100\n",
            "86/86 [==============================] - 13s 146ms/step - loss: 1.7694 - accuracy: 0.2926 - val_loss: 1.7506 - val_accuracy: 0.3300\n",
            "Epoch 31/100\n",
            "86/86 [==============================] - 13s 155ms/step - loss: 1.7158 - accuracy: 0.3187 - val_loss: 1.7574 - val_accuracy: 0.3133\n",
            "Epoch 32/100\n",
            "86/86 [==============================] - 13s 148ms/step - loss: 1.7577 - accuracy: 0.2924 - val_loss: 1.7517 - val_accuracy: 0.3633\n",
            "Epoch 33/100\n",
            "86/86 [==============================] - 13s 152ms/step - loss: 1.6902 - accuracy: 0.3429 - val_loss: 1.7288 - val_accuracy: 0.3533\n",
            "Epoch 34/100\n",
            "86/86 [==============================] - 13s 155ms/step - loss: 1.6802 - accuracy: 0.3483 - val_loss: 1.6738 - val_accuracy: 0.3667\n",
            "Epoch 35/100\n",
            "86/86 [==============================] - 13s 146ms/step - loss: 1.6717 - accuracy: 0.3478 - val_loss: 1.6698 - val_accuracy: 0.3567\n",
            "Epoch 36/100\n",
            "86/86 [==============================] - 12s 144ms/step - loss: 1.6703 - accuracy: 0.3341 - val_loss: 1.6596 - val_accuracy: 0.3967\n",
            "Epoch 37/100\n",
            "86/86 [==============================] - 12s 144ms/step - loss: 1.6610 - accuracy: 0.3483 - val_loss: 1.7137 - val_accuracy: 0.3433\n",
            "Epoch 38/100\n",
            "86/86 [==============================] - 13s 152ms/step - loss: 1.6783 - accuracy: 0.3496 - val_loss: 1.6934 - val_accuracy: 0.3633\n",
            "Epoch 39/100\n",
            "86/86 [==============================] - 13s 156ms/step - loss: 1.6442 - accuracy: 0.3384 - val_loss: 1.6610 - val_accuracy: 0.3967\n",
            "Epoch 40/100\n",
            "86/86 [==============================] - 13s 148ms/step - loss: 1.5995 - accuracy: 0.3831 - val_loss: 1.6583 - val_accuracy: 0.4100\n",
            "Epoch 41/100\n",
            "86/86 [==============================] - 12s 144ms/step - loss: 1.6294 - accuracy: 0.3552 - val_loss: 1.6465 - val_accuracy: 0.4100\n",
            "Epoch 42/100\n",
            "86/86 [==============================] - 12s 144ms/step - loss: 1.6049 - accuracy: 0.3765 - val_loss: 1.5607 - val_accuracy: 0.4000\n",
            "Epoch 43/100\n",
            "86/86 [==============================] - 13s 148ms/step - loss: 1.5848 - accuracy: 0.3855 - val_loss: 1.6487 - val_accuracy: 0.4000\n",
            "Epoch 44/100\n",
            "86/86 [==============================] - 13s 155ms/step - loss: 1.6006 - accuracy: 0.3900 - val_loss: 1.5739 - val_accuracy: 0.4367\n",
            "Epoch 45/100\n",
            "86/86 [==============================] - 13s 146ms/step - loss: 1.5690 - accuracy: 0.4022 - val_loss: 1.5747 - val_accuracy: 0.4033\n",
            "Epoch 46/100\n",
            "86/86 [==============================] - 12s 142ms/step - loss: 1.5624 - accuracy: 0.4018 - val_loss: 1.5333 - val_accuracy: 0.4667\n",
            "Epoch 47/100\n",
            "86/86 [==============================] - 12s 143ms/step - loss: 1.5323 - accuracy: 0.3914 - val_loss: 1.5226 - val_accuracy: 0.4367\n",
            "Epoch 48/100\n",
            "86/86 [==============================] - 12s 145ms/step - loss: 1.5216 - accuracy: 0.4065 - val_loss: 1.5784 - val_accuracy: 0.3933\n",
            "Epoch 49/100\n",
            "86/86 [==============================] - 13s 156ms/step - loss: 1.5283 - accuracy: 0.3930 - val_loss: 1.5223 - val_accuracy: 0.4267\n",
            "Epoch 50/100\n",
            "86/86 [==============================] - 13s 151ms/step - loss: 1.5311 - accuracy: 0.4142 - val_loss: 1.4904 - val_accuracy: 0.4300\n",
            "Epoch 51/100\n",
            "86/86 [==============================] - 12s 145ms/step - loss: 1.4720 - accuracy: 0.4418 - val_loss: 1.4915 - val_accuracy: 0.4967\n",
            "Epoch 52/100\n",
            "86/86 [==============================] - 12s 144ms/step - loss: 1.4808 - accuracy: 0.4238 - val_loss: 1.5298 - val_accuracy: 0.4267\n",
            "Epoch 53/100\n",
            "86/86 [==============================] - 12s 144ms/step - loss: 1.4553 - accuracy: 0.4479 - val_loss: 1.5070 - val_accuracy: 0.4433\n",
            "Epoch 54/100\n",
            "86/86 [==============================] - 13s 156ms/step - loss: 1.4495 - accuracy: 0.4451 - val_loss: 1.5055 - val_accuracy: 0.4167\n",
            "Epoch 55/100\n",
            "86/86 [==============================] - 13s 154ms/step - loss: 1.4382 - accuracy: 0.4521 - val_loss: 1.4599 - val_accuracy: 0.4600\n",
            "Epoch 56/100\n",
            "86/86 [==============================] - 13s 150ms/step - loss: 1.4289 - accuracy: 0.4678 - val_loss: 1.5621 - val_accuracy: 0.4433\n",
            "Epoch 57/100\n",
            "86/86 [==============================] - 13s 156ms/step - loss: 1.4113 - accuracy: 0.4586 - val_loss: 1.5049 - val_accuracy: 0.4567\n",
            "Epoch 58/100\n",
            "86/86 [==============================] - 13s 148ms/step - loss: 1.4247 - accuracy: 0.4575 - val_loss: 1.4862 - val_accuracy: 0.4600\n",
            "Epoch 59/100\n",
            "86/86 [==============================] - 12s 143ms/step - loss: 1.4681 - accuracy: 0.4404 - val_loss: 1.5274 - val_accuracy: 0.4433\n",
            "Epoch 60/100\n",
            "86/86 [==============================] - 12s 143ms/step - loss: 1.3880 - accuracy: 0.4506 - val_loss: 1.4734 - val_accuracy: 0.4533\n",
            "Epoch 61/100\n",
            "86/86 [==============================] - 13s 147ms/step - loss: 1.3790 - accuracy: 0.4803 - val_loss: 1.4900 - val_accuracy: 0.4767\n",
            "Epoch 62/100\n",
            "86/86 [==============================] - 13s 155ms/step - loss: 1.3985 - accuracy: 0.4755 - val_loss: 1.5028 - val_accuracy: 0.4633\n",
            "Epoch 63/100\n",
            "86/86 [==============================] - 13s 151ms/step - loss: 1.3805 - accuracy: 0.4859 - val_loss: 1.7033 - val_accuracy: 0.4133\n",
            "Epoch 64/100\n",
            "86/86 [==============================] - 12s 144ms/step - loss: 1.3897 - accuracy: 0.4658 - val_loss: 1.5025 - val_accuracy: 0.4667\n",
            "Epoch 65/100\n",
            "86/86 [==============================] - 12s 145ms/step - loss: 1.3619 - accuracy: 0.4909 - val_loss: 1.4677 - val_accuracy: 0.4767\n",
            "Epoch 66/100\n",
            "86/86 [==============================] - 12s 145ms/step - loss: 1.3444 - accuracy: 0.4904 - val_loss: 1.4216 - val_accuracy: 0.5100\n",
            "Epoch 67/100\n",
            "86/86 [==============================] - 13s 155ms/step - loss: 1.3393 - accuracy: 0.4822 - val_loss: 1.4612 - val_accuracy: 0.4667\n",
            "Epoch 68/100\n",
            "86/86 [==============================] - 13s 152ms/step - loss: 1.3194 - accuracy: 0.4923 - val_loss: 1.5079 - val_accuracy: 0.4400\n",
            "Epoch 69/100\n",
            "86/86 [==============================] - 12s 144ms/step - loss: 1.3457 - accuracy: 0.4890 - val_loss: 1.4495 - val_accuracy: 0.5000\n",
            "Epoch 70/100\n",
            "86/86 [==============================] - 12s 145ms/step - loss: 1.3401 - accuracy: 0.5014 - val_loss: 1.4391 - val_accuracy: 0.4700\n",
            "Epoch 71/100\n",
            "86/86 [==============================] - 12s 143ms/step - loss: 1.3288 - accuracy: 0.5053 - val_loss: 1.4061 - val_accuracy: 0.4967\n",
            "Epoch 72/100\n",
            "86/86 [==============================] - 13s 155ms/step - loss: 1.3392 - accuracy: 0.4842 - val_loss: 1.4262 - val_accuracy: 0.5033\n",
            "Epoch 73/100\n",
            "86/86 [==============================] - 13s 154ms/step - loss: 1.3358 - accuracy: 0.4863 - val_loss: 1.4296 - val_accuracy: 0.4833\n",
            "Epoch 74/100\n",
            "86/86 [==============================] - 12s 144ms/step - loss: 1.2912 - accuracy: 0.5040 - val_loss: 1.4509 - val_accuracy: 0.5067\n",
            "Epoch 75/100\n",
            "86/86 [==============================] - 13s 146ms/step - loss: 1.2531 - accuracy: 0.5308 - val_loss: 1.4009 - val_accuracy: 0.5033\n",
            "Epoch 76/100\n",
            "86/86 [==============================] - 12s 144ms/step - loss: 1.2678 - accuracy: 0.5352 - val_loss: 1.5026 - val_accuracy: 0.4867\n",
            "Epoch 77/100\n",
            "86/86 [==============================] - 13s 154ms/step - loss: 1.2465 - accuracy: 0.5441 - val_loss: 1.5109 - val_accuracy: 0.4600\n",
            "Epoch 78/100\n",
            "86/86 [==============================] - 13s 155ms/step - loss: 1.3064 - accuracy: 0.4898 - val_loss: 1.4862 - val_accuracy: 0.4600\n",
            "Epoch 79/100\n",
            "86/86 [==============================] - 12s 143ms/step - loss: 1.2207 - accuracy: 0.5420 - val_loss: 1.4370 - val_accuracy: 0.4600\n",
            "Epoch 80/100\n",
            "86/86 [==============================] - 12s 143ms/step - loss: 1.3285 - accuracy: 0.4816 - val_loss: 1.4792 - val_accuracy: 0.4467\n",
            "Epoch 81/100\n",
            "86/86 [==============================] - 12s 143ms/step - loss: 1.2559 - accuracy: 0.5095 - val_loss: 1.4105 - val_accuracy: 0.4733\n",
            "Epoch 82/100\n",
            "86/86 [==============================] - 13s 150ms/step - loss: 1.2013 - accuracy: 0.5594 - val_loss: 1.4138 - val_accuracy: 0.4933\n",
            "Epoch 83/100\n",
            "86/86 [==============================] - 13s 155ms/step - loss: 1.2191 - accuracy: 0.5421 - val_loss: 1.3921 - val_accuracy: 0.4833\n",
            "Epoch 84/100\n",
            "86/86 [==============================] - 13s 148ms/step - loss: 1.2283 - accuracy: 0.5451 - val_loss: 1.4863 - val_accuracy: 0.4900\n",
            "Epoch 85/100\n",
            "86/86 [==============================] - 13s 156ms/step - loss: 1.2439 - accuracy: 0.5424 - val_loss: 1.3769 - val_accuracy: 0.5033\n",
            "Epoch 86/100\n",
            "86/86 [==============================] - 13s 153ms/step - loss: 1.2382 - accuracy: 0.5156 - val_loss: 1.4200 - val_accuracy: 0.4800\n",
            "Epoch 87/100\n",
            "86/86 [==============================] - 12s 144ms/step - loss: 1.2045 - accuracy: 0.5329 - val_loss: 1.3983 - val_accuracy: 0.5100\n",
            "Epoch 88/100\n",
            "86/86 [==============================] - 13s 146ms/step - loss: 1.1844 - accuracy: 0.5517 - val_loss: 1.4094 - val_accuracy: 0.4633\n",
            "Epoch 89/100\n",
            "86/86 [==============================] - 12s 144ms/step - loss: 1.2269 - accuracy: 0.5454 - val_loss: 1.4909 - val_accuracy: 0.4567\n",
            "Epoch 90/100\n",
            "86/86 [==============================] - 13s 155ms/step - loss: 1.1983 - accuracy: 0.5438 - val_loss: 1.3516 - val_accuracy: 0.5233\n",
            "Epoch 91/100\n",
            "86/86 [==============================] - 13s 154ms/step - loss: 1.1804 - accuracy: 0.5669 - val_loss: 1.5425 - val_accuracy: 0.4900\n",
            "Epoch 92/100\n",
            "86/86 [==============================] - 12s 142ms/step - loss: 1.2508 - accuracy: 0.5284 - val_loss: 1.4859 - val_accuracy: 0.4967\n",
            "Epoch 93/100\n",
            "86/86 [==============================] - 12s 143ms/step - loss: 1.1666 - accuracy: 0.5604 - val_loss: 1.3775 - val_accuracy: 0.4667\n",
            "Epoch 94/100\n",
            "86/86 [==============================] - 12s 142ms/step - loss: 1.2232 - accuracy: 0.5462 - val_loss: 1.4716 - val_accuracy: 0.4867\n",
            "Epoch 95/100\n",
            "86/86 [==============================] - 13s 152ms/step - loss: 1.1855 - accuracy: 0.5449 - val_loss: 1.4452 - val_accuracy: 0.4933\n",
            "Epoch 96/100\n",
            "86/86 [==============================] - 13s 156ms/step - loss: 1.1817 - accuracy: 0.5605 - val_loss: 1.4472 - val_accuracy: 0.5000\n",
            "Epoch 97/100\n",
            "86/86 [==============================] - 12s 144ms/step - loss: 1.1921 - accuracy: 0.5656 - val_loss: 1.4020 - val_accuracy: 0.5133\n",
            "Epoch 98/100\n",
            "86/86 [==============================] - 12s 143ms/step - loss: 1.1736 - accuracy: 0.5656 - val_loss: 1.3988 - val_accuracy: 0.4933\n",
            "Epoch 99/100\n",
            "86/86 [==============================] - 12s 143ms/step - loss: 1.1931 - accuracy: 0.5359 - val_loss: 1.3453 - val_accuracy: 0.5067\n",
            "Epoch 100/100\n",
            "86/86 [==============================] - 13s 153ms/step - loss: 1.1447 - accuracy: 0.5613 - val_loss: 1.4381 - val_accuracy: 0.5167\n"
          ],
          "name": "stdout"
        }
      ]
    },
    {
      "cell_type": "code",
      "metadata": {
        "colab": {
          "base_uri": "https://localhost:8080/"
        },
        "id": "1UlHBOvzKHGT",
        "outputId": "09baf9c9-16cf-4702-def0-b49f9c1eb8ad"
      },
      "source": [
        "done = time.time()\n",
        "elapsed = done - start #terminando\n",
        "print(\"Tiempo total de ejecución training/validation\", elapsed)"
      ],
      "execution_count": 18,
      "outputs": [
        {
          "output_type": "stream",
          "text": [
            "Tiempo total de ejecución training/validation 1391.9668893814087\n"
          ],
          "name": "stdout"
        }
      ]
    },
    {
      "cell_type": "markdown",
      "metadata": {
        "id": "riBexwbbha7B"
      },
      "source": [
        "# Gráfico de entrenamiento"
      ]
    },
    {
      "cell_type": "code",
      "metadata": {
        "colab": {
          "base_uri": "https://localhost:8080/",
          "height": 308
        },
        "id": "NUYIwi3QKHGT",
        "outputId": "dadf71bd-5be7-4b7e-993b-162115cfc444"
      },
      "source": [
        "f, (ax1, ax2) = plt.subplots(1, 2, figsize=(12, 4))\n",
        "t = f.suptitle('Modelo 6 Data Augmentation 86-100', fontsize=12)\n",
        "f.subplots_adjust(top=0.85, wspace=0.3)\n",
        "\n",
        "epoch_list = list(range(1,101))\n",
        "ax1.plot(epoch_list, history.history['accuracy'], label='Train Accuracy')\n",
        "ax1.plot(epoch_list, history.history['val_accuracy'], label='Validation Accuracy')\n",
        "ax1.set_xticks(np.arange(1, 101, 5))\n",
        "ax1.set_ylabel('Accuracy Value')\n",
        "ax1.set_xlabel('Epoch')\n",
        "ax1.set_title('Accuracy')\n",
        "l1 = ax1.legend(loc=\"best\")\n",
        "\n",
        "ax2.plot(epoch_list, history.history['loss'], label='Train Loss')\n",
        "ax2.plot(epoch_list, history.history['val_loss'], label='Validation Loss')\n",
        "ax2.set_xticks(np.arange(0, 101, 5))\n",
        "ax2.set_ylabel('Loss Value')\n",
        "ax2.set_xlabel('Epoch')\n",
        "ax2.set_title('Loss')\n",
        "l2 = ax2.legend(loc=\"best\")"
      ],
      "execution_count": 19,
      "outputs": [
        {
          "output_type": "display_data",
          "data": {
            "image/png": "[encoded data removed]",
            "text/plain": [
              "<Figure size 864x288 with 2 Axes>"
            ]
          },
          "metadata": {
            "tags": [],
            "needs_background": "light"
          }
        }
      ]
    },
    {
      "cell_type": "code",
      "metadata": {
        "id": "Wo6N90qHKHGT"
      },
      "source": [
        "#se guarda modelo luego del entrenamiento\n",
        "model.save('modelo6_DA-86-100.h5') #este modelo fue el que mejor resultados entregó"
      ],
      "execution_count": null,
      "outputs": []
    },
    {
      "cell_type": "markdown",
      "metadata": {
        "id": "nhFDDlUahtXL"
      },
      "source": [
        "# Carga del modelo entrenado\n",
        "\n",
        "Este paso se puede utilizar sin la necesidad de entrenar, ya que el modelo entrenado esta disponible, pero si usted quiere volver a entrenar con otro modelo o configuracióón puede hacerlo en los pasos anteriores."
      ]
    },
    {
      "cell_type": "code",
      "metadata": {
        "id": "xis9T5hjKHGT",
        "colab": {
          "base_uri": "https://localhost:8080/"
        },
        "outputId": "ca8c351f-fe60-4c89-ce91-4b812141d718"
      },
      "source": [
        "from keras.models import load_model\n",
        "#descarga del modelo M6\n",
        "!wget https://www.dropbox.com/s/ue9pujl6wsarbk2/modelo6_DA-86-100.h5\n",
        "# cargar el modelo\n",
        "modelo_6_DA = load_model('modelo6_DA-86-100.h5')\n",
        "\n",
        "clear_output()\n",
        "print('Modelo cargado')"
      ],
      "execution_count": 20,
      "outputs": [
        {
          "output_type": "stream",
          "text": [
            "Modelo cargado\n"
          ],
          "name": "stdout"
        }
      ]
    },
    {
      "cell_type": "markdown",
      "metadata": {
        "id": "CT8qPPKvkNjt"
      },
      "source": [
        "# Preprocesamiento de datos de Test"
      ]
    },
    {
      "cell_type": "code",
      "metadata": {
        "colab": {
          "base_uri": "https://localhost:8080/"
        },
        "id": "lZGQ__ASKHGU",
        "outputId": "4e912509-86a7-498a-9d92-753a0cf74334"
      },
      "source": [
        "IMG_DIM = (150, 150)\n",
        "\n",
        "test_files = glob.glob('test_data/*')\n",
        "test_imgs = [img_to_array(load_img(img, target_size=IMG_DIM)) for img in test_files]\n",
        "test_imgs = np.array(test_imgs)\n",
        "test_labels = [fn.split('/')[1].split('.')[0].strip() for fn in test_files]\n",
        "\n",
        "test_imgs_scaled = test_imgs.astype('float32')\n",
        "test_imgs_scaled /= 255\n",
        "\n",
        "print('Test dataset shape:', test_imgs.shape)\n",
        "print(test_labels[100:105])"
      ],
      "execution_count": 21,
      "outputs": [
        {
          "output_type": "stream",
          "text": [
            "Test dataset shape: (320, 150, 150, 3)\n",
            "['cuadrado', 'rectangulo', 'rectangulo', 'trapecio', 'rombo']\n"
          ],
          "name": "stdout"
        }
      ]
    },
    {
      "cell_type": "code",
      "metadata": {
        "colab": {
          "base_uri": "https://localhost:8080/"
        },
        "id": "3439ZrEeKHGU",
        "outputId": "a0aa9bc5-d07e-4235-b8c7-1b22479264ec"
      },
      "source": [
        "test_labels_enc = le.transform(test_labels)\n",
        "test_labels_enc = to_categorical(test_labels_enc, num_classes)\n",
        "\n",
        "test_eval = modelo_6_DA.evaluate(test_imgs_scaled, test_labels_enc, verbose=1)\n",
        " \n",
        "print('Test loss:', test_eval[0])\n",
        "print('Test accuracy:', test_eval[1])"
      ],
      "execution_count": 22,
      "outputs": [
        {
          "output_type": "stream",
          "text": [
            "10/10 [==============================] - 1s 7ms/step - loss: 1.1777 - accuracy: 0.5813\n",
            "Test loss: 1.1776564121246338\n",
            "Test accuracy: 0.581250011920929\n"
          ],
          "name": "stdout"
        }
      ]
    },
    {
      "cell_type": "code",
      "metadata": {
        "colab": {
          "base_uri": "https://localhost:8080/"
        },
        "id": "ozykGKxFKHGU",
        "outputId": "513da002-110f-4383-f15e-6189c8645f94"
      },
      "source": [
        "from sklearn import metrics\n",
        "import numpy as np\n",
        "\n",
        "# de numero a etiquetas, según prediccion del modelo\n",
        "predictions = np.argmax(modelo_6_DA.predict(test_imgs_scaled), axis=-1)\n",
        "\n",
        "test_labels_pred = []\n",
        "\n",
        "for i in range(320):\n",
        "    if predictions[i] == 0:\n",
        "        test_labels_pred.append('circulo')\n",
        "    elif predictions[i] == 1:\n",
        "        test_labels_pred.append('cuadrado')\n",
        "    elif predictions[i] == 2:\n",
        "        test_labels_pred.append('elipse')\n",
        "    elif predictions[i] == 3:\n",
        "        test_labels_pred.append('rectangulo')\n",
        "    elif predictions[i] == 4:\n",
        "        test_labels_pred.append('rombo')\n",
        "    elif predictions[i] == 5:\n",
        "        test_labels_pred.append('trapecio')\n",
        "    else:\n",
        "        test_labels_pred.append('triangulo')\n",
        "\n",
        "print(test_labels_pred)"
      ],
      "execution_count": 24,
      "outputs": [
        {
          "output_type": "stream",
          "text": [
            "['circulo', 'rectangulo', 'circulo', 'trapecio', 'rectangulo', 'cuadrado', 'triangulo', 'triangulo', 'trapecio', 'rectangulo', 'elipse', 'triangulo', 'circulo', 'elipse', 'triangulo', 'circulo', 'rectangulo', 'rombo', 'triangulo', 'trapecio', 'circulo', 'circulo', 'cuadrado', 'rombo', 'circulo', 'elipse', 'rectangulo', 'rombo', 'trapecio', 'trapecio', 'rectangulo', 'rectangulo', 'triangulo', 'circulo', 'rombo', 'rectangulo', 'rombo', 'trapecio', 'triangulo', 'triangulo', 'rectangulo', 'rectangulo', 'circulo', 'triangulo', 'trapecio', 'triangulo', 'circulo', 'circulo', 'circulo', 'elipse', 'rombo', 'triangulo', 'triangulo', 'elipse', 'triangulo', 'triangulo', 'circulo', 'trapecio', 'circulo', 'triangulo', 'triangulo', 'triangulo', 'rombo', 'cuadrado', 'cuadrado', 'cuadrado', 'triangulo', 'triangulo', 'trapecio', 'rectangulo', 'triangulo', 'trapecio', 'cuadrado', 'triangulo', 'circulo', 'elipse', 'rombo', 'trapecio', 'cuadrado', 'elipse', 'circulo', 'circulo', 'trapecio', 'rombo', 'rombo', 'rombo', 'cuadrado', 'triangulo', 'circulo', 'circulo', 'circulo', 'cuadrado', 'circulo', 'rombo', 'circulo', 'circulo', 'trapecio', 'cuadrado', 'trapecio', 'rombo', 'rectangulo', 'rectangulo', 'circulo', 'trapecio', 'rombo', 'circulo', 'rectangulo', 'circulo', 'cuadrado', 'circulo', 'rombo', 'circulo', 'circulo', 'rectangulo', 'elipse', 'circulo', 'rombo', 'circulo', 'triangulo', 'circulo', 'circulo', 'circulo', 'triangulo', 'rectangulo', 'trapecio', 'triangulo', 'rombo', 'rombo', 'rombo', 'rectangulo', 'cuadrado', 'rectangulo', 'circulo', 'triangulo', 'elipse', 'trapecio', 'elipse', 'circulo', 'circulo', 'triangulo', 'rombo', 'trapecio', 'rombo', 'elipse', 'triangulo', 'rombo', 'circulo', 'circulo', 'circulo', 'rectangulo', 'circulo', 'circulo', 'cuadrado', 'circulo', 'rectangulo', 'triangulo', 'circulo', 'rectangulo', 'rombo', 'rectangulo', 'elipse', 'triangulo', 'elipse', 'rombo', 'triangulo', 'elipse', 'circulo', 'elipse', 'rombo', 'triangulo', 'rombo', 'cuadrado', 'triangulo', 'trapecio', 'cuadrado', 'elipse', 'circulo', 'rectangulo', 'elipse', 'rombo', 'trapecio', 'triangulo', 'trapecio', 'rectangulo', 'circulo', 'circulo', 'elipse', 'trapecio', 'cuadrado', 'triangulo', 'circulo', 'trapecio', 'elipse', 'circulo', 'trapecio', 'elipse', 'circulo', 'trapecio', 'trapecio', 'circulo', 'rombo', 'circulo', 'elipse', 'triangulo', 'trapecio', 'circulo', 'trapecio', 'circulo', 'triangulo', 'elipse', 'circulo', 'elipse', 'trapecio', 'triangulo', 'trapecio', 'rectangulo', 'rombo', 'rectangulo', 'triangulo', 'circulo', 'triangulo', 'cuadrado', 'circulo', 'rombo', 'circulo', 'trapecio', 'cuadrado', 'trapecio', 'triangulo', 'circulo', 'circulo', 'circulo', 'cuadrado', 'cuadrado', 'triangulo', 'rectangulo', 'trapecio', 'triangulo', 'rombo', 'rombo', 'trapecio', 'rombo', 'circulo', 'rombo', 'triangulo', 'elipse', 'circulo', 'circulo', 'circulo', 'rectangulo', 'rombo', 'trapecio', 'rombo', 'cuadrado', 'rectangulo', 'circulo', 'elipse', 'cuadrado', 'rombo', 'rectangulo', 'elipse', 'circulo', 'trapecio', 'rectangulo', 'circulo', 'triangulo', 'rectangulo', 'circulo', 'rombo', 'rectangulo', 'circulo', 'circulo', 'circulo', 'trapecio', 'trapecio', 'rombo', 'circulo', 'elipse', 'rombo', 'circulo', 'circulo', 'circulo', 'triangulo', 'cuadrado', 'trapecio', 'circulo', 'elipse', 'rombo', 'rectangulo', 'rectangulo', 'trapecio', 'triangulo', 'elipse', 'rectangulo', 'triangulo', 'rectangulo', 'circulo', 'circulo', 'trapecio', 'trapecio', 'cuadrado', 'circulo', 'triangulo', 'rombo', 'rectangulo', 'rombo', 'rombo', 'circulo', 'rectangulo', 'rectangulo', 'triangulo', 'rombo', 'cuadrado', 'rectangulo', 'trapecio', 'elipse', 'triangulo', 'rombo', 'elipse', 'rectangulo']\n"
          ],
          "name": "stdout"
        }
      ]
    },
    {
      "cell_type": "code",
      "metadata": {
        "colab": {
          "base_uri": "https://localhost:8080/"
        },
        "id": "Tzi5BjaCKHGV",
        "outputId": "20834867-8e2d-48e7-9d84-b10740d68452"
      },
      "source": [
        "from sklearn import metrics\n",
        "\n",
        "# Matriz de confusión\n",
        "print(metrics.confusion_matrix(test_labels, test_labels_pred))\n",
        "\n",
        "# Precision and recall, F1-score y support\n",
        "print(metrics.classification_report(test_labels, test_labels_pred, digits=3))"
      ],
      "execution_count": 25,
      "outputs": [
        {
          "output_type": "stream",
          "text": [
            "[[58  1  2  0  4  0  0]\n",
            " [ 2  8  3 19  8  1  4]\n",
            " [11  0 19  0  2  4  0]\n",
            " [ 3  4  1 20  2  7  2]\n",
            " [ 1  7  0  1 24  1  8]\n",
            " [ 3  5  2  1  3 25  5]\n",
            " [ 4  0  4  1  3  5 32]]\n",
            "              precision    recall  f1-score   support\n",
            "\n",
            "     circulo      0.707     0.892     0.789        65\n",
            "    cuadrado      0.320     0.178     0.229        45\n",
            "      elipse      0.613     0.528     0.567        36\n",
            "  rectangulo      0.476     0.513     0.494        39\n",
            "       rombo      0.522     0.571     0.545        42\n",
            "    trapecio      0.581     0.568     0.575        44\n",
            "   triangulo      0.627     0.653     0.640        49\n",
            "\n",
            "    accuracy                          0.581       320\n",
            "   macro avg      0.550     0.558     0.548       320\n",
            "weighted avg      0.560     0.581     0.565       320\n",
            "\n"
          ],
          "name": "stdout"
        }
      ]
    }
  ]
}