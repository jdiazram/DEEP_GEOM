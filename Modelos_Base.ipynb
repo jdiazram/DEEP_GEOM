{
  "nbformat": 4,
  "nbformat_minor": 0,
  "metadata": {
    "language_info": {
      "codemirror_mode": {
        "name": "ipython",
        "version": 3
      },
      "file_extension": ".py",
      "mimetype": "text/x-python",
      "name": "python",
      "nbconvert_exporter": "python",
      "pygments_lexer": "ipython3",
      "version": "3.8.5-final"
    },
    "orig_nbformat": 2,
    "kernelspec": {
      "name": "python3",
      "display_name": "Python 3",
      "language": "python"
    },
    "colab": {
      "name": "Modelos_Base.ipynb",
      "provenance": [],
      "collapsed_sections": [],
      "toc_visible": true,
      "machine_shape": "hm",
      "include_colab_link": true
    },
    "accelerator": "GPU"
  },
  "cells": [
    {
      "cell_type": "markdown",
      "metadata": {
        "id": "view-in-github",
        "colab_type": "text"
      },
      "source": [
        "<a href=\"https://colab.research.google.com/github/jdiazram/DEEP_GEOM/blob/master/Modelos_Base.ipynb\" target=\"_parent\"><img src=\"https://colab.research.google.com/assets/colab-badge.svg\" alt=\"Open In Colab\"/></a>"
      ]
    },
    {
      "cell_type": "markdown",
      "metadata": {
        "id": "-LE42J3GWkf4"
      },
      "source": [
        "# Importar librerías"
      ]
    },
    {
      "cell_type": "code",
      "metadata": {
        "colab": {
          "base_uri": "https://localhost:8080/"
        },
        "id": "XKmmaLVDKHGL",
        "outputId": "7f0c3682-45b3-4c0b-cb0a-36fcf915d53d"
      },
      "source": [
        "import numpy as np #\n",
        "import glob\n",
        "import os\n",
        "import matplotlib.pyplot as plt\n",
        "import tensorflow as tf # Import TensorFlow \n",
        "print(tf.version.VERSION) # Check TensorFlow version\n",
        "import keras\n",
        "from keras.preprocessing.image import ImageDataGenerator, load_img, img_to_array, array_to_img\n",
        "\n",
        "%matplotlib inline \n",
        "#hará que las salidas de gráficos aparezcan y se almacenen en el cuaderno\n",
        "\n",
        "from IPython.display import clear_output #limpiar"
      ],
      "execution_count": null,
      "outputs": [
        {
          "output_type": "stream",
          "name": "stdout",
          "text": [
            "2.7.0\n"
          ]
        }
      ]
    },
    {
      "cell_type": "markdown",
      "metadata": {
        "id": "lHyJ2PA_aiZR"
      },
      "source": [
        "# Cargar base de datos"
      ]
    },
    {
      "cell_type": "code",
      "metadata": {
        "colab": {
          "base_uri": "https://localhost:8080/"
        },
        "id": "ixfMdmwfUx1N",
        "outputId": "61f7bd70-0e08-46f3-db0f-a2f903993a27"
      },
      "source": [
        "# Carga de base de datos\n",
        "!wget https://www.dropbox.com/s/duigf1xgl38tb8o/DG_V2.zip\n",
        "!unzip DG_V2.zip\n",
        "!rm DG_V2.zip\n",
        "\n",
        "clear_output()\n",
        "print('Base de datos cargada')"
      ],
      "execution_count": null,
      "outputs": [
        {
          "output_type": "stream",
          "name": "stdout",
          "text": [
            "Base de datos cargada\n"
          ]
        }
      ]
    },
    {
      "cell_type": "markdown",
      "metadata": {
        "id": "rt1lGqfQasTT"
      },
      "source": [
        "# Preprocesamiento"
      ]
    },
    {
      "cell_type": "code",
      "metadata": {
        "colab": {
          "base_uri": "https://localhost:8080/"
        },
        "id": "15uoE-BCKHGN",
        "outputId": "9d48c5bf-1259-4452-d80a-ff8e30bbb5b6"
      },
      "source": [
        "#carga de datos en variables\n",
        "IMG_DIM = (150, 150)\n",
        "\n",
        "train_files = glob.glob('training_data/*')\n",
        "train_imgs = [img_to_array(load_img(img, target_size=IMG_DIM)) for img in train_files]\n",
        "train_imgs = np.array(train_imgs)\n",
        "train_labels = [fn.split('/')[1].split('.')[0].strip() for fn in train_files]\n",
        "#print(train_labels)\n",
        "\n",
        "validation_files = glob.glob('validation_data/*')\n",
        "validation_imgs = [img_to_array(load_img(img, target_size=IMG_DIM)) for img in validation_files]\n",
        "validation_imgs = np.array(validation_imgs)\n",
        "validation_labels = [fn.split('/')[1].split('.')[0].strip() for fn in validation_files]\n",
        "#print(validation_labels)\n",
        "print('Train dataset shape:', train_imgs.shape) \n",
        "print('Validation dataset shape:', validation_imgs.shape)\n",
        "mf_validation = validation_imgs.shape[0]"
      ],
      "execution_count": null,
      "outputs": [
        {
          "output_type": "stream",
          "name": "stdout",
          "text": [
            "Train dataset shape: (7000, 150, 150, 3)\n",
            "Validation dataset shape: (875, 150, 150, 3)\n"
          ]
        }
      ]
    },
    {
      "cell_type": "code",
      "metadata": {
        "colab": {
          "base_uri": "https://localhost:8080/",
          "height": 185
        },
        "id": "jz53HO4UKHGO",
        "outputId": "82653a32-218c-4be3-d622-ec1dedd68e96"
      },
      "source": [
        "#normalizacion\n",
        "train_imgs_scaled = train_imgs.astype('float32')\n",
        "validation_imgs_scaled  = validation_imgs.astype('float32')\n",
        "train_imgs_scaled /= 255\n",
        "validation_imgs_scaled /= 255\n",
        "\n",
        "print(train_imgs[2556].shape)\n",
        "array_to_img(train_imgs[2556])"
      ],
      "execution_count": null,
      "outputs": [
        {
          "output_type": "stream",
          "name": "stdout",
          "text": [
            "(150, 150, 3)\n"
          ]
        },
        {
          "output_type": "execute_result",
          "data": {
            "image/png": "[encoded data removed]",
            "text/plain": [
              "<PIL.Image.Image image mode=RGB size=150x150 at 0x7FCE741BECD0>"
            ]
          },
          "metadata": {},
          "execution_count": 4
        }
      ]
    },
    {
      "cell_type": "code",
      "metadata": {
        "colab": {
          "base_uri": "https://localhost:8080/"
        },
        "id": "o1t39OUQKHGO",
        "outputId": "3344d798-b83d-494e-ed66-5ee53fc2dbde"
      },
      "source": [
        "#Codificación los LABEL mediante One Hot Encoding\n",
        "batch_size = 30\n",
        "num_classes = 7\n",
        "epochs = 30\n",
        "input_shape = (150, 150, 3)\n",
        "\n",
        "# encode text category labels\n",
        "from sklearn.preprocessing import LabelEncoder\n",
        "from tensorflow.keras.utils import to_categorical\n",
        "\n",
        "le = LabelEncoder()\n",
        "le.fit(train_labels)\n",
        "train_labels_enc = le.transform(train_labels)\n",
        "train_labels_enc = to_categorical(train_labels_enc, num_classes)\n",
        "validation_labels_enc = le.transform(validation_labels)\n",
        "validation_labels_enc = to_categorical(validation_labels_enc, num_classes)\n",
        "\n",
        "print(train_labels[455:465]) \n",
        "print(train_labels_enc[455:465]) #ejemplo de rango"
      ],
      "execution_count": null,
      "outputs": [
        {
          "output_type": "stream",
          "name": "stdout",
          "text": [
            "['elipse', 'cuadrado', 'trapecio', 'rombo', 'elipse', 'triangulo', 'rectangulo', 'rombo', 'cuadrado', 'rombo']\n",
            "[[0. 0. 1. 0. 0. 0. 0.]\n",
            " [0. 1. 0. 0. 0. 0. 0.]\n",
            " [0. 0. 0. 0. 0. 1. 0.]\n",
            " [0. 0. 0. 0. 1. 0. 0.]\n",
            " [0. 0. 1. 0. 0. 0. 0.]\n",
            " [0. 0. 0. 0. 0. 0. 1.]\n",
            " [0. 0. 0. 1. 0. 0. 0.]\n",
            " [0. 0. 0. 0. 1. 0. 0.]\n",
            " [0. 1. 0. 0. 0. 0. 0.]\n",
            " [0. 0. 0. 0. 1. 0. 0.]]\n"
          ]
        }
      ]
    },
    {
      "cell_type": "code",
      "metadata": {
        "colab": {
          "base_uri": "https://localhost:8080/"
        },
        "id": "s5JxDaUKKHGP",
        "outputId": "0e924374-8313-4715-f836-131e4186593c"
      },
      "source": [
        "#data augmentation\n",
        "train_datagen = ImageDataGenerator(rescale=1./255, zoom_range=0.3, rotation_range=40,\n",
        "                                   width_shift_range=0.2, height_shift_range=0.2, shear_range=0.2, \n",
        "                                   horizontal_flip=True, fill_mode='nearest')\n",
        "\n",
        "val_datagen = ImageDataGenerator(rescale=1./255)\n",
        "\n",
        "train_generator = train_datagen.flow(train_imgs, train_labels_enc, batch_size=30, shuffle=True)\n",
        "val_generator = val_datagen.flow(validation_imgs, validation_labels_enc, batch_size=30, shuffle=True)\n",
        "#input_shape = (150, 150, 3)\n",
        "print(train_generator.n)\n",
        "print(val_generator.n)"
      ],
      "execution_count": null,
      "outputs": [
        {
          "output_type": "stream",
          "name": "stdout",
          "text": [
            "7000\n",
            "875\n"
          ]
        }
      ]
    },
    {
      "cell_type": "markdown",
      "metadata": {
        "id": "Yrb14D5eeAe1"
      },
      "source": [
        "# Modelo"
      ]
    },
    {
      "cell_type": "code",
      "metadata": {
        "id": "wO9kAdxOoCfU"
      },
      "source": [
        "#modelos sin dropout, solo usar 1. Para usar Dropout elimine comentario en la capa correspodiente\n",
        "from keras.layers import Conv2D, MaxPooling2D, Flatten, Dense, Dropout\n",
        "from keras.models import Sequential\n",
        "from keras import optimizers\n",
        "\n",
        "modelo_1 = [    \n",
        "    Conv2D(16, (3,3), activation='relu',input_shape=(150,150,3)),\n",
        "    MaxPooling2D(2,2),\n",
        "    Flatten(),\n",
        "    #Dropout(0.3),\n",
        "    Dense(7, activation='softmax')\n",
        "]\n",
        "\n",
        "modelo_2 = [\n",
        "    Conv2D(16, (3,3), activation='relu',input_shape=(150,150,3)),\n",
        "    MaxPooling2D(2,2),\n",
        "    Conv2D(32, (3,3), activation='relu'),\n",
        "    MaxPooling2D(2,2),\n",
        "    Flatten(),\n",
        "    #Dropout(0.3),\n",
        "    Dense(7, activation='softmax')\n",
        "]\n",
        "\n",
        "modelo_3 = [\n",
        "    Conv2D(16, (3,3), activation='relu',input_shape=(150,150,3)),\n",
        "    MaxPooling2D(2,2),\n",
        "    Conv2D(32, (3,3), activation='relu'),\n",
        "    MaxPooling2D(2,2),\n",
        "    Conv2D(64, (5,5), activation='relu'),\n",
        "    MaxPooling2D(2,2),\n",
        "    Flatten(),\n",
        "    #Dropout(0.3),\n",
        "    Dense(7, activation='softmax')\n",
        "]\n",
        "\n",
        "modelo_4 = [\n",
        "    Conv2D(16, (3,3), activation='relu',input_shape=(150,150,3)),\n",
        "    MaxPooling2D(2,2),\n",
        "    Conv2D(32, (3,3), activation='relu'),\n",
        "    MaxPooling2D(2,2),\n",
        "    Conv2D(64, (5,5), activation='relu'),\n",
        "    MaxPooling2D(2,2),\n",
        "    Conv2D(128, (5,5), activation='relu'),\n",
        "    MaxPooling2D(2,2),\n",
        "    Flatten(),\n",
        "    #Dropout(0.3),\n",
        "    Dense(7, activation='softmax')\n",
        "]\n",
        "\n",
        "modelo_5 = [\n",
        "    Conv2D(16, (3,3), activation='relu',input_shape=(150,150,3)),\n",
        "    MaxPooling2D(2,2),\n",
        "    Conv2D(32, (3,3), activation='relu'),\n",
        "    MaxPooling2D(2,2),\n",
        "    Conv2D(64, (5,5), activation='relu'),\n",
        "    MaxPooling2D(2,2),\n",
        "    Conv2D(128, (5,5), activation='relu'),\n",
        "    MaxPooling2D(2,2),\n",
        "    Conv2D(128, (5,5), activation='relu'),\n",
        "    MaxPooling2D(2,2),\n",
        "    Flatten(),\n",
        "    #Dropout(0.3),\n",
        "    Dense(7, activation='softmax')\n",
        "]\n",
        "\n",
        "modelo_6 = [    \n",
        "    Conv2D(16, (3,3), activation='relu',input_shape=(150,150,3)),\n",
        "    MaxPooling2D(2,2),\n",
        "    Conv2D(32, (3,3), activation='relu'),\n",
        "    MaxPooling2D(2,2),\n",
        "    Conv2D(64, (5,5), activation='relu'),\n",
        "    MaxPooling2D(2,2),\n",
        "    Conv2D(128, (5,5), activation='relu'),\n",
        "    MaxPooling2D(2,2),\n",
        "    Conv2D(128, (5,5), activation='relu'),\n",
        "    MaxPooling2D(2,2),\n",
        "    Flatten(),\n",
        "    #Dropout(0.3),\n",
        "    Dense(128, activation='relu'),\n",
        "    #Dropout(0.3),\n",
        "    Dense(7, activation='softmax')\n",
        "]\n",
        "\n",
        "modelo_7 = [\n",
        "    Conv2D(16, (3,3), activation='relu',input_shape=(150,150,3)),\n",
        "    MaxPooling2D(2,2),\n",
        "    Conv2D(32, (3,3), activation='relu'),\n",
        "    MaxPooling2D(2,2),\n",
        "    Conv2D(64, (5,5), activation='relu'),\n",
        "    MaxPooling2D(2,2),\n",
        "    Conv2D(128, (5,5), activation='relu'),\n",
        "    MaxPooling2D(2,2),\n",
        "    Conv2D(128, (5,5), activation='relu'),\n",
        "    MaxPooling2D(2,2),\n",
        "    Flatten(),\n",
        "    #Dropout(0.3),\n",
        "    Dense(128, activation='relu'),\n",
        "    #Dropout(0.3),\n",
        "    Dense(256, activation='relu'),\n",
        "    #Dropout(0.3),\n",
        "    Dense(7, activation='softmax')\n",
        "]\n",
        "\n",
        "modelo_8 = [\n",
        "    Conv2D(16, (3,3), activation='relu',input_shape=(150,150,3)),\n",
        "    MaxPooling2D(2,2),\n",
        "    Conv2D(32, (3,3), activation='relu'),\n",
        "    MaxPooling2D(2,2),\n",
        "    Conv2D(64, (5,5), activation='relu'),\n",
        "    MaxPooling2D(2,2),\n",
        "    Conv2D(128, (5,5), activation='relu'),\n",
        "    MaxPooling2D(2,2),\n",
        "    Conv2D(128, (5,5), activation='relu'),\n",
        "    MaxPooling2D(2,2),\n",
        "    Flatten(),\n",
        "    #Dropout(0.3),\n",
        "    Dense(128, activation='relu'),\n",
        "    #Dropout(0.3),\n",
        "    Dense(256, activation='relu'),\n",
        "    #Dropout(0.3),\n",
        "    Dense(512, activation='relu'),\n",
        "    #Dropout(0.3),\n",
        "    Dense(7, activation='softmax')\n",
        "]\n",
        "\n",
        "modelo_9 = [\n",
        "    Conv2D(16, (3,3), activation='relu',input_shape=(150,150,3)),\n",
        "    MaxPooling2D(2,2),\n",
        "    Conv2D(32, (3,3), activation='relu'),\n",
        "    MaxPooling2D(2,2),\n",
        "    Conv2D(64, (5,5), activation='relu'),\n",
        "    MaxPooling2D(2,2),\n",
        "    Conv2D(128, (5,5), activation='relu'),\n",
        "    MaxPooling2D(2,2),\n",
        "    Conv2D(128, (5,5), activation='relu'),\n",
        "    MaxPooling2D(2,2),\n",
        "    Flatten(),\n",
        "    #Dropout(0.3),\n",
        "    Dense(128, activation='relu'),\n",
        "    #Dropout(0.3),\n",
        "    Dense(256, activation='relu'),\n",
        "    #Dropout(0.3),\n",
        "    Dense(512, activation='relu'),\n",
        "    #Dropout(0.3),\n",
        "    Dense(512, activation='relu'),\n",
        "    #Dropout(0.3),\n",
        "    Dense(7, activation='softmax')\n",
        "]"
      ],
      "execution_count": null,
      "outputs": []
    },
    {
      "cell_type": "code",
      "metadata": {
        "colab": {
          "base_uri": "https://localhost:8080/"
        },
        "id": "RXf6IC_fn8eX",
        "outputId": "b44d2d44-87b4-47c6-f3e7-11f6afd0f444"
      },
      "source": [
        "with tf.device('/device:GPU:0'):\n",
        "  model = Sequential(modelo_6)\n",
        "\n",
        "  model.compile(loss='categorical_crossentropy',\n",
        "                optimizer='adam',\n",
        "                metrics=['accuracy'])\n",
        "\n",
        "  model.summary()"
      ],
      "execution_count": null,
      "outputs": [
        {
          "output_type": "stream",
          "name": "stdout",
          "text": [
            "Model: \"sequential\"\n",
            "_________________________________________________________________\n",
            " Layer (type)                Output Shape              Param #   \n",
            "=================================================================\n",
            " conv2d_15 (Conv2D)          (None, 148, 148, 16)      448       \n",
            "                                                                 \n",
            " max_pooling2d_15 (MaxPoolin  (None, 74, 74, 16)       0         \n",
            " g2D)                                                            \n",
            "                                                                 \n",
            " conv2d_16 (Conv2D)          (None, 72, 72, 32)        4640      \n",
            "                                                                 \n",
            " max_pooling2d_16 (MaxPoolin  (None, 36, 36, 32)       0         \n",
            " g2D)                                                            \n",
            "                                                                 \n",
            " conv2d_17 (Conv2D)          (None, 32, 32, 64)        51264     \n",
            "                                                                 \n",
            " max_pooling2d_17 (MaxPoolin  (None, 16, 16, 64)       0         \n",
            " g2D)                                                            \n",
            "                                                                 \n",
            " conv2d_18 (Conv2D)          (None, 12, 12, 128)       204928    \n",
            "                                                                 \n",
            " max_pooling2d_18 (MaxPoolin  (None, 6, 6, 128)        0         \n",
            " g2D)                                                            \n",
            "                                                                 \n",
            " conv2d_19 (Conv2D)          (None, 2, 2, 128)         409728    \n",
            "                                                                 \n",
            " max_pooling2d_19 (MaxPoolin  (None, 1, 1, 128)        0         \n",
            " g2D)                                                            \n",
            "                                                                 \n",
            " flatten_5 (Flatten)         (None, 128)               0         \n",
            "                                                                 \n",
            " dense_5 (Dense)             (None, 128)               16512     \n",
            "                                                                 \n",
            " dense_6 (Dense)             (None, 7)                 903       \n",
            "                                                                 \n",
            "=================================================================\n",
            "Total params: 688,423\n",
            "Trainable params: 688,423\n",
            "Non-trainable params: 0\n",
            "_________________________________________________________________\n"
          ]
        }
      ]
    },
    {
      "cell_type": "code",
      "metadata": {
        "id": "Q8BpQBQxKHGK"
      },
      "source": [
        "#para calcular el tiempo de entrenamiento\n",
        "import time\n",
        "start = time.time() #partiendo"
      ],
      "execution_count": null,
      "outputs": []
    },
    {
      "cell_type": "markdown",
      "metadata": {
        "id": "Gi9HBHggf6bD"
      },
      "source": [
        "# Entrenamiento"
      ]
    },
    {
      "cell_type": "markdown",
      "metadata": {
        "id": "sga06mSsf_lX"
      },
      "source": [
        "Los steps_per_epoch y epochs para los experimentos variaron de la siguiente forma:\n",
        "*   steps_per_epoch = 30 | epochs = 30\n",
        "*   steps_per_epoch = 30 | epochs = 100\n",
        "*   steps_per_epoch = 86 | epochs = 100\n",
        "*   steps_per_epoch = 233 | epochs = 100\n",
        "\n",
        "Y según la configuracion anterior, se usó Dropout o no\n",
        "\n"
      ]
    },
    {
      "cell_type": "code",
      "metadata": {
        "colab": {
          "base_uri": "https://localhost:8080/"
        },
        "id": "CbCL5nZ5KHGQ",
        "outputId": "5d1f244d-a892-443f-bce5-e25e827b6f19"
      },
      "source": [
        "with tf.device('/device:GPU:0'):\n",
        "  steps_per_epoch = train_generator.n//train_generator.batch_size\n",
        "  epochs = 100\n",
        "\n",
        "  STEP_SIZE_VAL=val_generator.n//val_generator.batch_size\n",
        "\n",
        "  history = model.fit(train_generator, steps_per_epoch=steps_per_epoch, epochs=epochs, validation_data=val_generator, validation_steps=STEP_SIZE_VAL)"
      ],
      "execution_count": null,
      "outputs": [
        {
          "output_type": "stream",
          "name": "stdout",
          "text": [
            "Epoch 1/100\n",
            "233/233 [==============================] - 39s 133ms/step - loss: 1.8760 - accuracy: 0.1914 - val_loss: 1.7166 - val_accuracy: 0.2425\n",
            "Epoch 2/100\n",
            "233/233 [==============================] - 31s 133ms/step - loss: 1.7333 - accuracy: 0.2600 - val_loss: 1.6111 - val_accuracy: 0.3115\n",
            "Epoch 3/100\n",
            "233/233 [==============================] - 32s 137ms/step - loss: 1.5976 - accuracy: 0.3334 - val_loss: 1.4082 - val_accuracy: 0.3931\n",
            "Epoch 4/100\n",
            "233/233 [==============================] - 31s 132ms/step - loss: 1.3843 - accuracy: 0.4349 - val_loss: 1.2221 - val_accuracy: 0.5356\n",
            "Epoch 5/100\n",
            "233/233 [==============================] - 31s 132ms/step - loss: 1.2628 - accuracy: 0.4839 - val_loss: 1.1631 - val_accuracy: 0.5218\n",
            "Epoch 6/100\n",
            "233/233 [==============================] - 31s 133ms/step - loss: 1.2348 - accuracy: 0.4927 - val_loss: 1.1070 - val_accuracy: 0.5851\n",
            "Epoch 7/100\n",
            "233/233 [==============================] - 31s 132ms/step - loss: 1.1763 - accuracy: 0.5195 - val_loss: 1.1124 - val_accuracy: 0.5517\n",
            "Epoch 8/100\n",
            "233/233 [==============================] - 31s 132ms/step - loss: 1.1508 - accuracy: 0.5261 - val_loss: 1.1434 - val_accuracy: 0.5276\n",
            "Epoch 9/100\n",
            "233/233 [==============================] - 31s 132ms/step - loss: 1.1186 - accuracy: 0.5350 - val_loss: 1.0211 - val_accuracy: 0.6184\n",
            "Epoch 10/100\n",
            "233/233 [==============================] - 31s 132ms/step - loss: 1.1039 - accuracy: 0.5429 - val_loss: 1.0392 - val_accuracy: 0.5989\n",
            "Epoch 11/100\n",
            "233/233 [==============================] - 31s 132ms/step - loss: 1.0881 - accuracy: 0.5613 - val_loss: 1.1275 - val_accuracy: 0.5563\n",
            "Epoch 12/100\n",
            "233/233 [==============================] - 31s 132ms/step - loss: 1.0678 - accuracy: 0.5571 - val_loss: 1.0194 - val_accuracy: 0.5977\n",
            "Epoch 13/100\n",
            "233/233 [==============================] - 31s 132ms/step - loss: 1.0550 - accuracy: 0.5661 - val_loss: 1.1563 - val_accuracy: 0.5529\n",
            "Epoch 14/100\n",
            "233/233 [==============================] - 31s 132ms/step - loss: 1.0349 - accuracy: 0.5808 - val_loss: 0.9583 - val_accuracy: 0.6322\n",
            "Epoch 15/100\n",
            "233/233 [==============================] - 31s 131ms/step - loss: 1.0028 - accuracy: 0.5931 - val_loss: 0.9847 - val_accuracy: 0.5943\n",
            "Epoch 16/100\n",
            "233/233 [==============================] - 31s 132ms/step - loss: 0.9937 - accuracy: 0.5956 - val_loss: 1.2895 - val_accuracy: 0.5494\n",
            "Epoch 17/100\n",
            "233/233 [==============================] - 31s 132ms/step - loss: 0.9966 - accuracy: 0.6049 - val_loss: 0.9565 - val_accuracy: 0.6218\n",
            "Epoch 18/100\n",
            "233/233 [==============================] - 31s 132ms/step - loss: 0.9780 - accuracy: 0.6004 - val_loss: 0.9380 - val_accuracy: 0.6161\n",
            "Epoch 19/100\n",
            "233/233 [==============================] - 31s 132ms/step - loss: 0.9671 - accuracy: 0.6046 - val_loss: 0.9346 - val_accuracy: 0.6299\n",
            "Epoch 20/100\n",
            "233/233 [==============================] - 31s 132ms/step - loss: 0.9487 - accuracy: 0.6139 - val_loss: 0.9968 - val_accuracy: 0.6230\n",
            "Epoch 21/100\n",
            "233/233 [==============================] - 31s 133ms/step - loss: 0.9472 - accuracy: 0.6185 - val_loss: 0.9601 - val_accuracy: 0.6253\n",
            "Epoch 22/100\n",
            "233/233 [==============================] - 32s 136ms/step - loss: 0.9348 - accuracy: 0.6264 - val_loss: 0.9275 - val_accuracy: 0.6425\n",
            "Epoch 23/100\n",
            "233/233 [==============================] - 31s 134ms/step - loss: 0.9557 - accuracy: 0.6088 - val_loss: 0.8913 - val_accuracy: 0.6609\n",
            "Epoch 24/100\n",
            "233/233 [==============================] - 31s 132ms/step - loss: 0.9161 - accuracy: 0.6307 - val_loss: 0.8989 - val_accuracy: 0.6483\n",
            "Epoch 25/100\n",
            "233/233 [==============================] - 31s 132ms/step - loss: 0.9173 - accuracy: 0.6321 - val_loss: 0.8594 - val_accuracy: 0.6701\n",
            "Epoch 26/100\n",
            "233/233 [==============================] - 31s 132ms/step - loss: 0.9004 - accuracy: 0.6331 - val_loss: 0.8749 - val_accuracy: 0.6586\n",
            "Epoch 27/100\n",
            "233/233 [==============================] - 31s 132ms/step - loss: 0.9045 - accuracy: 0.6356 - val_loss: 0.8273 - val_accuracy: 0.6713\n",
            "Epoch 28/100\n",
            "233/233 [==============================] - 31s 133ms/step - loss: 0.8726 - accuracy: 0.6429 - val_loss: 0.8201 - val_accuracy: 0.6678\n",
            "Epoch 29/100\n",
            "233/233 [==============================] - 31s 133ms/step - loss: 0.8647 - accuracy: 0.6462 - val_loss: 0.8238 - val_accuracy: 0.6897\n",
            "Epoch 30/100\n",
            "233/233 [==============================] - 31s 133ms/step - loss: 0.8629 - accuracy: 0.6512 - val_loss: 0.9234 - val_accuracy: 0.6517\n",
            "Epoch 31/100\n",
            "233/233 [==============================] - 32s 135ms/step - loss: 0.8743 - accuracy: 0.6478 - val_loss: 0.8054 - val_accuracy: 0.6851\n",
            "Epoch 32/100\n",
            "233/233 [==============================] - 32s 135ms/step - loss: 0.8548 - accuracy: 0.6555 - val_loss: 0.8116 - val_accuracy: 0.6943\n",
            "Epoch 33/100\n",
            "233/233 [==============================] - 31s 134ms/step - loss: 0.8521 - accuracy: 0.6525 - val_loss: 1.1949 - val_accuracy: 0.6621\n",
            "Epoch 34/100\n",
            "233/233 [==============================] - 31s 134ms/step - loss: 0.8451 - accuracy: 0.6532 - val_loss: 0.8620 - val_accuracy: 0.6690\n",
            "Epoch 35/100\n",
            "233/233 [==============================] - 31s 134ms/step - loss: 0.8371 - accuracy: 0.6562 - val_loss: 0.8048 - val_accuracy: 0.6701\n",
            "Epoch 36/100\n",
            "233/233 [==============================] - 31s 134ms/step - loss: 0.8464 - accuracy: 0.6595 - val_loss: 0.7838 - val_accuracy: 0.6920\n",
            "Epoch 37/100\n",
            "233/233 [==============================] - 31s 134ms/step - loss: 0.8527 - accuracy: 0.6575 - val_loss: 0.8374 - val_accuracy: 0.6920\n",
            "Epoch 38/100\n",
            "233/233 [==============================] - 31s 134ms/step - loss: 0.8173 - accuracy: 0.6756 - val_loss: 0.8304 - val_accuracy: 0.6931\n",
            "Epoch 39/100\n",
            "233/233 [==============================] - 31s 134ms/step - loss: 0.8127 - accuracy: 0.6805 - val_loss: 0.7646 - val_accuracy: 0.7080\n",
            "Epoch 40/100\n",
            "233/233 [==============================] - 31s 135ms/step - loss: 0.8188 - accuracy: 0.6722 - val_loss: 0.9906 - val_accuracy: 0.6885\n",
            "Epoch 41/100\n",
            "233/233 [==============================] - 31s 134ms/step - loss: 0.8104 - accuracy: 0.6780 - val_loss: 0.7822 - val_accuracy: 0.6989\n",
            "Epoch 42/100\n",
            "233/233 [==============================] - 31s 134ms/step - loss: 0.7887 - accuracy: 0.6846 - val_loss: 0.7607 - val_accuracy: 0.7138\n",
            "Epoch 43/100\n",
            "233/233 [==============================] - 31s 134ms/step - loss: 0.7782 - accuracy: 0.6895 - val_loss: 0.7594 - val_accuracy: 0.7299\n",
            "Epoch 44/100\n",
            "233/233 [==============================] - 32s 135ms/step - loss: 0.7753 - accuracy: 0.6904 - val_loss: 0.7563 - val_accuracy: 0.7034\n",
            "Epoch 45/100\n",
            "233/233 [==============================] - 32s 136ms/step - loss: 0.7754 - accuracy: 0.6884 - val_loss: 0.7472 - val_accuracy: 0.7115\n",
            "Epoch 46/100\n",
            "233/233 [==============================] - 31s 135ms/step - loss: 0.7717 - accuracy: 0.6931 - val_loss: 0.7550 - val_accuracy: 0.7276\n",
            "Epoch 47/100\n",
            "233/233 [==============================] - 32s 136ms/step - loss: 0.7639 - accuracy: 0.6960 - val_loss: 0.7198 - val_accuracy: 0.7414\n",
            "Epoch 48/100\n",
            "233/233 [==============================] - 31s 134ms/step - loss: 0.7520 - accuracy: 0.7052 - val_loss: 0.7369 - val_accuracy: 0.7287\n",
            "Epoch 49/100\n",
            "233/233 [==============================] - 31s 133ms/step - loss: 0.7468 - accuracy: 0.7042 - val_loss: 0.7533 - val_accuracy: 0.7276\n",
            "Epoch 50/100\n",
            "233/233 [==============================] - 31s 133ms/step - loss: 0.7435 - accuracy: 0.7077 - val_loss: 0.7616 - val_accuracy: 0.7253\n",
            "Epoch 51/100\n",
            "233/233 [==============================] - 31s 134ms/step - loss: 0.7362 - accuracy: 0.7099 - val_loss: 0.6733 - val_accuracy: 0.7540\n",
            "Epoch 52/100\n",
            "233/233 [==============================] - 31s 133ms/step - loss: 0.7379 - accuracy: 0.7142 - val_loss: 0.6934 - val_accuracy: 0.7506\n",
            "Epoch 53/100\n",
            "233/233 [==============================] - 31s 134ms/step - loss: 0.7126 - accuracy: 0.7222 - val_loss: 0.7211 - val_accuracy: 0.7402\n",
            "Epoch 54/100\n",
            "233/233 [==============================] - 31s 133ms/step - loss: 0.6980 - accuracy: 0.7270 - val_loss: 0.6791 - val_accuracy: 0.7598\n",
            "Epoch 55/100\n",
            "233/233 [==============================] - 31s 134ms/step - loss: 0.7155 - accuracy: 0.7224 - val_loss: 0.6928 - val_accuracy: 0.7586\n",
            "Epoch 56/100\n",
            "233/233 [==============================] - 31s 134ms/step - loss: 0.7060 - accuracy: 0.7319 - val_loss: 0.6634 - val_accuracy: 0.7540\n",
            "Epoch 57/100\n",
            "233/233 [==============================] - 31s 134ms/step - loss: 0.6944 - accuracy: 0.7303 - val_loss: 0.6528 - val_accuracy: 0.7736\n",
            "Epoch 58/100\n",
            "233/233 [==============================] - 31s 133ms/step - loss: 0.6951 - accuracy: 0.7336 - val_loss: 0.6363 - val_accuracy: 0.7586\n",
            "Epoch 59/100\n",
            "233/233 [==============================] - 31s 133ms/step - loss: 0.6915 - accuracy: 0.7265 - val_loss: 0.6349 - val_accuracy: 0.7759\n",
            "Epoch 60/100\n",
            "233/233 [==============================] - 31s 133ms/step - loss: 0.6787 - accuracy: 0.7353 - val_loss: 0.6318 - val_accuracy: 0.7575\n",
            "Epoch 61/100\n",
            "233/233 [==============================] - 31s 133ms/step - loss: 0.6642 - accuracy: 0.7435 - val_loss: 0.7365 - val_accuracy: 0.7333\n",
            "Epoch 62/100\n",
            "233/233 [==============================] - 31s 133ms/step - loss: 0.6634 - accuracy: 0.7449 - val_loss: 0.6109 - val_accuracy: 0.7793\n",
            "Epoch 63/100\n",
            "233/233 [==============================] - 31s 134ms/step - loss: 0.6598 - accuracy: 0.7443 - val_loss: 0.6586 - val_accuracy: 0.7747\n",
            "Epoch 64/100\n",
            "233/233 [==============================] - 31s 133ms/step - loss: 0.6534 - accuracy: 0.7479 - val_loss: 0.6669 - val_accuracy: 0.7586\n",
            "Epoch 65/100\n",
            "233/233 [==============================] - 31s 133ms/step - loss: 0.6460 - accuracy: 0.7473 - val_loss: 0.6530 - val_accuracy: 0.7793\n",
            "Epoch 66/100\n",
            "233/233 [==============================] - 31s 134ms/step - loss: 0.6431 - accuracy: 0.7561 - val_loss: 0.5905 - val_accuracy: 0.7874\n",
            "Epoch 67/100\n",
            "233/233 [==============================] - 31s 134ms/step - loss: 0.6777 - accuracy: 0.7403 - val_loss: 0.6329 - val_accuracy: 0.7724\n",
            "Epoch 68/100\n",
            "233/233 [==============================] - 31s 133ms/step - loss: 0.6530 - accuracy: 0.7495 - val_loss: 0.5953 - val_accuracy: 0.7908\n",
            "Epoch 69/100\n",
            "233/233 [==============================] - 31s 133ms/step - loss: 0.6268 - accuracy: 0.7575 - val_loss: 0.5487 - val_accuracy: 0.8057\n",
            "Epoch 70/100\n",
            "233/233 [==============================] - 31s 132ms/step - loss: 0.5969 - accuracy: 0.7687 - val_loss: 0.5629 - val_accuracy: 0.8057\n",
            "Epoch 71/100\n",
            "233/233 [==============================] - 31s 132ms/step - loss: 0.6130 - accuracy: 0.7654 - val_loss: 0.5561 - val_accuracy: 0.7839\n",
            "Epoch 72/100\n",
            "233/233 [==============================] - 31s 132ms/step - loss: 0.6047 - accuracy: 0.7624 - val_loss: 0.6231 - val_accuracy: 0.7816\n",
            "Epoch 73/100\n",
            "233/233 [==============================] - 31s 134ms/step - loss: 0.5934 - accuracy: 0.7745 - val_loss: 0.5647 - val_accuracy: 0.8069\n",
            "Epoch 74/100\n",
            "233/233 [==============================] - 31s 134ms/step - loss: 0.6247 - accuracy: 0.7660 - val_loss: 0.5313 - val_accuracy: 0.8023\n",
            "Epoch 75/100\n",
            "233/233 [==============================] - 32s 135ms/step - loss: 0.5915 - accuracy: 0.7773 - val_loss: 0.5410 - val_accuracy: 0.8046\n",
            "Epoch 76/100\n",
            "233/233 [==============================] - 32s 136ms/step - loss: 0.5850 - accuracy: 0.7714 - val_loss: 0.5231 - val_accuracy: 0.8126\n",
            "Epoch 77/100\n",
            "233/233 [==============================] - 32s 136ms/step - loss: 0.5842 - accuracy: 0.7816 - val_loss: 0.5350 - val_accuracy: 0.8069\n",
            "Epoch 78/100\n",
            "233/233 [==============================] - 31s 135ms/step - loss: 0.6058 - accuracy: 0.7692 - val_loss: 0.5393 - val_accuracy: 0.7897\n",
            "Epoch 79/100\n",
            "233/233 [==============================] - 31s 134ms/step - loss: 0.5997 - accuracy: 0.7730 - val_loss: 0.5551 - val_accuracy: 0.8023\n",
            "Epoch 80/100\n",
            "233/233 [==============================] - 32s 135ms/step - loss: 0.6003 - accuracy: 0.7737 - val_loss: 0.5437 - val_accuracy: 0.7966\n",
            "Epoch 81/100\n",
            "233/233 [==============================] - 32s 135ms/step - loss: 0.5637 - accuracy: 0.7861 - val_loss: 0.5847 - val_accuracy: 0.7874\n",
            "Epoch 82/100\n",
            "233/233 [==============================] - 32s 135ms/step - loss: 0.5784 - accuracy: 0.7766 - val_loss: 0.5427 - val_accuracy: 0.8046\n",
            "Epoch 83/100\n",
            "233/233 [==============================] - 31s 134ms/step - loss: 0.5856 - accuracy: 0.7747 - val_loss: 0.5591 - val_accuracy: 0.8126\n",
            "Epoch 84/100\n",
            "233/233 [==============================] - 31s 135ms/step - loss: 0.5646 - accuracy: 0.7841 - val_loss: 0.5428 - val_accuracy: 0.8057\n",
            "Epoch 85/100\n",
            "233/233 [==============================] - 32s 136ms/step - loss: 0.5721 - accuracy: 0.7867 - val_loss: 0.5433 - val_accuracy: 0.8000\n",
            "Epoch 86/100\n",
            "233/233 [==============================] - 31s 134ms/step - loss: 0.5631 - accuracy: 0.7904 - val_loss: 0.5202 - val_accuracy: 0.8023\n",
            "Epoch 87/100\n",
            "233/233 [==============================] - 31s 134ms/step - loss: 0.5784 - accuracy: 0.7841 - val_loss: 0.5240 - val_accuracy: 0.8069\n",
            "Epoch 88/100\n",
            "233/233 [==============================] - 31s 135ms/step - loss: 0.6031 - accuracy: 0.7755 - val_loss: 0.5171 - val_accuracy: 0.8172\n",
            "Epoch 89/100\n",
            "233/233 [==============================] - 31s 134ms/step - loss: 0.5690 - accuracy: 0.7839 - val_loss: 0.5107 - val_accuracy: 0.8149\n",
            "Epoch 90/100\n",
            "233/233 [==============================] - 31s 135ms/step - loss: 0.5591 - accuracy: 0.7927 - val_loss: 0.4996 - val_accuracy: 0.8161\n",
            "Epoch 91/100\n",
            "233/233 [==============================] - 31s 134ms/step - loss: 0.5635 - accuracy: 0.7859 - val_loss: 0.5035 - val_accuracy: 0.8023\n",
            "Epoch 92/100\n",
            "233/233 [==============================] - 31s 133ms/step - loss: 0.5518 - accuracy: 0.7875 - val_loss: 0.6094 - val_accuracy: 0.7747\n",
            "Epoch 93/100\n",
            "233/233 [==============================] - 31s 134ms/step - loss: 0.5520 - accuracy: 0.7914 - val_loss: 0.4930 - val_accuracy: 0.8057\n",
            "Epoch 94/100\n",
            "233/233 [==============================] - 31s 135ms/step - loss: 0.5443 - accuracy: 0.7966 - val_loss: 0.4770 - val_accuracy: 0.8149\n",
            "Epoch 95/100\n",
            "233/233 [==============================] - 32s 135ms/step - loss: 0.5558 - accuracy: 0.7914 - val_loss: 0.5122 - val_accuracy: 0.8126\n",
            "Epoch 96/100\n",
            "233/233 [==============================] - 31s 134ms/step - loss: 0.5461 - accuracy: 0.7960 - val_loss: 0.5123 - val_accuracy: 0.8161\n",
            "Epoch 97/100\n",
            "233/233 [==============================] - 31s 135ms/step - loss: 0.5378 - accuracy: 0.7943 - val_loss: 0.4933 - val_accuracy: 0.8138\n",
            "Epoch 98/100\n",
            "233/233 [==============================] - 31s 134ms/step - loss: 0.5435 - accuracy: 0.7957 - val_loss: 0.4539 - val_accuracy: 0.8322\n",
            "Epoch 99/100\n",
            "233/233 [==============================] - 31s 134ms/step - loss: 0.5212 - accuracy: 0.7971 - val_loss: 0.5046 - val_accuracy: 0.8103\n",
            "Epoch 100/100\n",
            "233/233 [==============================] - 31s 133ms/step - loss: 0.5468 - accuracy: 0.7984 - val_loss: 0.4832 - val_accuracy: 0.8276\n"
          ]
        }
      ]
    },
    {
      "cell_type": "code",
      "metadata": {
        "colab": {
          "base_uri": "https://localhost:8080/"
        },
        "id": "1UlHBOvzKHGT",
        "outputId": "6d1c33a2-c79d-474a-834e-2a57297af79c"
      },
      "source": [
        "done = time.time()\n",
        "elapsed = done - start #terminando\n",
        "print(\"Tiempo total de ejecución training/validation\", elapsed)"
      ],
      "execution_count": null,
      "outputs": [
        {
          "output_type": "stream",
          "name": "stdout",
          "text": [
            "Tiempo total de ejecución training/validation 3135.1372678279877\n"
          ]
        }
      ]
    },
    {
      "cell_type": "markdown",
      "metadata": {
        "id": "riBexwbbha7B"
      },
      "source": [
        "# Gráfico de entrenamiento"
      ]
    },
    {
      "cell_type": "code",
      "metadata": {
        "colab": {
          "base_uri": "https://localhost:8080/",
          "height": 308
        },
        "id": "NUYIwi3QKHGT",
        "outputId": "97eb0b87-a552-4257-f147-bac69fb8fd31"
      },
      "source": [
        "f, (ax1, ax2) = plt.subplots(1, 2, figsize=(12, 4))\n",
        "t = f.suptitle('Modelo 6 Sin Dropout Data Augmentation 233-100', fontsize=12)\n",
        "f.subplots_adjust(top=0.85, wspace=0.3)\n",
        "\n",
        "epoch_list = list(range(1,101))\n",
        "ax1.plot(epoch_list, history.history['accuracy'], label='Train Accuracy')\n",
        "ax1.plot(epoch_list, history.history['val_accuracy'], label='Validation Accuracy')\n",
        "ax1.set_xticks(np.arange(1, 101, 5))\n",
        "ax1.set_ylabel('Accuracy Value')\n",
        "ax1.set_xlabel('Epoch')\n",
        "ax1.set_title('Accuracy')\n",
        "l1 = ax1.legend(loc=\"best\")\n",
        "\n",
        "ax2.plot(epoch_list, history.history['loss'], label='Train Loss')\n",
        "ax2.plot(epoch_list, history.history['val_loss'], label='Validation Loss')\n",
        "ax2.set_xticks(np.arange(0, 101, 5))\n",
        "ax2.set_ylabel('Loss Value')\n",
        "ax2.set_xlabel('Epoch')\n",
        "ax2.set_title('Loss')\n",
        "l2 = ax2.legend(loc=\"best\")"
      ],
      "execution_count": null,
      "outputs": [
        {
          "output_type": "display_data",
          "data": {
            "image/png": "[encoded data removed]",
            "text/plain": [
              "<Figure size 864x288 with 2 Axes>"
            ]
          },
          "metadata": {
            "needs_background": "light"
          }
        }
      ]
    },
    {
      "cell_type": "code",
      "metadata": {
        "id": "Wo6N90qHKHGT"
      },
      "source": [
        "#se guarda modelo luego del entrenamiento\n",
        "model.save('modelo6_sDP-DA-233-100.h5') #"
      ],
      "execution_count": null,
      "outputs": []
    },
    {
      "cell_type": "markdown",
      "metadata": {
        "id": "nhFDDlUahtXL"
      },
      "source": [
        "# Carga del modelo entrenado\n"
      ]
    },
    {
      "cell_type": "code",
      "metadata": {
        "id": "xis9T5hjKHGT",
        "colab": {
          "base_uri": "https://localhost:8080/"
        },
        "outputId": "43030f6f-f819-44f9-c484-1d86b6571335"
      },
      "source": [
        "from keras.models import load_model\n",
        "\n",
        "# cargar el modelo\n",
        "modelo_6_sDpDA = load_model('modelo6_sDP-DA-233-100.h5')\n",
        "\n",
        "clear_output()\n",
        "print('Modelo cargado')"
      ],
      "execution_count": null,
      "outputs": [
        {
          "output_type": "stream",
          "name": "stdout",
          "text": [
            "Modelo cargado\n"
          ]
        }
      ]
    },
    {
      "cell_type": "markdown",
      "metadata": {
        "id": "CT8qPPKvkNjt"
      },
      "source": [
        "# Preprocesamiento de datos de Test"
      ]
    },
    {
      "cell_type": "code",
      "metadata": {
        "colab": {
          "base_uri": "https://localhost:8080/"
        },
        "id": "lZGQ__ASKHGU",
        "outputId": "69633d14-8ce5-41ce-85da-5c60d193dfb7"
      },
      "source": [
        "IMG_DIM = (150, 150)\n",
        "\n",
        "test_files = glob.glob('test_data/*')\n",
        "test_imgs = [img_to_array(load_img(img, target_size=IMG_DIM)) for img in test_files]\n",
        "test_imgs = np.array(test_imgs)\n",
        "test_labels = [fn.split('/')[1].split('.')[0].strip() for fn in test_files]\n",
        "\n",
        "test_imgs_scaled = test_imgs.astype('float32')\n",
        "test_imgs_scaled /= 255\n",
        "\n",
        "print('Test dataset shape:', test_imgs.shape)\n",
        "print(test_labels[100:105])"
      ],
      "execution_count": null,
      "outputs": [
        {
          "output_type": "stream",
          "name": "stdout",
          "text": [
            "Test dataset shape: (875, 150, 150, 3)\n",
            "['cuadrado', 'rombo', 'cuadrado', 'rectangulo', 'circulo']\n"
          ]
        }
      ]
    },
    {
      "cell_type": "code",
      "metadata": {
        "colab": {
          "base_uri": "https://localhost:8080/"
        },
        "id": "3439ZrEeKHGU",
        "outputId": "a5be48b7-9425-475b-e136-47bbe727c524"
      },
      "source": [
        "test_labels_enc = le.transform(test_labels)\n",
        "test_labels_enc = to_categorical(test_labels_enc, num_classes)\n",
        "\n",
        "test_eval = modelo_6_sDpDA.evaluate(test_imgs_scaled, test_labels_enc, verbose=1)\n",
        " \n",
        "print('Test loss:', test_eval[0])\n",
        "print('Test accuracy:', test_eval[1])"
      ],
      "execution_count": null,
      "outputs": [
        {
          "output_type": "stream",
          "name": "stdout",
          "text": [
            "28/28 [==============================] - 0s 8ms/step - loss: 0.5111 - accuracy: 0.8046\n",
            "Test loss: 0.5110574960708618\n",
            "Test accuracy: 0.8045714497566223\n"
          ]
        }
      ]
    },
    {
      "cell_type": "code",
      "metadata": {
        "colab": {
          "base_uri": "https://localhost:8080/"
        },
        "id": "ozykGKxFKHGU",
        "outputId": "4bc354ba-bcf4-461a-bd17-225de90e65e1"
      },
      "source": [
        "from sklearn import metrics\n",
        "import numpy as np\n",
        "\n",
        "# de numero a etiquetas, según prediccion del modelo\n",
        "predictions = np.argmax(modelo_6_sDpDA.predict(test_imgs_scaled), axis=-1)\n",
        "\n",
        "test_labels_pred = []\n",
        "\n",
        "for i in range(875):\n",
        "    if predictions[i] == 0:\n",
        "        test_labels_pred.append('circulo')\n",
        "    elif predictions[i] == 1:\n",
        "        test_labels_pred.append('cuadrado')\n",
        "    elif predictions[i] == 2:\n",
        "        test_labels_pred.append('elipse')\n",
        "    elif predictions[i] == 3:\n",
        "        test_labels_pred.append('rectangulo')\n",
        "    elif predictions[i] == 4:\n",
        "        test_labels_pred.append('rombo')\n",
        "    elif predictions[i] == 5:\n",
        "        test_labels_pred.append('trapecio')\n",
        "    else:\n",
        "        test_labels_pred.append('triangulo')\n",
        "\n",
        "print(test_labels_pred)"
      ],
      "execution_count": null,
      "outputs": [
        {
          "output_type": "stream",
          "name": "stdout",
          "text": [
            "['rombo', 'triangulo', 'triangulo', 'trapecio', 'trapecio', 'rombo', 'rombo', 'trapecio', 'rectangulo', 'circulo', 'triangulo', 'circulo', 'cuadrado', 'rectangulo', 'cuadrado', 'triangulo', 'cuadrado', 'rombo', 'rectangulo', 'trapecio', 'circulo', 'triangulo', 'triangulo', 'triangulo', 'trapecio', 'triangulo', 'rectangulo', 'rectangulo', 'elipse', 'trapecio', 'trapecio', 'rectangulo', 'cuadrado', 'cuadrado', 'rectangulo', 'cuadrado', 'circulo', 'cuadrado', 'trapecio', 'triangulo', 'triangulo', 'triangulo', 'rombo', 'rombo', 'triangulo', 'elipse', 'cuadrado', 'rectangulo', 'triangulo', 'circulo', 'rombo', 'triangulo', 'rombo', 'circulo', 'rombo', 'rombo', 'rombo', 'cuadrado', 'rectangulo', 'elipse', 'rectangulo', 'triangulo', 'cuadrado', 'circulo', 'trapecio', 'triangulo', 'circulo', 'elipse', 'cuadrado', 'circulo', 'trapecio', 'circulo', 'cuadrado', 'circulo', 'triangulo', 'rombo', 'triangulo', 'cuadrado', 'circulo', 'circulo', 'cuadrado', 'circulo', 'cuadrado', 'elipse', 'rombo', 'elipse', 'rectangulo', 'rombo', 'cuadrado', 'trapecio', 'rombo', 'cuadrado', 'rectangulo', 'trapecio', 'trapecio', 'triangulo', 'cuadrado', 'cuadrado', 'elipse', 'elipse', 'triangulo', 'circulo', 'triangulo', 'rectangulo', 'circulo', 'rectangulo', 'rombo', 'triangulo', 'circulo', 'cuadrado', 'elipse', 'rombo', 'rectangulo', 'trapecio', 'rectangulo', 'rombo', 'triangulo', 'rectangulo', 'rombo', 'trapecio', 'rectangulo', 'rectangulo', 'circulo', 'circulo', 'triangulo', 'elipse', 'rectangulo', 'elipse', 'circulo', 'trapecio', 'circulo', 'rombo', 'rectangulo', 'rectangulo', 'cuadrado', 'triangulo', 'triangulo', 'rombo', 'rectangulo', 'elipse', 'circulo', 'rectangulo', 'rectangulo', 'triangulo', 'triangulo', 'elipse', 'cuadrado', 'triangulo', 'trapecio', 'rombo', 'cuadrado', 'circulo', 'trapecio', 'triangulo', 'triangulo', 'circulo', 'circulo', 'triangulo', 'triangulo', 'circulo', 'elipse', 'rombo', 'elipse', 'rombo', 'trapecio', 'rectangulo', 'circulo', 'rombo', 'circulo', 'cuadrado', 'cuadrado', 'triangulo', 'elipse', 'elipse', 'circulo', 'circulo', 'trapecio', 'rombo', 'circulo', 'triangulo', 'triangulo', 'cuadrado', 'rombo', 'circulo', 'circulo', 'rectangulo', 'rombo', 'triangulo', 'trapecio', 'circulo', 'circulo', 'circulo', 'circulo', 'circulo', 'trapecio', 'triangulo', 'trapecio', 'rectangulo', 'trapecio', 'cuadrado', 'trapecio', 'circulo', 'elipse', 'cuadrado', 'cuadrado', 'rombo', 'elipse', 'triangulo', 'triangulo', 'trapecio', 'rectangulo', 'trapecio', 'rombo', 'rombo', 'elipse', 'trapecio', 'rombo', 'rectangulo', 'rombo', 'triangulo', 'rombo', 'rectangulo', 'elipse', 'cuadrado', 'trapecio', 'elipse', 'elipse', 'rombo', 'trapecio', 'rombo', 'trapecio', 'cuadrado', 'circulo', 'rombo', 'rombo', 'triangulo', 'cuadrado', 'triangulo', 'trapecio', 'circulo', 'triangulo', 'triangulo', 'cuadrado', 'rombo', 'triangulo', 'circulo', 'rombo', 'cuadrado', 'triangulo', 'triangulo', 'rombo', 'triangulo', 'triangulo', 'rombo', 'trapecio', 'cuadrado', 'triangulo', 'triangulo', 'elipse', 'rombo', 'cuadrado', 'rectangulo', 'circulo', 'trapecio', 'rombo', 'triangulo', 'rombo', 'elipse', 'triangulo', 'triangulo', 'rombo', 'elipse', 'triangulo', 'rectangulo', 'rombo', 'elipse', 'triangulo', 'triangulo', 'cuadrado', 'triangulo', 'triangulo', 'circulo', 'triangulo', 'circulo', 'triangulo', 'circulo', 'trapecio', 'circulo', 'triangulo', 'rombo', 'circulo', 'cuadrado', 'circulo', 'triangulo', 'circulo', 'cuadrado', 'cuadrado', 'elipse', 'cuadrado', 'cuadrado', 'trapecio', 'trapecio', 'rectangulo', 'rectangulo', 'cuadrado', 'cuadrado', 'circulo', 'elipse', 'elipse', 'rombo', 'circulo', 'cuadrado', 'circulo', 'trapecio', 'triangulo', 'trapecio', 'cuadrado', 'circulo', 'rectangulo', 'trapecio', 'elipse', 'rombo', 'triangulo', 'triangulo', 'triangulo', 'circulo', 'triangulo', 'rectangulo', 'rectangulo', 'rombo', 'rectangulo', 'circulo', 'rectangulo', 'circulo', 'triangulo', 'cuadrado', 'circulo', 'cuadrado', 'circulo', 'cuadrado', 'cuadrado', 'elipse', 'elipse', 'triangulo', 'trapecio', 'cuadrado', 'triangulo', 'rectangulo', 'cuadrado', 'elipse', 'rectangulo', 'trapecio', 'circulo', 'rombo', 'circulo', 'rombo', 'circulo', 'elipse', 'cuadrado', 'circulo', 'rectangulo', 'elipse', 'circulo', 'triangulo', 'triangulo', 'triangulo', 'circulo', 'rectangulo', 'circulo', 'trapecio', 'circulo', 'cuadrado', 'rectangulo', 'rombo', 'cuadrado', 'circulo', 'circulo', 'circulo', 'trapecio', 'triangulo', 'circulo', 'triangulo', 'circulo', 'trapecio', 'rombo', 'cuadrado', 'triangulo', 'rombo', 'trapecio', 'rombo', 'rectangulo', 'trapecio', 'rombo', 'trapecio', 'triangulo', 'cuadrado', 'triangulo', 'rombo', 'circulo', 'trapecio', 'rectangulo', 'trapecio', 'trapecio', 'elipse', 'trapecio', 'rectangulo', 'elipse', 'rombo', 'circulo', 'triangulo', 'circulo', 'circulo', 'trapecio', 'elipse', 'circulo', 'triangulo', 'circulo', 'cuadrado', 'trapecio', 'trapecio', 'trapecio', 'rombo', 'circulo', 'rombo', 'circulo', 'triangulo', 'trapecio', 'rombo', 'cuadrado', 'cuadrado', 'elipse', 'trapecio', 'trapecio', 'rombo', 'trapecio', 'trapecio', 'circulo', 'rombo', 'rombo', 'rombo', 'elipse', 'triangulo', 'rectangulo', 'triangulo', 'circulo', 'circulo', 'circulo', 'trapecio', 'circulo', 'elipse', 'trapecio', 'rectangulo', 'trapecio', 'circulo', 'rectangulo', 'trapecio', 'cuadrado', 'elipse', 'circulo', 'cuadrado', 'circulo', 'rombo', 'triangulo', 'triangulo', 'rombo', 'triangulo', 'cuadrado', 'triangulo', 'triangulo', 'trapecio', 'circulo', 'rectangulo', 'cuadrado', 'rectangulo', 'rectangulo', 'circulo', 'rombo', 'triangulo', 'triangulo', 'elipse', 'rombo', 'circulo', 'rectangulo', 'rectangulo', 'cuadrado', 'circulo', 'trapecio', 'rombo', 'cuadrado', 'elipse', 'cuadrado', 'cuadrado', 'triangulo', 'rectangulo', 'triangulo', 'triangulo', 'elipse', 'rombo', 'cuadrado', 'circulo', 'circulo', 'rombo', 'rectangulo', 'rombo', 'triangulo', 'elipse', 'triangulo', 'cuadrado', 'circulo', 'triangulo', 'trapecio', 'cuadrado', 'rombo', 'rectangulo', 'circulo', 'rombo', 'circulo', 'rombo', 'cuadrado', 'rombo', 'triangulo', 'cuadrado', 'cuadrado', 'elipse', 'trapecio', 'elipse', 'trapecio', 'circulo', 'cuadrado', 'elipse', 'circulo', 'circulo', 'trapecio', 'circulo', 'circulo', 'elipse', 'rectangulo', 'circulo', 'rombo', 'triangulo', 'trapecio', 'rectangulo', 'rombo', 'rombo', 'triangulo', 'elipse', 'cuadrado', 'circulo', 'trapecio', 'rectangulo', 'elipse', 'elipse', 'rombo', 'circulo', 'cuadrado', 'cuadrado', 'cuadrado', 'rombo', 'trapecio', 'cuadrado', 'elipse', 'triangulo', 'elipse', 'circulo', 'trapecio', 'rectangulo', 'triangulo', 'rectangulo', 'cuadrado', 'rectangulo', 'trapecio', 'circulo', 'rombo', 'trapecio', 'cuadrado', 'circulo', 'elipse', 'trapecio', 'triangulo', 'trapecio', 'elipse', 'rectangulo', 'trapecio', 'rombo', 'elipse', 'elipse', 'circulo', 'cuadrado', 'elipse', 'rectangulo', 'elipse', 'elipse', 'triangulo', 'triangulo', 'triangulo', 'trapecio', 'trapecio', 'rectangulo', 'rombo', 'elipse', 'cuadrado', 'triangulo', 'triangulo', 'circulo', 'circulo', 'circulo', 'circulo', 'rectangulo', 'rombo', 'circulo', 'cuadrado', 'rectangulo', 'rombo', 'elipse', 'triangulo', 'cuadrado', 'circulo', 'cuadrado', 'cuadrado', 'trapecio', 'triangulo', 'rombo', 'circulo', 'rombo', 'cuadrado', 'trapecio', 'rectangulo', 'cuadrado', 'cuadrado', 'triangulo', 'rombo', 'trapecio', 'cuadrado', 'elipse', 'trapecio', 'rombo', 'triangulo', 'elipse', 'triangulo', 'triangulo', 'cuadrado', 'trapecio', 'triangulo', 'elipse', 'triangulo', 'rombo', 'rectangulo', 'triangulo', 'cuadrado', 'cuadrado', 'circulo', 'triangulo', 'cuadrado', 'circulo', 'elipse', 'circulo', 'cuadrado', 'rombo', 'cuadrado', 'trapecio', 'trapecio', 'trapecio', 'cuadrado', 'rectangulo', 'elipse', 'elipse', 'cuadrado', 'rombo', 'rectangulo', 'cuadrado', 'rectangulo', 'rectangulo', 'rectangulo', 'rectangulo', 'cuadrado', 'cuadrado', 'rectangulo', 'triangulo', 'elipse', 'circulo', 'trapecio', 'circulo', 'triangulo', 'rombo', 'rombo', 'rectangulo', 'trapecio', 'cuadrado', 'elipse', 'rectangulo', 'triangulo', 'rombo', 'triangulo', 'circulo', 'triangulo', 'rectangulo', 'rombo', 'cuadrado', 'circulo', 'elipse', 'triangulo', 'rectangulo', 'cuadrado', 'cuadrado', 'rombo', 'rectangulo', 'triangulo', 'circulo', 'circulo', 'trapecio', 'circulo', 'triangulo', 'rectangulo', 'rombo', 'circulo', 'triangulo', 'circulo', 'rectangulo', 'triangulo', 'cuadrado', 'triangulo', 'triangulo', 'triangulo', 'circulo', 'elipse', 'trapecio', 'rombo', 'rombo', 'triangulo', 'circulo', 'trapecio', 'cuadrado', 'elipse', 'trapecio', 'trapecio', 'triangulo', 'triangulo', 'rombo', 'rombo', 'cuadrado', 'cuadrado', 'rombo', 'trapecio', 'elipse', 'rombo', 'circulo', 'triangulo', 'circulo', 'cuadrado', 'circulo', 'circulo', 'rectangulo', 'elipse', 'circulo', 'triangulo', 'circulo', 'triangulo', 'circulo', 'triangulo', 'cuadrado', 'cuadrado', 'triangulo', 'cuadrado', 'cuadrado', 'rombo', 'triangulo', 'circulo', 'rectangulo', 'cuadrado', 'elipse', 'triangulo', 'elipse', 'triangulo', 'cuadrado', 'rectangulo', 'trapecio', 'cuadrado', 'circulo', 'circulo', 'rectangulo', 'cuadrado', 'rombo', 'elipse', 'triangulo', 'elipse', 'trapecio', 'cuadrado', 'rombo', 'triangulo', 'circulo', 'rombo', 'circulo', 'rectangulo', 'trapecio', 'elipse', 'elipse', 'elipse', 'elipse', 'rectangulo', 'cuadrado', 'rombo', 'circulo', 'cuadrado', 'rectangulo', 'rectangulo', 'rombo', 'triangulo', 'cuadrado', 'cuadrado', 'elipse', 'cuadrado', 'triangulo', 'elipse', 'rectangulo', 'triangulo', 'circulo', 'elipse', 'cuadrado', 'elipse', 'circulo', 'rectangulo', 'rombo', 'elipse', 'trapecio', 'trapecio', 'rombo', 'circulo', 'triangulo', 'elipse', 'triangulo', 'trapecio', 'triangulo', 'triangulo', 'circulo', 'triangulo', 'cuadrado', 'triangulo', 'elipse', 'trapecio', 'elipse', 'cuadrado', 'rectangulo', 'rombo', 'circulo', 'rectangulo', 'rombo', 'circulo', 'rombo', 'cuadrado', 'triangulo', 'cuadrado', 'cuadrado', 'triangulo', 'cuadrado', 'cuadrado', 'rectangulo', 'circulo', 'trapecio', 'trapecio', 'circulo', 'cuadrado', 'cuadrado', 'rombo', 'cuadrado', 'rombo', 'elipse', 'circulo', 'rectangulo', 'triangulo', 'rombo', 'trapecio', 'rombo', 'circulo', 'trapecio', 'triangulo']\n"
          ]
        }
      ]
    },
    {
      "cell_type": "code",
      "metadata": {
        "colab": {
          "base_uri": "https://localhost:8080/"
        },
        "id": "Tzi5BjaCKHGV",
        "outputId": "f451c237-d46f-415a-cfaa-4b067a8b4a99"
      },
      "source": [
        "from sklearn import metrics\n",
        "\n",
        "# Matriz de confusión\n",
        "print(metrics.confusion_matrix(test_labels, test_labels_pred))\n",
        "\n",
        "# Precision and recall, F1-score y support\n",
        "print(metrics.classification_report(test_labels, test_labels_pred, digits=3))"
      ],
      "execution_count": null,
      "outputs": [
        {
          "output_type": "stream",
          "name": "stdout",
          "text": [
            "[[116   1   1   0   4   0   3]\n",
            " [  4  98   0   4   6   3  10]\n",
            " [ 18   3  92   0   2   3   7]\n",
            " [  1  20   1  95   2   4   2]\n",
            " [  4   6   0   0 100   1  14]\n",
            " [  6   8   0   1   3  94  13]\n",
            " [  4   1   1   0   6   4 109]]\n",
            "              precision    recall  f1-score   support\n",
            "\n",
            "     circulo      0.758     0.928     0.835       125\n",
            "    cuadrado      0.715     0.784     0.748       125\n",
            "      elipse      0.968     0.736     0.836       125\n",
            "  rectangulo      0.950     0.760     0.844       125\n",
            "       rombo      0.813     0.800     0.806       125\n",
            "    trapecio      0.862     0.752     0.803       125\n",
            "   triangulo      0.690     0.872     0.770       125\n",
            "\n",
            "    accuracy                          0.805       875\n",
            "   macro avg      0.822     0.805     0.806       875\n",
            "weighted avg      0.822     0.805     0.806       875\n",
            "\n"
          ]
        }
      ]
    }
  ]
}