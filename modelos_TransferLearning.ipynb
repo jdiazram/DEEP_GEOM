{
  "nbformat": 4,
  "nbformat_minor": 0,
  "metadata": {
    "language_info": {
      "codemirror_mode": {
        "name": "ipython",
        "version": 3
      },
      "file_extension": ".py",
      "mimetype": "text/x-python",
      "name": "python",
      "nbconvert_exporter": "python",
      "pygments_lexer": "ipython3",
      "version": "3.8.5-final"
    },
    "orig_nbformat": 2,
    "kernelspec": {
      "name": "python3",
      "display_name": "Python 3",
      "language": "python"
    },
    "colab": {
      "name": "modelos_TransferLearning.ipynb",
      "provenance": [],
      "collapsed_sections": [],
      "toc_visible": true,
      "include_colab_link": true
    },
    "accelerator": "GPU"
  },
  "cells": [
    {
      "cell_type": "markdown",
      "metadata": {
        "id": "view-in-github",
        "colab_type": "text"
      },
      "source": [
        "<a href=\"https://colab.research.google.com/github/jdiazram/DEEP_GEOM/blob/master/modelos_TransferLearning.ipynb\" target=\"_parent\"><img src=\"https://colab.research.google.com/assets/colab-badge.svg\" alt=\"Open In Colab\"/></a>"
      ]
    },
    {
      "cell_type": "markdown",
      "metadata": {
        "id": "-LE42J3GWkf4"
      },
      "source": [
        "# Importar librerías"
      ]
    },
    {
      "cell_type": "code",
      "metadata": {
        "colab": {
          "base_uri": "https://localhost:8080/"
        },
        "id": "XKmmaLVDKHGL",
        "outputId": "e66399c6-42a9-4f60-b6e1-d8f478a2f008"
      },
      "source": [
        "import numpy as np #\n",
        "import glob\n",
        "import os\n",
        "import matplotlib.pyplot as plt\n",
        "import tensorflow as tf # Import TensorFlow \n",
        "print(tf.version.VERSION) # Check TensorFlow version\n",
        "import keras\n",
        "from keras.preprocessing.image import ImageDataGenerator, load_img, img_to_array, array_to_img\n",
        "\n",
        "%matplotlib inline \n",
        "#hará que las salidas de gráficos aparezcan y se almacenen en el cuaderno\n",
        "\n",
        "from IPython.display import clear_output #limpiar"
      ],
      "execution_count": 6,
      "outputs": [
        {
          "output_type": "stream",
          "text": [
            "2.5.0\n"
          ],
          "name": "stdout"
        }
      ]
    },
    {
      "cell_type": "markdown",
      "metadata": {
        "id": "lHyJ2PA_aiZR"
      },
      "source": [
        "# Cargar base de datos"
      ]
    },
    {
      "cell_type": "code",
      "metadata": {
        "colab": {
          "base_uri": "https://localhost:8080/"
        },
        "id": "ixfMdmwfUx1N",
        "outputId": "19cfabb8-3772-4684-8216-a4c38ca36916"
      },
      "source": [
        "# Carga de base de datos\n",
        "!wget https://www.dropbox.com/s/imyjti8exyuzczz/dg.zip\n",
        "!unzip dg.zip\n",
        "!rm dg.zip\n",
        "\n",
        "clear_output()\n",
        "print('Base de datos cargada')"
      ],
      "execution_count": 2,
      "outputs": [
        {
          "output_type": "stream",
          "text": [
            "Base de datos cargada\n"
          ],
          "name": "stdout"
        }
      ]
    },
    {
      "cell_type": "markdown",
      "metadata": {
        "id": "rt1lGqfQasTT"
      },
      "source": [
        "# Preprocesamiento"
      ]
    },
    {
      "cell_type": "code",
      "metadata": {
        "colab": {
          "base_uri": "https://localhost:8080/"
        },
        "id": "15uoE-BCKHGN",
        "outputId": "0e204b1c-0bf4-41fb-8714-9cec66d316b2"
      },
      "source": [
        "#carga de datos en variables\n",
        "IMG_DIM = (150, 150)\n",
        "\n",
        "train_files = glob.glob('training_data/*')\n",
        "train_imgs = [img_to_array(load_img(img, target_size=IMG_DIM)) for img in train_files]\n",
        "train_imgs = np.array(train_imgs)\n",
        "train_labels = [fn.split('/')[1].split('.')[0].strip() for fn in train_files]\n",
        "#print(train_labels)\n",
        "\n",
        "validation_files = glob.glob('validation_data/*')\n",
        "validation_imgs = [img_to_array(load_img(img, target_size=IMG_DIM)) for img in validation_files]\n",
        "validation_imgs = np.array(validation_imgs)\n",
        "validation_labels = [fn.split('/')[1].split('.')[0].strip() for fn in validation_files]\n",
        "#print(validation_labels)\n",
        "print('Train dataset shape:', train_imgs.shape) \n",
        "print('Validation dataset shape:', validation_imgs.shape)\n",
        "mf_validation = validation_imgs.shape[0]"
      ],
      "execution_count": 3,
      "outputs": [
        {
          "output_type": "stream",
          "text": [
            "Train dataset shape: (2561, 150, 150, 3)\n",
            "Validation dataset shape: (320, 150, 150, 3)\n"
          ],
          "name": "stdout"
        }
      ]
    },
    {
      "cell_type": "code",
      "metadata": {
        "colab": {
          "base_uri": "https://localhost:8080/",
          "height": 186
        },
        "id": "jz53HO4UKHGO",
        "outputId": "d2adafee-f17f-4be3-e7de-db6304a74509"
      },
      "source": [
        "#normalizacion\n",
        "train_imgs_scaled = train_imgs.astype('float32')\n",
        "validation_imgs_scaled  = validation_imgs.astype('float32')\n",
        "train_imgs_scaled /= 255\n",
        "validation_imgs_scaled /= 255\n",
        "\n",
        "print(train_imgs[2556].shape)\n",
        "array_to_img(train_imgs[2556])"
      ],
      "execution_count": 4,
      "outputs": [
        {
          "output_type": "stream",
          "text": [
            "(150, 150, 3)\n"
          ],
          "name": "stdout"
        },
        {
          "output_type": "execute_result",
          "data": {
            "image/png": "[encoded data removed]",
            "text/plain": [
              "<PIL.Image.Image image mode=RGB size=150x150 at 0x7FCBC791DB10>"
            ]
          },
          "metadata": {
            "tags": []
          },
          "execution_count": 4
        }
      ]
    },
    {
      "cell_type": "code",
      "metadata": {
        "colab": {
          "base_uri": "https://localhost:8080/"
        },
        "id": "o1t39OUQKHGO",
        "outputId": "b782fd2b-f07b-4801-e36e-8bc42fe91a52"
      },
      "source": [
        "#Codificación los LABEL mediante One Hot Encoding\n",
        "batch_size = 30\n",
        "num_classes = 7\n",
        "epochs = 30\n",
        "input_shape = (150, 150, 3)\n",
        "\n",
        "# encode text category labels\n",
        "from sklearn.preprocessing import LabelEncoder\n",
        "from tensorflow.keras.utils import to_categorical\n",
        "\n",
        "le = LabelEncoder()\n",
        "le.fit(train_labels)\n",
        "train_labels_enc = le.transform(train_labels)\n",
        "train_labels_enc = to_categorical(train_labels_enc, num_classes)\n",
        "validation_labels_enc = le.transform(validation_labels)\n",
        "validation_labels_enc = to_categorical(validation_labels_enc, num_classes)\n",
        "\n",
        "print(train_labels[455:465]) \n",
        "print(train_labels_enc[455:465]) #ejemplo de rango"
      ],
      "execution_count": 8,
      "outputs": [
        {
          "output_type": "stream",
          "text": [
            "['triangulo', 'circulo', 'trapecio', 'circulo', 'cuadrado', 'triangulo', 'circulo', 'cuadrado', 'rectangulo', 'elipse']\n",
            "[[0. 0. 0. 0. 0. 0. 1.]\n",
            " [1. 0. 0. 0. 0. 0. 0.]\n",
            " [0. 0. 0. 0. 0. 1. 0.]\n",
            " [1. 0. 0. 0. 0. 0. 0.]\n",
            " [0. 1. 0. 0. 0. 0. 0.]\n",
            " [0. 0. 0. 0. 0. 0. 1.]\n",
            " [1. 0. 0. 0. 0. 0. 0.]\n",
            " [0. 1. 0. 0. 0. 0. 0.]\n",
            " [0. 0. 0. 1. 0. 0. 0.]\n",
            " [0. 0. 1. 0. 0. 0. 0.]]\n"
          ],
          "name": "stdout"
        }
      ]
    },
    {
      "cell_type": "code",
      "metadata": {
        "colab": {
          "base_uri": "https://localhost:8080/"
        },
        "id": "s5JxDaUKKHGP",
        "outputId": "28d6d029-7f74-4d49-b31b-3ff0d188c8b4"
      },
      "source": [
        "#data augmentation\n",
        "train_datagen = ImageDataGenerator(rescale=1./255, zoom_range=0.3, rotation_range=40,\n",
        "                                   width_shift_range=0.2, height_shift_range=0.2, shear_range=0.2, \n",
        "                                   horizontal_flip=True, fill_mode='nearest')\n",
        "\n",
        "val_datagen = ImageDataGenerator(rescale=1./255)\n",
        "\n",
        "train_generator = train_datagen.flow(train_imgs, train_labels_enc, batch_size=30, shuffle=True)\n",
        "val_generator = val_datagen.flow(validation_imgs, validation_labels_enc, batch_size=30, shuffle=True)\n",
        "#input_shape = (150, 150, 3)\n",
        "print(train_generator.n)\n",
        "print(val_generator.n)"
      ],
      "execution_count": 9,
      "outputs": [
        {
          "output_type": "stream",
          "text": [
            "2561\n",
            "320\n"
          ],
          "name": "stdout"
        }
      ]
    },
    {
      "cell_type": "markdown",
      "metadata": {
        "id": "Yrb14D5eeAe1"
      },
      "source": [
        "# Modelo Pre-entrenado"
      ]
    },
    {
      "cell_type": "code",
      "metadata": {
        "id": "5WBCU1OseHoY"
      },
      "source": [
        "#configuraciones posibles de los modelos, solo usar 1\n",
        "config_1 = [\n",
        "    pretrained_model,\n",
        "    tf.keras.layers.Flatten(),\n",
        "    tf.keras.layers.Dense(7, activation='softmax')\n",
        "]\n",
        "\n",
        "config_2 = [\n",
        "    pretrained_model,\n",
        "    tf.keras.layers.Flatten(),\n",
        "    Dense(128, activation='relu'),\n",
        "    tf.keras.layers.Dense(7, activation='softmax')\n",
        "]\n",
        "\n",
        "config_3 = [\n",
        "    pretrained_model,\n",
        "    tf.keras.layers.Flatten(),\n",
        "    Dropout(0.3),\n",
        "    Dense(128, activation='relu'),\n",
        "    Dropout(0.3),\n",
        "    Dense(7, activation='softmax')\n",
        "]\n",
        "\n",
        "config_4 = [\n",
        "    pretrained_model,\n",
        "    tf.keras.layers.Flatten(),\n",
        "    Dense(128, activation='relu'),\n",
        "    Dense(256, activation='relu'),\n",
        "    Dense(7, activation='softmax')\n",
        "]\n",
        "\n",
        "config_5 = [\n",
        "    pretrained_model,\n",
        "    tf.keras.layers.Flatten(),\n",
        "    Dropout(0.3),\n",
        "    Dense(128, activation='relu'),\n",
        "    Dropout(0.3),\n",
        "    Dense(256, activation='relu'),\n",
        "    Dropout(0.3),\n",
        "    Dense(7, activation='softmax')\n",
        "]\n",
        "\n",
        "config_6 = [\n",
        "    pretrained_model,\n",
        "    tf.keras.layers.Flatten(),\n",
        "    Dense(128, activation='relu'),\n",
        "    Dense(256, activation='relu'),\n",
        "    Dense(512, activation='relu'),\n",
        "    Dense(7, activation='softmax')\n",
        "]\n",
        "\n",
        "config_7 = [\n",
        "    pretrained_model,\n",
        "    tf.keras.layers.Flatten(),\n",
        "    Dropout(0.3),\n",
        "    Dense(128, activation='relu'),\n",
        "    Dropout(0.3),\n",
        "    Dense(256, activation='relu'),\n",
        "    Dropout(0.3),\n",
        "    Dense(512, activation='relu'),\n",
        "    Dropout(0.3),\n",
        "    Dense(7, activation='softmax')\n",
        "]\n",
        "\n",
        "config_8 = [\n",
        "    pretrained_model,\n",
        "    tf.keras.layers.Flatten(),\n",
        "    Dense(128, activation='relu'),\n",
        "    Dense(256, activation='relu'),\n",
        "    Dense(512, activation='relu'),\n",
        "    Dense(512, activation='relu'),\n",
        "    Dense(7, activation='softmax')\n",
        "]\n",
        "\n",
        "config_9 = [\n",
        "    pretrained_model,\n",
        "    tf.keras.layers.Flatten(),\n",
        "    Dropout(0.3),\n",
        "    Dense(128, activation='relu'),\n",
        "    Dropout(0.3),\n",
        "    Dense(256, activation='relu'),\n",
        "    Dropout(0.3),\n",
        "    Dense(512, activation='relu'),\n",
        "    Dropout(0.3),\n",
        "    Dense(512, activation='relu'),\n",
        "    Dropout(0.3),\n",
        "    Dense(7, activation='softmax')\n",
        "]"
      ],
      "execution_count": 20,
      "outputs": []
    },
    {
      "cell_type": "code",
      "metadata": {
        "colab": {
          "base_uri": "https://localhost:8080/"
        },
        "id": "NWm6nTLjKHGQ",
        "outputId": "4069def6-e93c-4696-a3e4-12ec08cf0ee4"
      },
      "source": [
        "from keras.layers import Conv2D, MaxPooling2D, Flatten, Dense, Dropout\n",
        "# todos los modelos preentrenados posibles de usar\n",
        "#pretrained_model = tf.keras.applications.DenseNet201(weights='imagenet', include_top=False ,input_shape=[*IMG_DIM, 3])\n",
        "#pretrained_model = tf.keras.applications.DenseNet169(weights='imagenet', include_top=False ,input_shape=[*IMG_DIM, 3])\n",
        "#pretrained_model = tf.keras.applications.DenseNet121(weights='imagenet', include_top=False ,input_shape=[*IMG_DIM, 3])\n",
        "#pretrained_model = tf.keras.applications.VGG16(weights='imagenet', include_top=False ,input_shape=[*IMG_DIM, 3])\n",
        "#pretrained_model = tf.keras.applications.VGG19(weights='imagenet', include_top=False ,input_shape=[*IMG_DIM, 3])\n",
        "#pretrained_model = tf.keras.applications.ResNet50(weights='imagenet', include_top=False, input_shape=[*IMG_DIM, 3]) \n",
        "#pretrained_model = tf.keras.applications.ResNet50V2(weights='imagenet', include_top=False, input_shape=[*IMG_DIM, 3])\n",
        "#pretrained_model = tf.keras.applications.ResNet101V2(weights='imagenet', include_top=False, input_shape=[*IMG_DIM, 3])\n",
        "#pretrained_model = tf.keras.applications.ResNet152V2(weights='imagenet', include_top=False, input_shape=[*IMG_DIM, 3])\n",
        "#pretrained_model = tf.keras.applications.InceptionResNetV2(weights='imagenet', include_top=False, input_shape=[*IMG_DIM, 3])\n",
        "#pretrained_model = tf.keras.applications.InceptionV3(weights='imagenet', include_top=False, input_shape=[*IMG_DIM, 3])\n",
        "#pretrained_model = tf.keras.applications.Xception(weights='imagenet', input_shape=[*IMG_DIM, 3], include_top=False) \n",
        "#pretrained_model = tf.keras.applications.MobileNetV2(input_shape=[*IMG_DIM, 3], include_top=False) \n",
        "#uno de los mejores resultados de accuracy junto con DenseNet121\n",
        "pretrained_model = tf.keras.applications.MobileNet(weights='imagenet', include_top=False, input_shape=[*IMG_DIM, 3])\n",
        "pretrained_model.trainable = False\n",
        "#modelo\n",
        "model = tf.keras.Sequential(config_6)\n",
        "\n",
        "model.compile(\n",
        "    optimizer='adam',\n",
        "    loss = 'categorical_crossentropy',\n",
        "    metrics=['accuracy']\n",
        ")\n",
        "\n",
        "model.summary()"
      ],
      "execution_count": 19,
      "outputs": [
        {
          "output_type": "stream",
          "text": [
            "WARNING:tensorflow:`input_shape` is undefined or non-square, or `rows` is not in [128, 160, 192, 224]. Weights for input shape (224, 224) will be loaded as the default.\n",
            "Model: \"sequential_4\"\n",
            "_________________________________________________________________\n",
            "Layer (type)                 Output Shape              Param #   \n",
            "=================================================================\n",
            "mobilenet_1.00_224 (Function (None, 4, 4, 1024)        3228864   \n",
            "_________________________________________________________________\n",
            "flatten_17 (Flatten)         (None, 16384)             0         \n",
            "_________________________________________________________________\n",
            "module_wrapper_9 (ModuleWrap (None, 128)               2097280   \n",
            "_________________________________________________________________\n",
            "module_wrapper_10 (ModuleWra (None, 256)               33024     \n",
            "_________________________________________________________________\n",
            "module_wrapper_11 (ModuleWra (None, 512)               131584    \n",
            "_________________________________________________________________\n",
            "module_wrapper_12 (ModuleWra (None, 7)                 3591      \n",
            "=================================================================\n",
            "Total params: 5,494,343\n",
            "Trainable params: 2,265,479\n",
            "Non-trainable params: 3,228,864\n",
            "_________________________________________________________________\n"
          ],
          "name": "stdout"
        }
      ]
    },
    {
      "cell_type": "code",
      "metadata": {
        "id": "Q8BpQBQxKHGK"
      },
      "source": [
        "#para calcular el tiempo de entrenamiento\n",
        "import time\n",
        "start = time.time() #partiendo"
      ],
      "execution_count": null,
      "outputs": []
    },
    {
      "cell_type": "markdown",
      "metadata": {
        "id": "Gi9HBHggf6bD"
      },
      "source": [
        "# Entrenamiento"
      ]
    },
    {
      "cell_type": "markdown",
      "metadata": {
        "id": "sga06mSsf_lX"
      },
      "source": [
        "Los steps_per_epoch y epochs para los experimentos variaron de la siguiente forma:\n",
        "*   steps_per_epoch = 30 | epochs = 30\n",
        "*   steps_per_epoch = 30 | epochs = 100\n",
        "*   steps_per_epoch = 86 | epochs = 100\n",
        "\n",
        "Y según la configuracion anterior, se usó Dropout o no\n",
        "\n"
      ]
    },
    {
      "cell_type": "code",
      "metadata": {
        "colab": {
          "base_uri": "https://localhost:8080/"
        },
        "id": "CbCL5nZ5KHGQ",
        "outputId": "c127f50a-f9b1-493e-e51f-14af913d114c"
      },
      "source": [
        "STEP_SIZE_VAL=val_generator.n//val_generator.batch_size\n",
        "\n",
        "history = model.fit(train_generator, steps_per_epoch=86, epochs=100, validation_data=val_generator, validation_steps=STEP_SIZE_VAL)"
      ],
      "execution_count": null,
      "outputs": [
        {
          "output_type": "stream",
          "text": [
            "Epoch 1/100\n",
            "86/86 [==============================] - 29s 135ms/step - loss: 1.8837 - accuracy: 0.3794 - val_loss: 1.1416 - val_accuracy: 0.5767\n",
            "Epoch 2/100\n",
            "86/86 [==============================] - 11s 126ms/step - loss: 1.2084 - accuracy: 0.5454 - val_loss: 1.0928 - val_accuracy: 0.5767\n",
            "Epoch 3/100\n",
            "86/86 [==============================] - 11s 125ms/step - loss: 1.0644 - accuracy: 0.5988 - val_loss: 1.0662 - val_accuracy: 0.6300\n",
            "Epoch 4/100\n",
            "86/86 [==============================] - 11s 127ms/step - loss: 1.0182 - accuracy: 0.6104 - val_loss: 1.0200 - val_accuracy: 0.6367\n",
            "Epoch 5/100\n",
            "86/86 [==============================] - 11s 127ms/step - loss: 0.9963 - accuracy: 0.6313 - val_loss: 0.9567 - val_accuracy: 0.6233\n",
            "Epoch 6/100\n",
            "86/86 [==============================] - 11s 128ms/step - loss: 0.9216 - accuracy: 0.6541 - val_loss: 1.0538 - val_accuracy: 0.6100\n",
            "Epoch 7/100\n",
            "86/86 [==============================] - 11s 127ms/step - loss: 0.9171 - accuracy: 0.6376 - val_loss: 0.9593 - val_accuracy: 0.6700\n",
            "Epoch 8/100\n",
            "86/86 [==============================] - 11s 129ms/step - loss: 0.8102 - accuracy: 0.7140 - val_loss: 0.9338 - val_accuracy: 0.6567\n",
            "Epoch 9/100\n",
            "86/86 [==============================] - 11s 127ms/step - loss: 0.7849 - accuracy: 0.7011 - val_loss: 0.9627 - val_accuracy: 0.6633\n",
            "Epoch 10/100\n",
            "86/86 [==============================] - 11s 126ms/step - loss: 0.7539 - accuracy: 0.7277 - val_loss: 1.0487 - val_accuracy: 0.6100\n",
            "Epoch 11/100\n",
            "86/86 [==============================] - 11s 128ms/step - loss: 0.7029 - accuracy: 0.7363 - val_loss: 1.0434 - val_accuracy: 0.6300\n",
            "Epoch 12/100\n",
            "86/86 [==============================] - 11s 127ms/step - loss: 0.7366 - accuracy: 0.7303 - val_loss: 1.0635 - val_accuracy: 0.6300\n",
            "Epoch 13/100\n",
            "86/86 [==============================] - 11s 127ms/step - loss: 0.7314 - accuracy: 0.7277 - val_loss: 1.0349 - val_accuracy: 0.6233\n",
            "Epoch 14/100\n",
            "86/86 [==============================] - 11s 128ms/step - loss: 0.7021 - accuracy: 0.7444 - val_loss: 0.9274 - val_accuracy: 0.6667\n",
            "Epoch 15/100\n",
            "86/86 [==============================] - 11s 127ms/step - loss: 0.6273 - accuracy: 0.7785 - val_loss: 1.0129 - val_accuracy: 0.6733\n",
            "Epoch 16/100\n",
            "86/86 [==============================] - 11s 127ms/step - loss: 0.6339 - accuracy: 0.7676 - val_loss: 1.0655 - val_accuracy: 0.6333\n",
            "Epoch 17/100\n",
            "86/86 [==============================] - 11s 128ms/step - loss: 0.6457 - accuracy: 0.7689 - val_loss: 1.1031 - val_accuracy: 0.6500\n",
            "Epoch 18/100\n",
            "86/86 [==============================] - 11s 126ms/step - loss: 0.6282 - accuracy: 0.7802 - val_loss: 0.9908 - val_accuracy: 0.6267\n",
            "Epoch 19/100\n",
            "86/86 [==============================] - 11s 127ms/step - loss: 0.6267 - accuracy: 0.7698 - val_loss: 1.1286 - val_accuracy: 0.6567\n",
            "Epoch 20/100\n",
            "86/86 [==============================] - 11s 129ms/step - loss: 0.5794 - accuracy: 0.7891 - val_loss: 1.0966 - val_accuracy: 0.6267\n",
            "Epoch 21/100\n",
            "86/86 [==============================] - 11s 127ms/step - loss: 0.5614 - accuracy: 0.8125 - val_loss: 1.0025 - val_accuracy: 0.6533\n",
            "Epoch 22/100\n",
            "86/86 [==============================] - 11s 127ms/step - loss: 0.5411 - accuracy: 0.8005 - val_loss: 1.2127 - val_accuracy: 0.6467\n",
            "Epoch 23/100\n",
            "86/86 [==============================] - 11s 128ms/step - loss: 0.5201 - accuracy: 0.8114 - val_loss: 1.0934 - val_accuracy: 0.6433\n",
            "Epoch 24/100\n",
            "86/86 [==============================] - 11s 127ms/step - loss: 0.5837 - accuracy: 0.7931 - val_loss: 1.0763 - val_accuracy: 0.6400\n",
            "Epoch 25/100\n",
            "86/86 [==============================] - 11s 126ms/step - loss: 0.5370 - accuracy: 0.8088 - val_loss: 1.1431 - val_accuracy: 0.6633\n",
            "Epoch 26/100\n",
            "86/86 [==============================] - 11s 130ms/step - loss: 0.4858 - accuracy: 0.8276 - val_loss: 1.2716 - val_accuracy: 0.6233\n",
            "Epoch 27/100\n",
            "86/86 [==============================] - 11s 126ms/step - loss: 0.5467 - accuracy: 0.7915 - val_loss: 1.1354 - val_accuracy: 0.6767\n",
            "Epoch 28/100\n",
            "86/86 [==============================] - 11s 130ms/step - loss: 0.4867 - accuracy: 0.8308 - val_loss: 1.0280 - val_accuracy: 0.6833\n",
            "Epoch 29/100\n",
            "86/86 [==============================] - 11s 128ms/step - loss: 0.4843 - accuracy: 0.8258 - val_loss: 1.1613 - val_accuracy: 0.6433\n",
            "Epoch 30/100\n",
            "86/86 [==============================] - 11s 127ms/step - loss: 0.4764 - accuracy: 0.8309 - val_loss: 1.1403 - val_accuracy: 0.6500\n",
            "Epoch 31/100\n",
            "86/86 [==============================] - 11s 127ms/step - loss: 0.4641 - accuracy: 0.8304 - val_loss: 1.3336 - val_accuracy: 0.6467\n",
            "Epoch 32/100\n",
            "86/86 [==============================] - 11s 129ms/step - loss: 0.5091 - accuracy: 0.8235 - val_loss: 1.3636 - val_accuracy: 0.6500\n",
            "Epoch 33/100\n",
            "86/86 [==============================] - 11s 126ms/step - loss: 0.4774 - accuracy: 0.8172 - val_loss: 1.2120 - val_accuracy: 0.6667\n",
            "Epoch 34/100\n",
            "86/86 [==============================] - 11s 128ms/step - loss: 0.5146 - accuracy: 0.8021 - val_loss: 1.1415 - val_accuracy: 0.6600\n",
            "Epoch 35/100\n",
            "86/86 [==============================] - 11s 127ms/step - loss: 0.4803 - accuracy: 0.8318 - val_loss: 1.2233 - val_accuracy: 0.6533\n",
            "Epoch 36/100\n",
            "86/86 [==============================] - 11s 126ms/step - loss: 0.4761 - accuracy: 0.8330 - val_loss: 1.2543 - val_accuracy: 0.6400\n",
            "Epoch 37/100\n",
            "86/86 [==============================] - 11s 126ms/step - loss: 0.4620 - accuracy: 0.8304 - val_loss: 1.1485 - val_accuracy: 0.6633\n",
            "Epoch 38/100\n",
            "86/86 [==============================] - 11s 127ms/step - loss: 0.4441 - accuracy: 0.8326 - val_loss: 1.2632 - val_accuracy: 0.6267\n",
            "Epoch 39/100\n",
            "86/86 [==============================] - 11s 128ms/step - loss: 0.4036 - accuracy: 0.8643 - val_loss: 1.2090 - val_accuracy: 0.6367\n",
            "Epoch 40/100\n",
            "86/86 [==============================] - 11s 127ms/step - loss: 0.4345 - accuracy: 0.8467 - val_loss: 1.2574 - val_accuracy: 0.6567\n",
            "Epoch 41/100\n",
            "86/86 [==============================] - 11s 129ms/step - loss: 0.4400 - accuracy: 0.8441 - val_loss: 1.3178 - val_accuracy: 0.6000\n",
            "Epoch 42/100\n",
            "86/86 [==============================] - 11s 126ms/step - loss: 0.4348 - accuracy: 0.8417 - val_loss: 1.2935 - val_accuracy: 0.6567\n",
            "Epoch 43/100\n",
            "86/86 [==============================] - 11s 127ms/step - loss: 0.4083 - accuracy: 0.8554 - val_loss: 1.3193 - val_accuracy: 0.6367\n",
            "Epoch 44/100\n",
            "86/86 [==============================] - 11s 128ms/step - loss: 0.4109 - accuracy: 0.8549 - val_loss: 1.2430 - val_accuracy: 0.6567\n",
            "Epoch 45/100\n",
            "86/86 [==============================] - 11s 128ms/step - loss: 0.4122 - accuracy: 0.8621 - val_loss: 1.3877 - val_accuracy: 0.6300\n",
            "Epoch 46/100\n",
            "86/86 [==============================] - 11s 127ms/step - loss: 0.3739 - accuracy: 0.8619 - val_loss: 1.3831 - val_accuracy: 0.6400\n",
            "Epoch 47/100\n",
            "86/86 [==============================] - 11s 128ms/step - loss: 0.3899 - accuracy: 0.8569 - val_loss: 1.4944 - val_accuracy: 0.6233\n",
            "Epoch 48/100\n",
            "86/86 [==============================] - 11s 127ms/step - loss: 0.4261 - accuracy: 0.8515 - val_loss: 1.2376 - val_accuracy: 0.6333\n",
            "Epoch 49/100\n",
            "86/86 [==============================] - 11s 126ms/step - loss: 0.4078 - accuracy: 0.8532 - val_loss: 1.2849 - val_accuracy: 0.6500\n",
            "Epoch 50/100\n",
            "86/86 [==============================] - 11s 130ms/step - loss: 0.4001 - accuracy: 0.8514 - val_loss: 1.2421 - val_accuracy: 0.6467\n",
            "Epoch 51/100\n",
            "86/86 [==============================] - 11s 126ms/step - loss: 0.3756 - accuracy: 0.8688 - val_loss: 1.4339 - val_accuracy: 0.6667\n",
            "Epoch 52/100\n",
            "86/86 [==============================] - 11s 127ms/step - loss: 0.4015 - accuracy: 0.8606 - val_loss: 1.2078 - val_accuracy: 0.6467\n",
            "Epoch 53/100\n",
            "86/86 [==============================] - 11s 128ms/step - loss: 0.4050 - accuracy: 0.8497 - val_loss: 1.2166 - val_accuracy: 0.6533\n",
            "Epoch 54/100\n",
            "86/86 [==============================] - 11s 127ms/step - loss: 0.3839 - accuracy: 0.8664 - val_loss: 1.3987 - val_accuracy: 0.6400\n",
            "Epoch 55/100\n",
            "86/86 [==============================] - 11s 128ms/step - loss: 0.3570 - accuracy: 0.8710 - val_loss: 1.4497 - val_accuracy: 0.6233\n",
            "Epoch 56/100\n",
            "86/86 [==============================] - 11s 133ms/step - loss: 0.3732 - accuracy: 0.8673 - val_loss: 1.3273 - val_accuracy: 0.6333\n",
            "Epoch 57/100\n",
            "86/86 [==============================] - 11s 127ms/step - loss: 0.3577 - accuracy: 0.8625 - val_loss: 1.5111 - val_accuracy: 0.6233\n",
            "Epoch 58/100\n",
            "86/86 [==============================] - 11s 127ms/step - loss: 0.3884 - accuracy: 0.8625 - val_loss: 1.4320 - val_accuracy: 0.6500\n",
            "Epoch 59/100\n",
            "86/86 [==============================] - 11s 129ms/step - loss: 0.4048 - accuracy: 0.8597 - val_loss: 1.1966 - val_accuracy: 0.6633\n",
            "Epoch 60/100\n",
            "86/86 [==============================] - 11s 129ms/step - loss: 0.3586 - accuracy: 0.8640 - val_loss: 1.4321 - val_accuracy: 0.6500\n",
            "Epoch 61/100\n",
            "86/86 [==============================] - 11s 130ms/step - loss: 0.3179 - accuracy: 0.8898 - val_loss: 1.3198 - val_accuracy: 0.6633\n",
            "Epoch 62/100\n",
            "86/86 [==============================] - 11s 129ms/step - loss: 0.3710 - accuracy: 0.8677 - val_loss: 1.5350 - val_accuracy: 0.6267\n",
            "Epoch 63/100\n",
            "86/86 [==============================] - 11s 126ms/step - loss: 0.3201 - accuracy: 0.8905 - val_loss: 1.3615 - val_accuracy: 0.6400\n",
            "Epoch 64/100\n",
            "86/86 [==============================] - 11s 128ms/step - loss: 0.3916 - accuracy: 0.8667 - val_loss: 1.3412 - val_accuracy: 0.6600\n",
            "Epoch 65/100\n",
            "86/86 [==============================] - 11s 128ms/step - loss: 0.3155 - accuracy: 0.8881 - val_loss: 1.3836 - val_accuracy: 0.6367\n",
            "Epoch 66/100\n",
            "86/86 [==============================] - 11s 126ms/step - loss: 0.3581 - accuracy: 0.8737 - val_loss: 1.4072 - val_accuracy: 0.6467\n",
            "Epoch 67/100\n",
            "86/86 [==============================] - 11s 130ms/step - loss: 0.3053 - accuracy: 0.8906 - val_loss: 1.2908 - val_accuracy: 0.6433\n",
            "Epoch 68/100\n",
            "86/86 [==============================] - 11s 127ms/step - loss: 0.3276 - accuracy: 0.8825 - val_loss: 1.3187 - val_accuracy: 0.6567\n",
            "Epoch 69/100\n",
            "86/86 [==============================] - 11s 128ms/step - loss: 0.3522 - accuracy: 0.8863 - val_loss: 1.3243 - val_accuracy: 0.6300\n",
            "Epoch 70/100\n",
            "86/86 [==============================] - 11s 126ms/step - loss: 0.3667 - accuracy: 0.8742 - val_loss: 1.4126 - val_accuracy: 0.6433\n",
            "Epoch 71/100\n",
            "86/86 [==============================] - 11s 127ms/step - loss: 0.3260 - accuracy: 0.8788 - val_loss: 1.3185 - val_accuracy: 0.6800\n",
            "Epoch 72/100\n",
            "86/86 [==============================] - 11s 127ms/step - loss: 0.2984 - accuracy: 0.8895 - val_loss: 1.2909 - val_accuracy: 0.6467\n",
            "Epoch 73/100\n",
            "86/86 [==============================] - 11s 127ms/step - loss: 0.2937 - accuracy: 0.8978 - val_loss: 1.3356 - val_accuracy: 0.6500\n",
            "Epoch 74/100\n",
            "86/86 [==============================] - 11s 129ms/step - loss: 0.3018 - accuracy: 0.8910 - val_loss: 1.4176 - val_accuracy: 0.6533\n",
            "Epoch 75/100\n",
            "86/86 [==============================] - 11s 128ms/step - loss: 0.3055 - accuracy: 0.8951 - val_loss: 1.4007 - val_accuracy: 0.6433\n",
            "Epoch 76/100\n",
            "86/86 [==============================] - 11s 126ms/step - loss: 0.2941 - accuracy: 0.8967 - val_loss: 1.5488 - val_accuracy: 0.5967\n",
            "Epoch 77/100\n",
            "86/86 [==============================] - 11s 128ms/step - loss: 0.3285 - accuracy: 0.8843 - val_loss: 1.3784 - val_accuracy: 0.6467\n",
            "Epoch 78/100\n",
            "86/86 [==============================] - 11s 128ms/step - loss: 0.3321 - accuracy: 0.8945 - val_loss: 1.3595 - val_accuracy: 0.6867\n",
            "Epoch 79/100\n",
            "86/86 [==============================] - 11s 127ms/step - loss: 0.3518 - accuracy: 0.8761 - val_loss: 1.2528 - val_accuracy: 0.6667\n",
            "Epoch 80/100\n",
            "86/86 [==============================] - 11s 128ms/step - loss: 0.3262 - accuracy: 0.8900 - val_loss: 1.2962 - val_accuracy: 0.6833\n",
            "Epoch 81/100\n",
            "86/86 [==============================] - 11s 126ms/step - loss: 0.2858 - accuracy: 0.9014 - val_loss: 1.4557 - val_accuracy: 0.6733\n",
            "Epoch 82/100\n",
            "86/86 [==============================] - 11s 128ms/step - loss: 0.3010 - accuracy: 0.8991 - val_loss: 1.4205 - val_accuracy: 0.6767\n",
            "Epoch 83/100\n",
            "86/86 [==============================] - 11s 130ms/step - loss: 0.3394 - accuracy: 0.8872 - val_loss: 1.4017 - val_accuracy: 0.6367\n",
            "Epoch 84/100\n",
            "86/86 [==============================] - 11s 126ms/step - loss: 0.3114 - accuracy: 0.8853 - val_loss: 1.5082 - val_accuracy: 0.6400\n",
            "Epoch 85/100\n",
            "86/86 [==============================] - 11s 126ms/step - loss: 0.3246 - accuracy: 0.8939 - val_loss: 1.5337 - val_accuracy: 0.6500\n",
            "Epoch 86/100\n",
            "86/86 [==============================] - 11s 129ms/step - loss: 0.2994 - accuracy: 0.8999 - val_loss: 1.3217 - val_accuracy: 0.6567\n",
            "Epoch 87/100\n",
            "86/86 [==============================] - 11s 126ms/step - loss: 0.3176 - accuracy: 0.8866 - val_loss: 1.4315 - val_accuracy: 0.6300\n",
            "Epoch 88/100\n",
            "86/86 [==============================] - 11s 128ms/step - loss: 0.2976 - accuracy: 0.8943 - val_loss: 1.6617 - val_accuracy: 0.6233\n",
            "Epoch 89/100\n",
            "86/86 [==============================] - 11s 128ms/step - loss: 0.2855 - accuracy: 0.8983 - val_loss: 1.4763 - val_accuracy: 0.6567\n",
            "Epoch 90/100\n",
            "86/86 [==============================] - 11s 127ms/step - loss: 0.3022 - accuracy: 0.8970 - val_loss: 1.5758 - val_accuracy: 0.6433\n",
            "Epoch 91/100\n",
            "86/86 [==============================] - 11s 126ms/step - loss: 0.2858 - accuracy: 0.9039 - val_loss: 1.2512 - val_accuracy: 0.6667\n",
            "Epoch 92/100\n",
            "86/86 [==============================] - 11s 127ms/step - loss: 0.2831 - accuracy: 0.8970 - val_loss: 1.5212 - val_accuracy: 0.6033\n",
            "Epoch 93/100\n",
            "86/86 [==============================] - 11s 126ms/step - loss: 0.2718 - accuracy: 0.8986 - val_loss: 1.5520 - val_accuracy: 0.6500\n",
            "Epoch 94/100\n",
            "86/86 [==============================] - 11s 127ms/step - loss: 0.2893 - accuracy: 0.8971 - val_loss: 1.5122 - val_accuracy: 0.6767\n",
            "Epoch 95/100\n",
            "86/86 [==============================] - 11s 126ms/step - loss: 0.2452 - accuracy: 0.9039 - val_loss: 1.3655 - val_accuracy: 0.6467\n",
            "Epoch 96/100\n",
            "86/86 [==============================] - 11s 127ms/step - loss: 0.3366 - accuracy: 0.8783 - val_loss: 1.5768 - val_accuracy: 0.6500\n",
            "Epoch 97/100\n",
            "86/86 [==============================] - 11s 128ms/step - loss: 0.2979 - accuracy: 0.8893 - val_loss: 1.6137 - val_accuracy: 0.6400\n",
            "Epoch 98/100\n",
            "86/86 [==============================] - 11s 128ms/step - loss: 0.3053 - accuracy: 0.8926 - val_loss: 1.5866 - val_accuracy: 0.6433\n",
            "Epoch 99/100\n",
            "86/86 [==============================] - 11s 127ms/step - loss: 0.2850 - accuracy: 0.9046 - val_loss: 1.4795 - val_accuracy: 0.6600\n",
            "Epoch 100/100\n",
            "86/86 [==============================] - 11s 127ms/step - loss: 0.2751 - accuracy: 0.8993 - val_loss: 1.6057 - val_accuracy: 0.6700\n"
          ],
          "name": "stdout"
        }
      ]
    },
    {
      "cell_type": "code",
      "metadata": {
        "colab": {
          "base_uri": "https://localhost:8080/"
        },
        "id": "1UlHBOvzKHGT",
        "outputId": "69d73e63-19e4-4614-d5c5-f13dd5da1c2d"
      },
      "source": [
        "done = time.time()\n",
        "elapsed = done - start #terminando\n",
        "print(\"Tiempo total de ejecución training/validation\", elapsed)"
      ],
      "execution_count": null,
      "outputs": [
        {
          "output_type": "stream",
          "text": [
            "Tiempo total de ejecución training/validation 9278.533842802048\n"
          ],
          "name": "stdout"
        }
      ]
    },
    {
      "cell_type": "markdown",
      "metadata": {
        "id": "riBexwbbha7B"
      },
      "source": [
        "# Gráfico de entrenamiento"
      ]
    },
    {
      "cell_type": "code",
      "metadata": {
        "colab": {
          "base_uri": "https://localhost:8080/",
          "height": 308
        },
        "id": "NUYIwi3QKHGT",
        "outputId": "b6aa629b-6ac8-4294-a497-33ecd8e4b1d5"
      },
      "source": [
        "f, (ax1, ax2) = plt.subplots(1, 2, figsize=(12, 4))\n",
        "t = f.suptitle('Modelo MovilNet (6)', fontsize=12)\n",
        "f.subplots_adjust(top=0.85, wspace=0.3)\n",
        "\n",
        "epoch_list = list(range(1,101))\n",
        "ax1.plot(epoch_list, history.history['accuracy'], label='Train Accuracy')\n",
        "ax1.plot(epoch_list, history.history['val_accuracy'], label='Validation Accuracy')\n",
        "ax1.set_xticks(np.arange(1, 101, 5))\n",
        "ax1.set_ylabel('Accuracy Value')\n",
        "ax1.set_xlabel('Epoch')\n",
        "ax1.set_title('Accuracy')\n",
        "l1 = ax1.legend(loc=\"best\")\n",
        "\n",
        "ax2.plot(epoch_list, history.history['loss'], label='Train Loss')\n",
        "ax2.plot(epoch_list, history.history['val_loss'], label='Validation Loss')\n",
        "ax2.set_xticks(np.arange(0, 101, 5))\n",
        "ax2.set_ylabel('Loss Value')\n",
        "ax2.set_xlabel('Epoch')\n",
        "ax2.set_title('Loss')\n",
        "l2 = ax2.legend(loc=\"best\")"
      ],
      "execution_count": null,
      "outputs": [
        {
          "output_type": "display_data",
          "data": {
            "image/png": "[encoded data removed]",
            "text/plain": [
              "<Figure size 864x288 with 2 Axes>"
            ]
          },
          "metadata": {
            "tags": [],
            "needs_background": "light"
          }
        }
      ]
    },
    {
      "cell_type": "code",
      "metadata": {
        "id": "Wo6N90qHKHGT"
      },
      "source": [
        "#se guarda modelo luego del entrenamiento\n",
        "model.save('modeloMobileNet.h5') #este modelo fue el que mejor resultados entregó junto con densenet201"
      ],
      "execution_count": null,
      "outputs": []
    },
    {
      "cell_type": "markdown",
      "metadata": {
        "id": "nhFDDlUahtXL"
      },
      "source": [
        "# Carga del modelo entrenado\n",
        "\n",
        "Este paso se puede utilizar sin la necesidad de entrenar, ya que el modelo entrenado esta disponible, pero si usted quiere volver a entrenar con otro modelo o configuracióón puede hacerlo en los pasos anteriores."
      ]
    },
    {
      "cell_type": "code",
      "metadata": {
        "id": "xis9T5hjKHGT",
        "colab": {
          "base_uri": "https://localhost:8080/"
        },
        "outputId": "49a074bd-23a9-41f7-8740-03aa91b73a22"
      },
      "source": [
        "from keras.models import load_model\n",
        "#descarga del modelo mobilenet o DenseNet201\n",
        "!wget https://www.dropbox.com/s/7hk0xdh4m073eok/modeloMobileNet.h5\n",
        "#!wget https://www.dropbox.com/s/89m62790d1pyzsu/modeloDenseNet201.h5\n",
        "# cargar el modelo\n",
        "modelo_MovilNet = load_model('modeloMobileNet.h5')\n",
        "\n",
        "clear_output()\n",
        "print('Modelo cargado')"
      ],
      "execution_count": 23,
      "outputs": [
        {
          "output_type": "stream",
          "text": [
            "Modelo cargado\n"
          ],
          "name": "stdout"
        }
      ]
    },
    {
      "cell_type": "markdown",
      "metadata": {
        "id": "CT8qPPKvkNjt"
      },
      "source": [
        "# Preprocesamiento de datos de Test"
      ]
    },
    {
      "cell_type": "code",
      "metadata": {
        "colab": {
          "base_uri": "https://localhost:8080/"
        },
        "id": "lZGQ__ASKHGU",
        "outputId": "743ac932-1dab-417c-b647-f6e1ec130954"
      },
      "source": [
        "IMG_DIM = (150, 150)\n",
        "\n",
        "test_files = glob.glob('test_data/*')\n",
        "test_imgs = [img_to_array(load_img(img, target_size=IMG_DIM)) for img in test_files]\n",
        "test_imgs = np.array(test_imgs)\n",
        "test_labels = [fn.split('/')[1].split('.')[0].strip() for fn in test_files]\n",
        "\n",
        "test_imgs_scaled = test_imgs.astype('float32')\n",
        "test_imgs_scaled /= 255\n",
        "\n",
        "print('Test dataset shape:', test_imgs.shape)\n",
        "print(test_labels[100:105])"
      ],
      "execution_count": 24,
      "outputs": [
        {
          "output_type": "stream",
          "text": [
            "Test dataset shape: (320, 150, 150, 3)\n",
            "['cuadrado', 'rectangulo', 'rectangulo', 'trapecio', 'rombo']\n"
          ],
          "name": "stdout"
        }
      ]
    },
    {
      "cell_type": "code",
      "metadata": {
        "colab": {
          "base_uri": "https://localhost:8080/"
        },
        "id": "3439ZrEeKHGU",
        "outputId": "c061020f-ee32-480c-c681-a7f38387ddbd"
      },
      "source": [
        "test_labels_enc = le.transform(test_labels)\n",
        "test_labels_enc = to_categorical(test_labels_enc, num_classes)\n",
        "\n",
        "test_eval = modelo_MovilNet.evaluate(test_imgs_scaled, test_labels_enc, verbose=1)\n",
        " \n",
        "print('Test loss:', test_eval[0])\n",
        "print('Test accuracy:', test_eval[1])"
      ],
      "execution_count": 25,
      "outputs": [
        {
          "output_type": "stream",
          "text": [
            "10/10 [==============================] - 33s 15ms/step - loss: 1.8128 - accuracy: 0.6250\n",
            "Test loss: 1.8128468990325928\n",
            "Test accuracy: 0.625\n"
          ],
          "name": "stdout"
        }
      ]
    },
    {
      "cell_type": "code",
      "metadata": {
        "colab": {
          "base_uri": "https://localhost:8080/"
        },
        "id": "ozykGKxFKHGU",
        "outputId": "7b7ee72f-2bcd-427f-a1c0-8927a40d398f"
      },
      "source": [
        "from sklearn import metrics\n",
        "import numpy as np\n",
        "\n",
        "# de numero a etiquetas, según prediccion del modelo\n",
        "predictions = np.argmax(modelo_MovilNet.predict(test_imgs_scaled), axis=-1)\n",
        "\n",
        "test_labels_pred = []\n",
        "\n",
        "for i in range(320):\n",
        "    if predictions[i] == 0:\n",
        "        test_labels_pred.append('circulo')\n",
        "    elif predictions[i] == 1:\n",
        "        test_labels_pred.append('cuadrado')\n",
        "    elif predictions[i] == 2:\n",
        "        test_labels_pred.append('elipse')\n",
        "    elif predictions[i] == 3:\n",
        "        test_labels_pred.append('rectangulo')\n",
        "    elif predictions[i] == 4:\n",
        "        test_labels_pred.append('rombo')\n",
        "    elif predictions[i] == 5:\n",
        "        test_labels_pred.append('trapecio')\n",
        "    else:\n",
        "        test_labels_pred.append('triangulo')\n",
        "\n",
        "print(test_labels_pred)"
      ],
      "execution_count": 26,
      "outputs": [
        {
          "output_type": "stream",
          "text": [
            "['rombo', 'rectangulo', 'circulo', 'trapecio', 'cuadrado', 'elipse', 'rombo', 'trapecio', 'trapecio', 'rectangulo', 'circulo', 'cuadrado', 'elipse', 'rombo', 'triangulo', 'circulo', 'cuadrado', 'rombo', 'trapecio', 'rectangulo', 'circulo', 'circulo', 'cuadrado', 'rombo', 'circulo', 'trapecio', 'rectangulo', 'elipse', 'trapecio', 'trapecio', 'cuadrado', 'cuadrado', 'triangulo', 'circulo', 'cuadrado', 'rectangulo', 'cuadrado', 'trapecio', 'trapecio', 'rombo', 'rectangulo', 'rectangulo', 'triangulo', 'triangulo', 'trapecio', 'rectangulo', 'circulo', 'circulo', 'circulo', 'elipse', 'rectangulo', 'triangulo', 'triangulo', 'elipse', 'triangulo', 'triangulo', 'circulo', 'triangulo', 'circulo', 'rombo', 'rombo', 'triangulo', 'cuadrado', 'cuadrado', 'cuadrado', 'rectangulo', 'triangulo', 'triangulo', 'trapecio', 'rectangulo', 'triangulo', 'triangulo', 'rombo', 'rombo', 'circulo', 'elipse', 'circulo', 'trapecio', 'circulo', 'elipse', 'elipse', 'elipse', 'trapecio', 'rombo', 'rombo', 'cuadrado', 'elipse', 'trapecio', 'circulo', 'circulo', 'circulo', 'cuadrado', 'circulo', 'rombo', 'circulo', 'triangulo', 'trapecio', 'triangulo', 'trapecio', 'rombo', 'cuadrado', 'rectangulo', 'rombo', 'trapecio', 'rombo', 'rectangulo', 'cuadrado', 'rombo', 'cuadrado', 'rectangulo', 'triangulo', 'circulo', 'circulo', 'rectangulo', 'triangulo', 'elipse', 'circulo', 'circulo', 'triangulo', 'circulo', 'circulo', 'circulo', 'triangulo', 'cuadrado', 'trapecio', 'rombo', 'rombo', 'circulo', 'elipse', 'rectangulo', 'rombo', 'rombo', 'circulo', 'triangulo', 'cuadrado', 'cuadrado', 'elipse', 'circulo', 'circulo', 'triangulo', 'cuadrado', 'trapecio', 'rombo', 'elipse', 'triangulo', 'circulo', 'circulo', 'triangulo', 'circulo', 'rectangulo', 'elipse', 'circulo', 'cuadrado', 'circulo', 'cuadrado', 'triangulo', 'circulo', 'cuadrado', 'rombo', 'cuadrado', 'elipse', 'triangulo', 'elipse', 'cuadrado', 'triangulo', 'circulo', 'circulo', 'circulo', 'rectangulo', 'cuadrado', 'cuadrado', 'rectangulo', 'triangulo', 'trapecio', 'trapecio', 'circulo', 'circulo', 'rectangulo', 'elipse', 'circulo', 'circulo', 'triangulo', 'trapecio', 'rectangulo', 'circulo', 'circulo', 'elipse', 'triangulo', 'trapecio', 'triangulo', 'circulo', 'trapecio', 'triangulo', 'circulo', 'cuadrado', 'trapecio', 'circulo', 'triangulo', 'trapecio', 'cuadrado', 'rectangulo', 'circulo', 'cuadrado', 'triangulo', 'trapecio', 'circulo', 'triangulo', 'circulo', 'triangulo', 'elipse', 'elipse', 'elipse', 'trapecio', 'triangulo', 'elipse', 'rectangulo', 'cuadrado', 'cuadrado', 'triangulo', 'circulo', 'triangulo', 'rectangulo', 'triangulo', 'circulo', 'circulo', 'trapecio', 'rectangulo', 'rectangulo', 'triangulo', 'circulo', 'circulo', 'circulo', 'cuadrado', 'trapecio', 'cuadrado', 'trapecio', 'trapecio', 'trapecio', 'rombo', 'elipse', 'circulo', 'rombo', 'circulo', 'rombo', 'triangulo', 'elipse', 'triangulo', 'trapecio', 'circulo', 'rectangulo', 'triangulo', 'triangulo', 'rombo', 'circulo', 'trapecio', 'circulo', 'elipse', 'rectangulo', 'triangulo', 'rombo', 'elipse', 'circulo', 'elipse', 'rectangulo', 'circulo', 'triangulo', 'rectangulo', 'circulo', 'trapecio', 'trapecio', 'circulo', 'cuadrado', 'circulo', 'triangulo', 'rectangulo', 'rectangulo', 'elipse', 'triangulo', 'rombo', 'circulo', 'circulo', 'circulo', 'triangulo', 'rectangulo', 'trapecio', 'circulo', 'triangulo', 'triangulo', 'cuadrado', 'rectangulo', 'trapecio', 'triangulo', 'elipse', 'rectangulo', 'rombo', 'cuadrado', 'circulo', 'circulo', 'trapecio', 'cuadrado', 'cuadrado', 'circulo', 'triangulo', 'trapecio', 'cuadrado', 'elipse', 'triangulo', 'circulo', 'rectangulo', 'rectangulo', 'trapecio', 'trapecio', 'rectangulo', 'rectangulo', 'rectangulo', 'elipse', 'trapecio', 'rombo', 'circulo', 'rectangulo']\n"
          ],
          "name": "stdout"
        }
      ]
    },
    {
      "cell_type": "code",
      "metadata": {
        "colab": {
          "base_uri": "https://localhost:8080/"
        },
        "id": "Tzi5BjaCKHGV",
        "outputId": "1d746967-a246-46db-8a14-f6a1ef01e92e"
      },
      "source": [
        "from sklearn import metrics\n",
        "\n",
        "# Matriz de confusión\n",
        "print(metrics.confusion_matrix(test_labels, test_labels_pred))\n",
        "\n",
        "# Precision and recall, F1-score y support\n",
        "print(metrics.classification_report(test_labels, test_labels_pred, digits=3))"
      ],
      "execution_count": 27,
      "outputs": [
        {
          "output_type": "stream",
          "text": [
            "[[57  1  6  0  0  0  1]\n",
            " [ 1 17  3 17  2  3  2]\n",
            " [12  1 20  0  0  1  2]\n",
            " [ 1 12  1 18  2  4  1]\n",
            " [ 3  7  1  3 20  4  4]\n",
            " [ 3  0  0  3  3 29  6]\n",
            " [ 0  2  1  0  4  3 39]]\n",
            "              precision    recall  f1-score   support\n",
            "\n",
            "     circulo      0.740     0.877     0.803        65\n",
            "    cuadrado      0.425     0.378     0.400        45\n",
            "      elipse      0.625     0.556     0.588        36\n",
            "  rectangulo      0.439     0.462     0.450        39\n",
            "       rombo      0.645     0.476     0.548        42\n",
            "    trapecio      0.659     0.659     0.659        44\n",
            "   triangulo      0.709     0.796     0.750        49\n",
            "\n",
            "    accuracy                          0.625       320\n",
            "   macro avg      0.606     0.600     0.600       320\n",
            "weighted avg      0.618     0.625     0.618       320\n",
            "\n"
          ],
          "name": "stdout"
        }
      ]
    }
  ]
}